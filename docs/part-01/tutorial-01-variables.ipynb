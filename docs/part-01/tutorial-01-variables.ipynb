{
  "cells": [
    {
      "cell_type": "markdown",
      "metadata": {},
      "source": [
        "# Tutorial I.I - Variables and Types\n",
        "\n",
        "Programming: Everyday Decision-Making Algorithms\n",
        "\n",
        "# Introduction\n",
        "\n",
        "Welcome to this interactive Python tutorial on variables, types, and\n",
        "algorithmic thinking! We’ll explore these concepts through the lens of\n",
        "optimization problems, specifically using the famous “Secretary Problem”\n",
        "as our running example.\n",
        "\n",
        "The Secretary Problem asks: “If you need to hire the best candidate, and\n",
        "you can only interview candidates one at a time (with no going back),\n",
        "when should you stop and make an offer?” This is a perfect example of\n",
        "optimal stopping and will help us understand how variables and data\n",
        "types play crucial roles in algorithmic thinking. To make the problem\n",
        "more interesting, we will use the Secretary Problem to help us make\n",
        "better dating decisions! The question is thus: **When should you stop\n",
        "dating and commit to someone?**\n",
        "\n",
        "Known academically as the “Optimal Stopping Problem” or “The Marriage\n",
        "Problem”, it asks: If you want to find the best possible partner, and\n",
        "you can only date one person at a time (no going back to previous\n",
        "dates!), when should you stop dating and propose?\n",
        "\n",
        "Let’s learn how to use Python to help us in order to make better dating\n",
        "decisions!\n",
        "\n",
        "# Section 1 - Variables: Tracking Your Dating Life\n",
        "\n",
        "Just like you keep track of important things in dating (name, phone\n",
        "number, red flags), in Python we use variables to store information:"
      ],
      "id": "d71e9249-0259-4903-9dfd-8a8a5e9481b8"
    },
    {
      "cell_type": "code",
      "execution_count": 1,
      "metadata": {},
      "outputs": [],
      "source": [
        "date_name = \"Alexander\"         # Current date's name\n",
        "red_flags = 0                   # Count of red flags noticed\n",
        "butterflies_felt = True         # Do I feel butterflies?\n",
        "compatibility_score = 8.5       # On a scale of 1-10, how compatible are we?"
      ],
      "id": "c54f0e99"
    },
    {
      "cell_type": "markdown",
      "metadata": {},
      "source": [
        "Variables in Python are like containers that store information. When we\n",
        "write `date_name = \"Alexander\"`, we’re:\n",
        "\n",
        "1.  Creating a container called `date_name`\n",
        "2.  Putting the value “Alexander” inside it\n",
        "3.  Telling Python this is a text value (string)\n",
        "\n",
        "Notice how we use meaningful variable names that describe what they\n",
        "contain:\n",
        "\n",
        "-   `date_name` is better than just `name`\n",
        "-   `red_flags` is clearer than just `flags`\n",
        "-   `butterflies_felt` clearly indicates a yes/no feeling\n",
        "\n",
        "## Exercise 1.1 - First Date Setup\n",
        "\n",
        "Create a variable `currently_dating` and set it to `False` (because\n",
        "we’re starting our dating journey)."
      ],
      "id": "16876d2f-ea95-404a-839b-3a30c8c848cf"
    },
    {
      "cell_type": "code",
      "execution_count": 2,
      "metadata": {},
      "outputs": [],
      "source": [
        "# YOUR CODE BELOW"
      ],
      "id": "3d5cde27"
    },
    {
      "cell_type": "code",
      "execution_count": 3,
      "metadata": {},
      "outputs": [],
      "source": [
        "# Test your answer\n",
        "assert currently_dating == False, \"Let's start fresh - set currently_dating to False!\"\n",
        "print(\"Ready to start dating! We have defined the variable `currently_dating` as boolean.\")"
      ],
      "id": "b0a41570"
    },
    {
      "cell_type": "markdown",
      "metadata": {},
      "source": [
        "## Exercise 1.2 - Dream Date\n",
        "\n",
        "Create a variable `dream_date_name` with your ideal date’s name (let’s\n",
        "say “Mika”)."
      ],
      "id": "987eff39-8a8b-4d78-8f40-50b644ebb944"
    },
    {
      "cell_type": "code",
      "execution_count": 4,
      "metadata": {},
      "outputs": [],
      "source": [
        "# YOUR CODE BELOW"
      ],
      "id": "75dc7f5a"
    },
    {
      "cell_type": "code",
      "execution_count": 5,
      "metadata": {},
      "outputs": [],
      "source": [
        "# Test your answer\n",
        "assert dream_date_name == \"Mika\", \"Let's use 'Mika' as our dream date's name\"\n",
        "print(f\"We have defined a string variable for our dream date. Now, we are looking for {dream_date_name}!\")"
      ],
      "id": "11c96815"
    },
    {
      "cell_type": "markdown",
      "metadata": {},
      "source": [
        "# Section 2 - Types: Different Kinds of Dating Data\n",
        "\n",
        "Just like dating involves different types of information, Python has\n",
        "different types for different kinds of data:\n",
        "\n",
        "-   Integers (int): Counting things (number of dates, red flags)\n",
        "-   Floats (float): Ratings and scores (compatibility score)\n",
        "-   Booleans (bool): Yes/no information (are they single?)\n",
        "-   Strings (str): Text (names, favorite food)\n",
        "\n",
        "Why do types matter? Because: - They determine what operations we can\n",
        "perform (you can’t divide names!) - They affect how much memory the\n",
        "computer needs - They help prevent errors in our code"
      ],
      "id": "bd0a1211-653f-494d-9163-fc40fa562ff9"
    },
    {
      "cell_type": "code",
      "execution_count": 6,
      "metadata": {},
      "outputs": [],
      "source": [
        "dates_gone_on = 0                    # int: keeping count\n",
        "chemistry_level = 9.5                # float: rating of that spark!\n",
        "is_single = True                     # bool: availability\n",
        "favorite_food = \"Sushi\"              # str: important info!"
      ],
      "id": "8ce00dd1"
    },
    {
      "cell_type": "markdown",
      "metadata": {},
      "source": [
        "You can check a variable’s type using the `type()` function.\n",
        "\n",
        "## Exercise 2.1 - Dating Score\n",
        "\n",
        "Create a float variable `minimum_rating` and set it to `7.0` (our\n",
        "standards are high!). Of course, we don’t objectify people and rate\n",
        "their appearance, we rate the compatibility. We just want to find the\n",
        "best possible partner!"
      ],
      "id": "1addc30b-eb58-4f35-9b45-71dca145d8ad"
    },
    {
      "cell_type": "code",
      "execution_count": 7,
      "metadata": {},
      "outputs": [],
      "source": [
        "# YOUR CODE BELOW"
      ],
      "id": "4ed6a1e4"
    },
    {
      "cell_type": "code",
      "execution_count": 8,
      "metadata": {},
      "outputs": [],
      "source": [
        "# Test your answer\n",
        "assert minimum_rating == 7.0 and isinstance(minimum_rating, float), \"Set your standards (minimum_rating) to 7.0!\"\n",
        "print(f\"We won't settle for less than {minimum_rating}/10, where the minimum rating is defined as a float!\")"
      ],
      "id": "202fc8f0"
    },
    {
      "cell_type": "markdown",
      "metadata": {},
      "source": [
        "## Exercise 2.2 - Dating History\n",
        "\n",
        "Create an integer variable `past_relationships` and set it to `0`."
      ],
      "id": "43396496-e163-4b9b-9c6a-efd80f15b231"
    },
    {
      "cell_type": "code",
      "execution_count": 9,
      "metadata": {},
      "outputs": [],
      "source": [
        "# YOUR CODE BELOW"
      ],
      "id": "e1c1f43e"
    },
    {
      "cell_type": "code",
      "execution_count": 10,
      "metadata": {},
      "outputs": [],
      "source": [
        "# Test your answer\n",
        "assert past_relationships == 0 and isinstance(past_relationships, int), \"Let's start fresh with 0 past relationships\"\n",
        "print(\"Clean slate, although likely not true! We have defined the variable `past_relationships` as an integer and are ready to start dating!\")"
      ],
      "id": "7d4c5947"
    },
    {
      "cell_type": "markdown",
      "metadata": {},
      "source": [
        "# Section 3 - Making Dating Decisions\n",
        "\n",
        "In optimal stopping for dating, the math says you should date and reject\n",
        "the first 37% of your dating pool, then commit to the next person who’s\n",
        "better than everyone you’ve met before! Let’s track this:"
      ],
      "id": "a6ddda57-3043-4bb1-ac20-48a35b655c6f"
    },
    {
      "cell_type": "code",
      "execution_count": 11,
      "metadata": {},
      "outputs": [],
      "source": [
        "dating_pool = 100 # The number of people we will date\n",
        "exploration_phase = int(dating_pool * 0.37)  # The 37% rule\n",
        "print(f\"Date (and reject) the first {exploration_phase} people\")"
      ],
      "id": "4576629a"
    },
    {
      "cell_type": "markdown",
      "metadata": {},
      "source": [
        "Python provides several functions to convert between different types:\n",
        "\n",
        "-   `int()`: Converts to integer\n",
        "    -   `int(\"37\")` → `37`\n",
        "    -   `int(37.8)` → `37` (truncates decimal)\n",
        "-   `float()`: Converts to float\n",
        "    -   `float(\"37.5\")` → `37.5`\n",
        "    -   `float(37)` → `37.0`\n",
        "-   `str()`: Converts to string\n",
        "    -   `str(37)` → `\"37\"`\n",
        "    -   `str(37.5)` → `\"37.5\"`\n",
        "-   `bool()`: Converts to boolean\n",
        "    -   `bool(1)` → `True`\n",
        "    -   `bool(0)` → `False`\n",
        "    -   `bool(\"\")` → `False`\n",
        "    -   `bool(\"hello\")` → `True`\n",
        "\n",
        "## Exercise 3.1 - Decision Point\n",
        "\n",
        "Convert the string `\"37\"` into an integer variable named\n",
        "`stopping_point`."
      ],
      "id": "ce72e4c2-9af8-4133-ae7d-8d9cbb5e8678"
    },
    {
      "cell_type": "code",
      "execution_count": 12,
      "metadata": {},
      "outputs": [],
      "source": [
        "stopping_point = \"37\"\n",
        "# YOUR CODE BELOW\n"
      ],
      "id": "6da522fc"
    },
    {
      "cell_type": "code",
      "execution_count": 13,
      "metadata": {},
      "outputs": [],
      "source": [
        "# Test your answer\n",
        "assert isinstance(stopping_point, int) and stopping_point == 37, \"Convert '37' to an integer\"\n",
        "print(f\"After person {stopping_point}, we'll get serious about finding the best possible partner.\")"
      ],
      "id": "e7aac042"
    },
    {
      "cell_type": "markdown",
      "metadata": {},
      "source": [
        "When converting strings to numbers: - Make sure the string contains only\n",
        "numeric characters - Use `int()` for whole numbers - Use `float()` if\n",
        "you need decimal points\n",
        "\n",
        "# Section 4 - Dating Profile Output\n",
        "\n",
        "Let’s create a nice dating profile using string formatting:"
      ],
      "id": "5ca494f7-e63e-4698-a25c-3f19af34a781"
    },
    {
      "cell_type": "code",
      "execution_count": 14,
      "metadata": {},
      "outputs": [],
      "source": [
        "name = \"Casey\"\n",
        "age = 25\n",
        "bio = f\"{name}, {age} - Looking for someone special!\""
      ],
      "id": "858e5552"
    },
    {
      "cell_type": "markdown",
      "metadata": {},
      "source": [
        "## Exercise 4.1 - Profile Message\n",
        "\n",
        "We have already defined the variables `name` and `minimum_rating`. Now\n",
        "we want to use them in the context of a formatted string. You have\n",
        "already seen how to do this in the previous cells, but not explicitly.\n",
        "String formatting is a powerful tool in Python that allows you to insert\n",
        "variables into strings. We do so by using curly braces `{}` around the\n",
        "variable names and with the `f` prefix before the string. For example:"
      ],
      "id": "4be7f2c6-da67-4b34-844b-faa044a40678"
    },
    {
      "cell_type": "code",
      "execution_count": 15,
      "metadata": {},
      "outputs": [],
      "source": [
        "f\"Hello, {name}! Nice to meet you.\""
      ],
      "id": "4eece7e8"
    },
    {
      "cell_type": "markdown",
      "metadata": {},
      "source": [
        "Here, `{name}` will insert the value of `name` into the string if the\n",
        "variable `name` is defined.\n",
        "\n",
        "Create a formatted string `profile_message` using the variables `name`\n",
        "and `minimum_rating` that says “Looking for {name} (must be at least\n",
        "{minimum_rating}/10)”."
      ],
      "id": "845d6878-5729-4be4-8156-be0e2c2f418c"
    },
    {
      "cell_type": "code",
      "execution_count": 16,
      "metadata": {},
      "outputs": [],
      "source": [
        "# YOUR CODE BELOW"
      ],
      "id": "e2c67f93"
    },
    {
      "cell_type": "code",
      "execution_count": 17,
      "metadata": {},
      "outputs": [],
      "source": [
        "# Test your answer\n",
        "assert profile_message == \"Looking for Casey (must be at least 7.0/10)\", \"Format your dating profile message correctly!\"\n",
        "print(\"Your dating profile is ready!\")"
      ],
      "id": "c830c3a1"
    },
    {
      "cell_type": "markdown",
      "metadata": {},
      "source": [
        "# Conclusion\n",
        "\n",
        "Congratulations! You’ve learned about Python variables and types through\n",
        "the lens of dating optimization!\n",
        "\n",
        "Remember:\n",
        "\n",
        "-   Variables help track your dating journey\n",
        "-   Different types handle different kinds of dating data\n",
        "-   The 37% rule suggests when to get serious\n",
        "-   String formatting helps create the perfect dating profile\n",
        "\n",
        "Dating tip: While this mathematical approach is a good starting point,\n",
        "remember that love isn’t always logical! We haven’t considered the\n",
        "emotional aspects of dating yet or the fact that we might not be the\n",
        "best partner for each other.\n",
        "\n",
        "------------------------------------------------------------------------\n",
        "\n",
        "# Solutions\n",
        "\n",
        "You will likely find solutions to most exercises online. However, we\n",
        "strongly encourage you to work on these exercises independently without\n",
        "searching explicitly for the exact answers to the exercises.\n",
        "Understanding someone else’s solution is very different from developing\n",
        "your own. Use the lecture notes and try to solve the exercises on your\n",
        "own. This approach will significantly enhance your learning and\n",
        "problem-solving skills.\n",
        "\n",
        "Remember, the goal is not just to complete the exercises, but to\n",
        "understand the concepts and improve your programming abilities. If you\n",
        "encounter difficulties, review the lecture materials, experiment with\n",
        "different approaches, and don’t hesitate to ask for clarification during\n",
        "class discussions.\n",
        "\n",
        "Later, you will find the solutions to these exercises online in the\n",
        "associated GitHub repository, but we will also quickly go over them next\n",
        "week. To access the solutions, click on the Github button on the lower\n",
        "right and search for the folder with today’s lecture and tutorial.\n",
        "Alternatively, you can ask ChatGPT or Claude to explain them to you. But\n",
        "please remember, the goal is not just to complete the exercises, but to\n",
        "understand the concepts and improve your programming abilities.\n",
        "\n",
        "------------------------------------------------------------------------\n",
        "\n",
        "*Continue to the next tutorial to learn about comparisons and\n",
        "conditionals in the context of the optimal stopping problem!*"
      ],
      "id": "e684230e-8fc3-4316-9403-338aaa78974f"
    }
  ],
  "nbformat": 4,
  "nbformat_minor": 5,
  "metadata": {
    "kernelspec": {
      "name": "python3",
      "display_name": "Python 3 (ipykernel)",
      "language": "python",
      "path": "/Library/Frameworks/Python.framework/Versions/3.12/share/jupyter/kernels/python3"
    }
  }
}