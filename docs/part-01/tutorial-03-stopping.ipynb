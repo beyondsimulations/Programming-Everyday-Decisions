{
  "cells": [
    {
      "cell_type": "markdown",
      "metadata": {},
      "source": [
        "# Tutorial I.III - Making Decisions\n",
        "\n",
        "Programming: Everyday Decision-Making Algorithms\n",
        "\n",
        "# Introduction\n",
        "\n",
        "Imagine you’re searching for a new apartment. You view a flat - should\n",
        "you take it or keep looking for something better? This is another\n",
        "classic optimal stopping problem! Just like in dating or hiring, you\n",
        "need to decide when to stop searching.\n",
        "\n",
        "In this tutorial, we’ll learn how computers make decisions using `if`\n",
        "and `else` statements. These are like the “if this, then that” decisions\n",
        "we make every day!\n",
        "\n",
        "# 1 - Understanding If Statements\n",
        "\n",
        "An `if` statement is like asking a yes/no question and doing something\n",
        "based on the answer. For example:"
      ],
      "id": "7e8d2a08-70f1-4582-a9df-f9a6131c6837"
    },
    {
      "cell_type": "code",
      "execution_count": 1,
      "metadata": {},
      "outputs": [
        {
          "output_type": "stream",
          "name": "stdout",
          "text": [
            "This is a good apartment!"
          ]
        }
      ],
      "source": [
        "flat_rating = 8  # Rate the flat from 0-10\n",
        "\n",
        "if flat_rating >= 7:\n",
        "    print(\"This is a good apartment!\")"
      ],
      "id": "00517795"
    },
    {
      "cell_type": "markdown",
      "metadata": {},
      "source": [
        "The structure is:\n",
        "\n",
        "1.  The word `if`\n",
        "2.  A condition that’s either True or False\n",
        "3.  A colon `:`\n",
        "4.  **Indented** code that runs if the condition is True\n",
        "\n",
        "> **Tip**\n",
        ">\n",
        "> Think of `if` statements like everyday decisions:\n",
        ">\n",
        "> -   IF it’s within budget, view it\n",
        "> -   IF the flat is good, apply for it\n",
        "> -   IF it has enough rooms, add it to the shortlist\n",
        ">\n",
        "> Computer `if` statements work exactly the same way! They check a\n",
        "> condition and then do something based on that check.\n",
        "\n",
        "> **Important**\n",
        ">\n",
        "> Common Mistakes with If Statements:\n",
        ">\n",
        "> 1.  Forgetting the colon `:` after the condition\n",
        "> 2.  **Incorrect indentation** of the code block\n",
        "> 3.  Using `=` (assignment) instead of `==` (comparison)\n",
        "> 4.  Forgetting that the condition must result in `True` or `False`\n",
        "\n",
        "## Exercise 1.1 - Your First Decision\n",
        "\n",
        "Create an `if` statement that prints “Perfect flat!” if the\n",
        "`flat_rating` is 10."
      ],
      "id": "830f25a4-911a-4801-99b5-02c7bd5272d6"
    },
    {
      "cell_type": "code",
      "execution_count": 2,
      "metadata": {},
      "outputs": [],
      "source": [
        "flat_rating = 10\n",
        "# YOUR CODE BELOW\n",
        "\n",
        "# Test your answer yourself - the cell should print \"Perfect flat!\" if executed correctly"
      ],
      "id": "46934b7f"
    },
    {
      "cell_type": "markdown",
      "metadata": {},
      "source": [
        "# 2 - Adding Else Statements\n",
        "\n",
        "But what if we want to do something different when the condition is\n",
        "False? That’s where `else` comes in:"
      ],
      "id": "04a48b7f-4a26-43ef-a7ed-78428e9af4a4"
    },
    {
      "cell_type": "code",
      "execution_count": 3,
      "metadata": {},
      "outputs": [
        {
          "output_type": "stream",
          "name": "stdout",
          "text": [
            "Keep searching!"
          ]
        }
      ],
      "source": [
        "flat_rating = 4  # Not a great flat!\n",
        "\n",
        "if flat_rating >= 7:\n",
        "    print(\"Apply for this flat!\")\n",
        "else:\n",
        "    print(\"Keep searching!\")"
      ],
      "id": "44359385"
    },
    {
      "cell_type": "markdown",
      "metadata": {},
      "source": [
        "The structure is:\n",
        "\n",
        "1.  An `if` statement with its condition\n",
        "2.  Code to run if True\n",
        "3.  The word `else` and a colon `:`\n",
        "4.  Indented code to run if False\n",
        "\n",
        "> **Tip**\n",
        ">\n",
        "> Think of `if-else` like complete either/or decisions:\n",
        ">\n",
        "> -   IF it’s within budget, schedule viewing, ELSE skip it\n",
        "> -   IF the location is good, consider it, ELSE keep searching\n",
        "> -   IF all criteria are met, apply now, ELSE continue looking\n",
        ">\n",
        "> The `else` statement is our backup plan!\n",
        "\n",
        "## Exercise 2.1 - Complete Decision\n",
        "\n",
        "Write an if-else statement that sets `decision` to “Apply now” if\n",
        "`flat_rating` is at least 7, and “Keep searching” otherwise."
      ],
      "id": "bbcac046-52e8-45b5-beb5-0ab8325c0cda"
    },
    {
      "cell_type": "code",
      "execution_count": 4,
      "metadata": {},
      "outputs": [],
      "source": [
        "flat_rating = 6\n",
        "decision = \"\"\n",
        "# YOUR CODE BELOW"
      ],
      "id": "058b8762"
    },
    {
      "cell_type": "code",
      "execution_count": 5,
      "metadata": {},
      "outputs": [],
      "source": [
        "# Test your answer\n",
        "assert decision == \"Keep searching\", \"The decision should be 'Keep searching' as the flat rating is less than 7\"\n",
        "print(f\"Decision: {decision} as the flat rating is {flat_rating}\")"
      ],
      "id": "3c2c8c5c"
    },
    {
      "cell_type": "markdown",
      "metadata": {},
      "source": [
        "> **Tip**\n",
        ">\n",
        "> Writing Better If-Else Statements:\n",
        ">\n",
        "> 1.  Keep your conditions simple and readable\n",
        "> 2.  Use meaningful variable names\n",
        "> 3.  Consider what should happen in both cases\n",
        "> 4.  Test both paths to make sure they work\n",
        "\n",
        "# 3 - Adding Elif (Else If)\n",
        "\n",
        "Sometimes we need more than two options. That’s where `elif` comes in:"
      ],
      "id": "20ce8cfc-eda8-47fd-ac4c-b5b1d9f72c8b"
    },
    {
      "cell_type": "code",
      "execution_count": 6,
      "metadata": {},
      "outputs": [
        {
          "output_type": "stream",
          "name": "stdout",
          "text": [
            "Good flat - consider applying"
          ]
        }
      ],
      "source": [
        "flat_rating = 8\n",
        "\n",
        "if flat_rating >= 9:\n",
        "    print(\"Amazing flat - apply immediately!\")\n",
        "elif flat_rating >= 7:\n",
        "    print(\"Good flat - consider applying\")\n",
        "elif flat_rating >= 5:\n",
        "    print(\"Mediocre flat - keep it as backup\")\n",
        "else:\n",
        "    print(\"Poor flat - definitely keep looking\")"
      ],
      "id": "88308ce8"
    },
    {
      "cell_type": "markdown",
      "metadata": {},
      "source": [
        "The structure adds:\n",
        "\n",
        "-   Multiple `elif` conditions between `if` and `else`\n",
        "-   Each condition is checked in order\n",
        "-   The first True condition runs its code\n",
        "\n",
        "> **Tip**\n",
        ">\n",
        "> Think of `elif` like multiple-choice decisions:\n",
        ">\n",
        "> -   IF it’s perfect → apply immediately\n",
        "> -   ELIF it’s good → schedule second viewing\n",
        "> -   ELIF it’s okay → keep as backup\n",
        "> -   ELSE → continue searching\n",
        ">\n",
        "> It’s like a flowchart where only one path can be taken!\n",
        "\n",
        "> **Warning**\n",
        ">\n",
        "> Important Elif Rules:\n",
        ">\n",
        "> 1.  Order matters! Put more specific conditions first\n",
        "> 2.  Only one block will execute\n",
        "> 3.  `elif` must come after `if` and before `else`\n",
        "> 4.  You can have as many `elif` blocks as you need\n",
        "\n",
        "## Exercise 3.1 - Apartment Categories\n",
        "\n",
        "Create a variable `flat_category` that is:\n",
        "\n",
        "-   “Luxury” if rating is 9 or 10\n",
        "-   “Premium” if rating is 7 or 8\n",
        "-   “Standard” if rating is 5 or 6\n",
        "-   “Basic” for anything lower"
      ],
      "id": "21c670a6-f9c9-4677-b252-7ce9732c8518"
    },
    {
      "cell_type": "code",
      "execution_count": 7,
      "metadata": {},
      "outputs": [],
      "source": [
        "flat_rating = 8\n",
        "flat_category = \"\"\n",
        "# YOUR CODE BELOW"
      ],
      "id": "5e3383f6"
    },
    {
      "cell_type": "code",
      "execution_count": 8,
      "metadata": {},
      "outputs": [],
      "source": [
        "# Test your answer\n",
        "assert flat_category == \"Premium\", \"The flat category should be 'Premium' as the flat rating is 8\"\n",
        "print(f\"Flat Category: {flat_category} as the flat rating is {flat_rating}\")"
      ],
      "id": "a292c040"
    },
    {
      "cell_type": "markdown",
      "metadata": {},
      "source": [
        "# 4 - Complex Decisions\n",
        "\n",
        "In real life, we often need to check multiple conditions at once. We can\n",
        "combine conditions using `and` and `or`:"
      ],
      "id": "bcbd0b19-0e43-45e3-872f-b679c4b03727"
    },
    {
      "cell_type": "code",
      "execution_count": 9,
      "metadata": {},
      "outputs": [
        {
          "output_type": "stream",
          "name": "stdout",
          "text": [
            "Take this flat - it's good enough and we still have time!"
          ]
        }
      ],
      "source": [
        "flat_rating = 8\n",
        "weeks_searching = 3\n",
        "max_search_time = 4\n",
        "\n",
        "if (flat_rating >= 7) and (weeks_searching < max_search_time):\n",
        "    print(\"Take this flat - it's good enough and we still have time!\")\n",
        "elif (flat_rating >= 9) or (weeks_searching >= max_search_time):\n",
        "    print(\"Take this flat - either it's perfect or we're out of time!\")\n",
        "else:\n",
        "    print(\"Keep looking!\")"
      ],
      "id": "9fbf3906"
    },
    {
      "cell_type": "markdown",
      "metadata": {},
      "source": [
        "> **Tip**\n",
        ">\n",
        "> Tips for Complex Conditions:\n",
        ">\n",
        "> -   Use parentheses to make your logic clear\n",
        "> -   Break very complex conditions into smaller parts\n",
        "> -   Test edge cases to make sure your logic works\n",
        "\n",
        "## Exercise 4.1 - Real World Flat Hunting\n",
        "\n",
        "Create a variable `should_apply` that is True if:\n",
        "\n",
        "-   The flat rating is at least 8, OR\n",
        "-   The flat rating is at least 6 AND we’ve been searching for 3 weeks\n",
        "    or more"
      ],
      "id": "dcb2a810-ef71-43aa-9949-b5bb5724be87"
    },
    {
      "cell_type": "code",
      "execution_count": 10,
      "metadata": {},
      "outputs": [],
      "source": [
        "flat_rating = 6\n",
        "weeks_searching = 4\n",
        "should_apply = False\n",
        "# YOUR CODE BELOW"
      ],
      "id": "8a70e826"
    },
    {
      "cell_type": "code",
      "execution_count": 11,
      "metadata": {},
      "outputs": [],
      "source": [
        "# Test your answer\n",
        "assert should_apply == True, \"The flat rating is 6 and we've been searching for 4 weeks, so we should apply\"\n",
        "print(f\"Should we apply? {should_apply} as the flat rating is {flat_rating} and we've been searching for {weeks_searching} weeks\")"
      ],
      "id": "59188066"
    },
    {
      "cell_type": "markdown",
      "metadata": {},
      "source": [
        "# 5 - The 37% Rule with Decisions\n",
        "\n",
        "Remember the optimal stopping rule? Let’s apply it to apartment hunting:"
      ],
      "id": "f12b80aa-fce4-4917-91ac-56c99f1bc4ce"
    },
    {
      "cell_type": "code",
      "execution_count": 12,
      "metadata": {},
      "outputs": [
        {
          "output_type": "stream",
          "name": "stdout",
          "text": [
            "Apply for this flat!"
          ]
        }
      ],
      "source": [
        "flats_seen = 6\n",
        "total_viewings = 15\n",
        "current_rating = 8\n",
        "best_rating_so_far = 7\n",
        "\n",
        "# Calculate if we've passed 37% of viewings\n",
        "threshold_passed = flats_seen >= (total_viewings * 0.37)\n",
        "\n",
        "if not threshold_passed:\n",
        "    print(\"Keep looking - still in observation phase\")\n",
        "elif current_rating > best_rating_so_far:\n",
        "    print(\"Apply for this flat!\")\n",
        "else:\n",
        "    print(\"Keep looking - waiting for better than our best\")"
      ],
      "id": "a54a157e"
    },
    {
      "cell_type": "markdown",
      "metadata": {},
      "source": [
        "## Exercise 5.1 - Implement the Rule\n",
        "\n",
        "Adjust the code below to change the variable `make_application` to True\n",
        "if:\n",
        "\n",
        "-   We’ve seen at least 37% of available flats (use 15 total flats), AND\n",
        "-   The current flat is better than the best we’ve seen so far"
      ],
      "id": "b9f82ecc-805e-48da-a48e-93f868698e4d"
    },
    {
      "cell_type": "code",
      "execution_count": 13,
      "metadata": {},
      "outputs": [],
      "source": [
        "flats_seen = 6  # We've seen 6 flats\n",
        "total_viewings = 15  # We plan to view 15 flats in total\n",
        "current_rating = 9\n",
        "best_rating_so_far = 8\n",
        "make_application = False\n",
        "# YOUR CODE BELOW"
      ],
      "id": "adf5c116"
    },
    {
      "cell_type": "code",
      "execution_count": 14,
      "metadata": {},
      "outputs": [],
      "source": [
        "# Test your answer\n",
        "assert make_application == True, \"The flat rating is 9 and we've been searching for 4 weeks, so we should apply\"\n",
        "print(f\"Should we apply for this flat? {make_application}\")"
      ],
      "id": "531f8157"
    },
    {
      "cell_type": "markdown",
      "metadata": {},
      "source": [
        "# Conclusion\n",
        "\n",
        "Great work! You’ve learned how to make decisions in Python using:\n",
        "\n",
        "-   Simple if statements\n",
        "-   if-else statements\n",
        "-   elif for multiple conditions\n",
        "-   Complex decisions with and/or\n",
        "-   Applying these to real-world stopping problems\n",
        "\n",
        "Remember, just like in apartment hunting, these tools help us make\n",
        "better decisions in any situation where we need to decide whether to\n",
        "take what we have or keep looking for something better!\n",
        "\n",
        "------------------------------------------------------------------------\n",
        "\n",
        "# Solutions\n",
        "\n",
        "You will likely find solutions to most exercises online. However, we\n",
        "strongly encourage you to work on these exercises independently without\n",
        "searching explicitly for the exact answers to the exercises.\n",
        "Understanding someone else’s solution is very different from developing\n",
        "your own. Use the lecture notes and try to solve the exercises on your\n",
        "own. This approach will significantly enhance your learning and\n",
        "problem-solving skills.\n",
        "\n",
        "Remember, the goal is not just to complete the exercises, but to\n",
        "understand the concepts and improve your programming abilities. If you\n",
        "encounter difficulties, review the lecture materials, experiment with\n",
        "different approaches, and don’t hesitate to ask for clarification during\n",
        "class discussions.\n",
        "\n",
        "Later, you will find the solutions to these exercises online in the\n",
        "associated GitHub repository, but we will also quickly go over them next\n",
        "week. To access the solutions, click on the Github button on the lower\n",
        "right and search for the folder with today’s lecture and tutorial.\n",
        "Alternatively, you can ask ChatGPT or Claude to explain them to you. But\n",
        "please remember, the goal is not just to complete the exercises, but to\n",
        "understand the concepts and improve your programming abilities.\n",
        "\n",
        "*That’s it for part I! Next week, we’ll apply these skills exploration\n",
        "and exploitation!*"
      ],
      "id": "8ea27766-683d-4a40-bd3a-a2f82be3559e"
    }
  ],
  "nbformat": 4,
  "nbformat_minor": 5,
  "metadata": {
    "kernelspec": {
      "name": "python3",
      "display_name": "Python 3 (ipykernel)",
      "language": "python",
      "path": "/Library/Frameworks/Python.framework/Versions/3.12/share/jupyter/kernels/python3"
    },
    "language_info": {
      "name": "python",
      "codemirror_mode": {
        "name": "ipython",
        "version": "3"
      },
      "file_extension": ".py",
      "mimetype": "text/x-python",
      "nbconvert_exporter": "python",
      "pygments_lexer": "ipython3",
      "version": "3.12.3"
    }
  }
}