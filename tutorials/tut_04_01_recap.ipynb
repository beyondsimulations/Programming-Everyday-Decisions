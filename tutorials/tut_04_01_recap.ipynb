{
  "cells": [
    {
      "cell_type": "markdown",
      "metadata": {},
      "source": [
        "# Tutorial IV.I - Recap\n",
        "\n",
        "Programming: Everyday Decision-Making Algorithms\n",
        "\n",
        "# Introduction\n",
        "\n",
        "To get you started again on the topics of the last lecture, we’ll go\n",
        "through a recap of th previous concepts before we start with some new\n",
        "concepts. In this tutorial, we’ll apply Python programming concepts to\n",
        "solve common scheduling problems to make better scheduling decisions!\n",
        "\n",
        "Imagine you’re managing “The Python Café”. Every day, you face these\n",
        "challenges:\n",
        "\n",
        "-   Managing multiple baristas’ schedules\n",
        "-   Prioritizing customer orders\n",
        "-   Balancing preparation times with deadlines\n",
        "-   Handling rush hour efficiently\n",
        "\n",
        "# Section 1 - Task Lists and Times\n",
        "\n",
        "Let’s start with a simple scheduling problem. In a coffee shop,\n",
        "different drinks take different amounts of time to prepare. We’ll use\n",
        "two parallel lists to track drinks and their preparation times.\n",
        "\n",
        "Here’s an example of how a coffee shop menu might look:\n",
        "\n",
        "``` python\n",
        "example_drinks = [\"Espresso\", \"Latte\", \"Cappuccino\"]\n",
        "```\n",
        "\n",
        "Remember how to create lists from the previous lecture? Lists are\n",
        "created using square brackets `[]`. In contrast to tuples, lists are\n",
        "mutable, meaning you can change their content after they are created.\n",
        "\n",
        "## Exercise 1.1 - Create Menu Lists\n",
        "\n",
        "Create two lists: 1. `drinks` containing at least 5 different drink\n",
        "names of your choice 2. `prep_times` containing the preparation time (in\n",
        "minutes) for each drink in the same order"
      ],
      "id": "52f786f3-c63a-4e99-8ce1-af25e150c9bd"
    },
    {
      "cell_type": "code",
      "execution_count": 1,
      "metadata": {},
      "outputs": [],
      "source": [
        "# YOUR CODE HERE"
      ],
      "id": "4f1eb131"
    },
    {
      "cell_type": "code",
      "execution_count": 2,
      "metadata": {},
      "outputs": [],
      "source": [
        "# Test your answer\n",
        "assert isinstance(drinks, list), \"drinks should be a list\"\n",
        "assert isinstance(prep_times, list), \"prep_times should be a list\"\n",
        "assert len(drinks) >= 5, \"Include at least 5 drinks\"\n",
        "assert len(drinks) == len(prep_times), \"Each drink needs a preparation time\"\n",
        "assert all(isinstance(t, (int, float)) for t in prep_times), \"All times should be numbers\"\n",
        "print(\"Great! Your menu lists have been created.\")"
      ],
      "id": "bf255ef5"
    },
    {
      "cell_type": "markdown",
      "metadata": {},
      "source": [
        "# Section 2 - Shortest Processing Time\n",
        "\n",
        "One effective scheduling strategy is to handle the quickest tasks first.\n",
        "This minimizes average waiting time. To find the quickest drink, we can\n",
        "use a inbuilt function in Python, but let’s try to do it by ourselves\n",
        "first with a loop. Remember how to loop through a list from the previous\n",
        "lecture? Loops are created using the `for` keyword. The `for` loop is\n",
        "used to iterate over a sequence (like a list) and execute a block of\n",
        "code for each item in the sequence.\n",
        "\n",
        "> **Common Mistakes in Loops**\n",
        ">\n",
        "> -   **Variable Initialization**: Ensure you have initialized the\n",
        ">     variable that will store the shortest time correctly.\n",
        "> -   **Comparison**: Use the `<` operator to compare the times.\n",
        "> -   **Indentation**: Make sure the code inside the loop is properly\n",
        ">     indented.\n",
        "> -   **Return Statement**: Make sure to return the correct value from\n",
        ">     the function.\n",
        "> -   **Colon**: Don’t forget the colon `:` at the end of the `for`\n",
        ">     statement.\n",
        "\n",
        "## Exercise 2.1 - Find Quickest Drink\n",
        "\n",
        "Create a function `find_quickest_drink` that takes the `drinks` and\n",
        "`prep_times` lists as parameters and returns the name of the drink that\n",
        "takes the least time to prepare. Test your function with the `drinks`\n",
        "and `prep_times` lists you created in the previous exercise and print\n",
        "the result.\n",
        "\n",
        "As this might be a bit tricky, let’s break it down into some steps:\n",
        "\n",
        "1.  Find the shortest time in the `prep_times` list with the `min()`\n",
        "    function\n",
        "2.  Compare each drink’s preparation time with the shortest time\n",
        "3.  Use a for loop to iterate over the `prep_times` list and compare\n",
        "    each time with the shortest time\n",
        "4.  If you want to iterate over the `drinks` list, you can use the\n",
        "    `len()` function inside of the `range()` function and use the index\n",
        "    to get the corresponding drink\n",
        "5.  Return the name of the drink with the shortest preparation time"
      ],
      "id": "823c559d-4708-4a49-a60e-8caa8fa480bf"
    },
    {
      "cell_type": "code",
      "execution_count": 3,
      "metadata": {},
      "outputs": [],
      "source": [
        "# YOUR CODE BELOW"
      ],
      "id": "8ae7b8ca"
    },
    {
      "cell_type": "code",
      "execution_count": 4,
      "metadata": {},
      "outputs": [],
      "source": [
        "# Test your answer\n",
        "assert len(drinks) >= 5, \"Include at least 5 drinks\"\n",
        "assert len(drinks) == len(prep_times), \"Each drink needs a preparation time\"\n",
        "test_drinks = [\"Latte\", \"Espresso\", \"Cappuccino\"]\n",
        "test_times = [5, 2, 4]\n",
        "result = find_quickest_drink(test_drinks, test_times)\n",
        "assert result == \"Espresso\", \"Should return the drink with shortest prep time\"\n",
        "print(\"Perfect! Your function correctly identifies the quickest drink.\")"
      ],
      "id": "33748c03"
    },
    {
      "cell_type": "markdown",
      "metadata": {},
      "source": [
        "# Section 3 - Order Scheduling\n",
        "\n",
        "Sometimes we need to track both the order of tasks and their deadlines.\n",
        "We can use lists of lists for this. Remember the format of a list of\n",
        "lists from the previous lecture? It looks like this:"
      ],
      "id": "f5d5b800-1132-47f1-aca3-2d825f28287e"
    },
    {
      "cell_type": "code",
      "execution_count": 5,
      "metadata": {},
      "outputs": [
        {
          "output_type": "display_data",
          "metadata": {},
          "data": {
            "text/plain": [
              "[['Customer1', 'Drink1'], ['Customer2', 'Drink2']]"
            ]
          }
        }
      ],
      "source": [
        "[\n",
        "    [\"Customer1\", \"Drink1\"],\n",
        "    [\"Customer2\", \"Drink2\"],\n",
        "]"
      ],
      "id": "73af9014"
    },
    {
      "cell_type": "markdown",
      "metadata": {},
      "source": [
        "These lists can also store information based on different variable\n",
        "types. For example, you can store customer names, drinks, prices, and\n",
        "deadlines in a list of lists.\n",
        "\n",
        "## Exercise 3.1 - Create Order List\n",
        "\n",
        "Create a function `create_order_list` that takes four parameters:\n",
        "\n",
        "-   `customer_names` (list): a list of customer names as strings\n",
        "-   `ordered_drinks` (list): a list of drinks as strings\n",
        "-   `prices` (list): a list of prices as floats\n",
        "-   `deadline` (list): a list of deadlines in minutes as integers\n",
        "\n",
        "The function should return a **list of lists** where each inner list\n",
        "contains `[customer_name, drink, price, deadline]`.\n",
        "\n",
        "> **Tip**\n",
        ">\n",
        "> -   Use a for loop to iterate over the `customer_names` list and\n",
        ">     append the corresponding values to the `orders` list\n",
        "> -   Remember that `len(customer_names)` gives you the number of\n",
        ">     customers\n",
        "> -   Use the append method to add a list to the `orders` list"
      ],
      "id": "59381da2-c79e-4c18-968f-3e69655bf6be"
    },
    {
      "cell_type": "code",
      "execution_count": 6,
      "metadata": {},
      "outputs": [],
      "source": [
        "# YOUR CODE BELOW"
      ],
      "id": "d84c7819"
    },
    {
      "cell_type": "code",
      "execution_count": 7,
      "metadata": {},
      "outputs": [],
      "source": [
        "# Test your answer\n",
        "names = [\"Elio\", \"Mischa\", \"Nina\"]\n",
        "drinks = [\"Latte\", \"Espresso\", \"Cappuccino\"]\n",
        "prices = [3.5, 2.5, 4.0]\n",
        "deadline = [10, 5, 15]\n",
        "result = create_order_list(names, drinks, prices, deadline)\n",
        "assert isinstance(result, list), \"Should return a list\"\n",
        "assert len(result) == 3, \"Should have one entry per customer\"\n",
        "assert len(result[0]) == 4, \"Each entry should have 4 elements\"\n",
        "assert result[0][0] == \"Elio\", \"First entry should be Elio's order\"\n",
        "print(\"Excellent! Your order list creator works perfectly.\")"
      ],
      "id": "ebf63148"
    },
    {
      "cell_type": "markdown",
      "metadata": {},
      "source": [
        "# Section 4 - Processing Orders with the Earliest Deadline\n",
        "\n",
        "Let’s create a system to find the order with the earliest deadline.\n",
        "\n",
        "## Exercise 4.1 - Find Earliest Deadline\n",
        "\n",
        "Create a function `find_earliest_deadline` that takes a list of orders\n",
        "(as created in Exercise 3.1) and returns the order (**as a list** and\n",
        "not a list of lists) with the earliest deadline.\n",
        "\n",
        "> **Tip**\n",
        ">\n",
        "> -   Initialize a variable with the lowest found deadline with a high\n",
        ">     value (e.g., 1000000)\n",
        "> -   Initialize a variable with the order that has the lowest deadline\n",
        ">     (first set it to an empty list)\n",
        "> -   Use a for loop to iterate over the `orders` list\n",
        "> -   Inside the loop, compare the deadline of the current order with\n",
        ">     the lowest found deadline"
      ],
      "id": "3b02b1e6-ff50-4c7a-99f9-39a42bac53eb"
    },
    {
      "cell_type": "code",
      "execution_count": 8,
      "metadata": {},
      "outputs": [],
      "source": [
        "# YOUR CODE BELOW\n",
        "\n",
        "\n",
        "# With the test orders below you can test your function\n",
        "test_orders = [\n",
        "    [\"Elio\", \"Latte\", 3.5, 10],\n",
        "    [\"Mischa\", \"Espresso\", 2.5, 5],\n",
        "    [\"Nina\", \"Cappuccino\", 4.0, 15]\n",
        "]\n",
        "print(find_earliest_deadline(test_orders))"
      ],
      "id": "2578fa18"
    },
    {
      "cell_type": "code",
      "execution_count": 9,
      "metadata": {},
      "outputs": [],
      "source": [
        "# Test your answer\n",
        "result = find_earliest_deadline(test_orders)\n",
        "assert result[1] == \"Espresso\", \"Earliest order is Mischa's Espresso\"\n",
        "print(\"Great job! Your function works correctly.\")"
      ],
      "id": "7e2db5ce"
    },
    {
      "cell_type": "markdown",
      "metadata": {},
      "source": [
        "# Conclusion\n",
        "\n",
        "Excellent work! You’ve learned how to apply various scheduling\n",
        "algorithms using Python’s basic data structures. Remember:\n",
        "\n",
        "-   Lists can store related information in parallel\n",
        "-   Functions help organize and reuse code\n",
        "-   Finding the shortest processing time or the earliest deadline helps\n",
        "    optimize task order\n",
        "\n",
        "These concepts apply not just to coffee shops, but to any situation\n",
        "where you need to schedule tasks efficiently!\n",
        "\n",
        "# Solutions\n",
        "\n",
        "You will likely find solutions to most exercises online. However, we\n",
        "strongly encourage you to work on these exercises independently without\n",
        "searching explicitly for the exact answers to the exercises.\n",
        "Understanding someone else’s solution is very different from developing\n",
        "your own. Use the lecture notes and try to solve the exercises on your\n",
        "own. This approach will significantly enhance your learning and\n",
        "problem-solving skills.\n",
        "\n",
        "Remember, the goal is not just to complete the exercises, but to\n",
        "understand the concepts and improve your programming abilities. If you\n",
        "encounter difficulties, review the lecture materials, experiment with\n",
        "different approaches, and don’t hesitate to ask for clarification during\n",
        "class discussions.\n",
        "\n",
        "Later, you will find the solutions to these exercises online in the\n",
        "associated GitHub repository, but we will also quickly go over them next\n",
        "week. To access the solutions, click on the Github button on the lower\n",
        "right and search for the folder with today’s lecture and tutorial.\n",
        "Alternatively, you can ask ChatGPT or Claude to explain them to you. But\n",
        "please remember, the goal is not just to complete the exercises, but to\n",
        "understand the concepts and improve your programming abilities.\n",
        "\n",
        "------------------------------------------------------------------------\n",
        "\n",
        "*In the next tutorial, we’ll dive deeper into dictionaries!*"
      ],
      "id": "6e721147-b506-4770-ac0d-d9f0a8c4c098"
    }
  ],
  "nbformat": 4,
  "nbformat_minor": 5,
  "metadata": {
    "kernelspec": {
      "name": "python3",
      "display_name": "Python 3 (ipykernel)",
      "language": "python",
      "path": "/Users/vlcek/Documents/git-projects/Programming-Everyday-Decisions/.venv/share/jupyter/kernels/python3"
    },
    "language_info": {
      "name": "python",
      "codemirror_mode": {
        "name": "ipython",
        "version": "3"
      },
      "file_extension": ".py",
      "mimetype": "text/x-python",
      "nbconvert_exporter": "python",
      "pygments_lexer": "ipython3",
      "version": "3.12.11"
    }
  }
}