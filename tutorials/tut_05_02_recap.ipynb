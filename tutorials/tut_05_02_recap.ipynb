{
  "cells": [
    {
      "cell_type": "markdown",
      "metadata": {},
      "source": [
        "# Tutorial V.II - Recap with Randomness\n",
        "\n",
        "Programming: Everyday Decision-Making Algorithms\n",
        "\n",
        "# Introduction\n",
        "\n",
        "<span class=\"highlight\">From now on, it is rather difficult to give you\n",
        "tasks that you cannot solve within minutes by yourself with the help of\n",
        "AI</span>. Therefore, today’s tutorial will be more open-ended than\n",
        "usual. All tasks are designed to be solved together with AI, but you are\n",
        "nonetheless the human in the loop. Thus, your responsiblities are to\n",
        "control the AI and to learn how to use it by doing. Instructions and\n",
        "explanations will only be given sparsely, as you are encouraged to use\n",
        "AI to ask for help and explanations to explore the tasks on your own.\n",
        "\n",
        "Let’s explore how randomness affects our daily decision-making. As\n",
        "always, we will use Python and simulate various scenarios where\n",
        "randomness plays a crucial role.\n",
        "\n",
        "# Section 1 - Optimal Stopping with Random Candidates\n",
        "\n",
        "Optimal stopping is a classic problem in decision theory where you want\n",
        "to select the best candidate from a list of candidates. As seen in the\n",
        "lecture, the 37% rule is a simple strategy that can be used to solve\n",
        "this problem.\n",
        "\n",
        "## Exercise 1.1 - The 37% Rule\n",
        "\n",
        "Let’s implement the 37% rule from Optimal Stopping by using random\n",
        "candidates. Your task is to simulate the process of selecting the best\n",
        "candidate out of a list of random candidates. Remember, the 37% rule\n",
        "says that you should reject the first 37% of candidates and then select\n",
        "the next candidate who is better than all previous candidates.\n",
        "\n",
        "First, let’s import the necessary library:"
      ],
      "id": "43497e41-3bdb-4183-a7e9-21fa1ab25528"
    },
    {
      "cell_type": "code",
      "execution_count": 1,
      "metadata": {},
      "outputs": [],
      "source": [
        "import random"
      ],
      "id": "fbb5c27f"
    },
    {
      "cell_type": "markdown",
      "metadata": {},
      "source": [
        "In total, you have 32 candidates. Screen the candidates one by one and\n",
        "compute the `best_candidate_index` to find the best candidate.\n",
        "\n",
        "> **How to start with AI pair programming**\n",
        ">\n",
        "> 1.  In Cursor, you can select the code or text you want to work with\n",
        ">     and then press `Ctrl+L` to open the chat.\n",
        "> 2.  In the chat, you can ask the AI to help you complete the task or\n",
        ">     ask it to explain the code, the task, or related concepts\n",
        "> 3.  While writing code, you can press `Ctrl+K` to let the AI help you\n",
        ">     write the code directly in the editor.\n",
        "> 4.  Furthermore, the AI will try to understand your code and might\n",
        ">     make suggestions on how to improve it or on how to continue. Just\n",
        ">     press `TAB` to accept a suggestion."
      ],
      "id": "1fe46c1c-df24-43e6-905f-526428407d24"
    },
    {
      "cell_type": "code",
      "execution_count": 2,
      "metadata": {},
      "outputs": [],
      "source": [
        "random.seed(42) # Sets the random seed for reproducibility\n",
        "candidates = [random.random() for _ in range(32)]\n",
        "\n",
        "# YOUR CODE BELOW"
      ],
      "id": "97ddffc3"
    },
    {
      "cell_type": "code",
      "execution_count": 3,
      "metadata": {},
      "outputs": [],
      "source": [
        "# Test your solution with the following code\n",
        "assert best_candidate_index == 24, \"The selected candidate is not the best one\"\n",
        "print(r\"All tests passed, you have successfully implemented the 37% rule!\")"
      ],
      "id": "c51f7c73"
    },
    {
      "cell_type": "markdown",
      "metadata": {},
      "source": [
        "# Section 2 - Explore vs Exploit\n",
        "\n",
        "Remember the explore vs. exploit dilemma? Should you try a new\n",
        "restaurant (explore) or return to your favorite (exploit)? Let’s\n",
        "**simulate this decision-making process!**\n",
        "\n",
        "## Exercise 2.1 - Visiting Restaurants\n",
        "\n",
        "Imagine you’re new to a city with 10 restaurants. Each restaurant has a\n",
        "“true” quality rating (unknown to you) between 0 and 5 stars. Each time\n",
        "you visit a restaurant, you get to experience its rating. In total, you\n",
        "will visit restaurants 15 times.\n",
        "\n",
        "Your goal is to create a simulation that computes the average\n",
        "satisfaction over 15 days based on an explore vs. exploit strategy.\n",
        "First, you should try each restaurant once (pure exploration). Then, you\n",
        "should just exploit your favorite restaurant for the remaining visits.\n",
        "Save the average satisfaction in `average_satisfaction` and the index of\n",
        "the best restaurant in `best_restaurant_index`."
      ],
      "id": "488af4fd-e85a-4d82-9a5f-97c00faadf24"
    },
    {
      "cell_type": "code",
      "execution_count": 4,
      "metadata": {},
      "outputs": [],
      "source": [
        "import random\n",
        "\n",
        "# Set up the restaurants (true qualities are unknown to the visitor!)\n",
        "random.seed(59)\n",
        "qualities = [random.uniform(1, 5) for _ in range(10)]\n",
        "\n",
        "# YOUR CODE BELOW"
      ],
      "id": "54b9b130"
    },
    {
      "cell_type": "code",
      "execution_count": 5,
      "metadata": {},
      "outputs": [],
      "source": [
        "# Test your solution with the following code\n",
        "assert average_satisfaction > 3.7, \"The average satisfaction should be greater than 3.7\"\n",
        "assert best_restaurant_index == 2, \"The best restaurant should be number 3\"\n",
        "print(r\"All tests passed, you have successfully implemented the explore vs. exploit strategy!\")"
      ],
      "id": "fe9f1a24"
    },
    {
      "cell_type": "markdown",
      "metadata": {},
      "source": [
        "# Section 3 - Caching\n",
        "\n",
        "Caching is a technique that can be used to speed up computations by\n",
        "storing the results of expensive computations and reusing them when the\n",
        "same inputs occur again. Let’s implement a simple caching mechanism in\n",
        "Python.\n",
        "\n",
        "## Exercise 3.1 - Random Menu Generator\n",
        "\n",
        "Create a function `generate_daily_menu()` that generates a daily menu by\n",
        "randomly selecting items from different categories. As our “cache” - the\n",
        "daily menu - is rather small, we only want to receive one menu for each\n",
        "day as a list from the function."
      ],
      "id": "5f0519d0-59e1-402f-a821-3bb5d0c3499b"
    },
    {
      "cell_type": "code",
      "execution_count": 6,
      "metadata": {},
      "outputs": [],
      "source": [
        "appetizers = [\"Sorted Salad\", \"Binary Bruschetta\", \"Array of Antipasti\"]\n",
        "mains = [\"Loop Lasagna\", \"Python Pasta\", \"Recursive Risotto\"]\n",
        "desserts = [\"Binary Brownie\", \"Cache Cookie\", \"Stack Sundae\"]\n",
        "\n",
        "# YOUR CODE HERE"
      ],
      "id": "1fa561e1"
    },
    {
      "cell_type": "code",
      "execution_count": 7,
      "metadata": {},
      "outputs": [],
      "source": [
        "# Test your solution with the following code\n",
        "menu = generate_daily_menu()\n",
        "assert len(menu) == 3, \"Menu should contain exactly 3 items\"\n",
        "assert menu[0] in appetizers, \"Appetizer should be from the appetizers list\"\n",
        "assert menu[1] in mains, \"Main course should be from the mains list\"\n",
        "assert menu[2] in desserts, \"Dessert should be from the desserts list\"\n",
        "\n",
        "# Example usage\n",
        "print(r\"All tests passed, you have successfully implemented the menu generator!\")\n",
        "print(f\"Today's menu:\\nAppetizer: {menu[0]}\\nMain: {menu[1]}\\nDessert: {menu[2]}\")"
      ],
      "id": "c479fc10"
    },
    {
      "cell_type": "markdown",
      "metadata": {},
      "source": [
        "# Section 4 - Scheduling\n",
        "\n",
        "Scheduling is a classic problem in operations research and in daily\n",
        "life. Let’s implement a simple scheduling algorithm that tries to find\n",
        "the optimal schedule for a given set of tasks with the earliest due date\n",
        "strategy.\n",
        "\n",
        "## Exercise 4.1 - Scheduling Tasks\n",
        "\n",
        "Let’s create a task scheduler that handles tasks with different due\n",
        "dates. The scheduler should sort tasks by their due date (Earliest Due\n",
        "Date First - EDD strategy) to minimize potential delays.\n",
        "\n",
        "Your task is to create a function `schedule_tasks(tasks)` that:\n",
        "\n",
        "-   Sorts tasks by due date\n",
        "-   Creates a schedule with start and end times for each task\n",
        "-   Returns the complete schedule as an pandas DataFrame\n",
        "-   Keep the same column names as in the dictionary"
      ],
      "id": "daeab8f9-653f-4af4-93d5-c87ccface625"
    },
    {
      "cell_type": "code",
      "execution_count": 8,
      "metadata": {},
      "outputs": [],
      "source": [
        "# Pre-generated tasks (don't modify this!)\n",
        "# Times are represented in hours from start (hour 0)\n",
        "# For example, due_time: 24 means it's due 24 hours from start\n",
        "import pandas as pd\n",
        "\n",
        "tasks = [\n",
        "    {\n",
        "        \"name\": \"Project Review\",\n",
        "        \"duration\": 2,  # hours\n",
        "        \"due_time\": 12  # due in 12 hours\n",
        "    },\n",
        "    {\n",
        "        \"name\": \"Team Meeting\",\n",
        "        \"duration\": 4,\n",
        "        \"due_time\": 6\n",
        "    },\n",
        "    {\n",
        "        \"name\": \"Client Presentation\",\n",
        "        \"duration\": 3,\n",
        "        \"due_time\": 7\n",
        "    },\n",
        "    {\n",
        "        \"name\": \"Email Updates\",\n",
        "        \"duration\": 4,\n",
        "        \"due_time\": 11\n",
        "    },\n",
        "    {\n",
        "        \"name\": \"Planning Session\",\n",
        "        \"duration\": 2,\n",
        "        \"due_time\": 9\n",
        "    }\n",
        "]\n",
        "\n",
        "# YOUR CODE HERE"
      ],
      "id": "ee08ce32"
    },
    {
      "cell_type": "code",
      "execution_count": 9,
      "metadata": {},
      "outputs": [],
      "source": [
        "# Test your solution with the following code\n",
        "schedule_df = schedule_tasks(tasks)\n",
        "assert schedule_df.shape == (5, 4), \"The schedule should have 5 rows and 4 columns\"\n",
        "assert schedule_df.iloc[0]['name'] == \"Team Meeting\", \"First task should be 'Team Meeting'\"\n",
        "assert schedule_df.iloc[4]['name'] == \"Project Review\", \"Fifth task should be 'Project Review'\"\n",
        "print(r\"All tests passed, you have successfully implemented the task scheduler!\")"
      ],
      "id": "0e587bfb"
    },
    {
      "cell_type": "markdown",
      "metadata": {},
      "source": [
        "# Section 5 - Randomness\n",
        "\n",
        "In our daily lives, we often encounter situations where randomness plays\n",
        "a crucial role in decision-making. From choosing a restaurant for dinner\n",
        "to selecting which tasks to tackle first, incorporating some randomness\n",
        "can actually lead to better outcomes than strictly deterministic\n",
        "approaches.\n",
        "\n",
        "## Solving your travel problem by brute force\n",
        "\n",
        "Imagine you want to travel during the semester break and you want to\n",
        "visit 6 cities and then return to Hamburg. Your aim is to find the route\n",
        "that is the cheapest to travel. Implement a heuristic that randomly\n",
        "tries 10 different routes and picks the cheapest one. Save the costs in\n",
        "`min_cost`."
      ],
      "id": "928165ef-5090-4b4b-8857-19b519c85a43"
    },
    {
      "cell_type": "code",
      "execution_count": 10,
      "metadata": {},
      "outputs": [
        {
          "output_type": "stream",
          "name": "stdout",
          "text": [
            "           New York  London  Tokyo  Sydney  Barcelona  Hamburg\n",
            "New York          0     700   1500    2000        800      900\n",
            "London          700       0   1200    1800        300      700\n",
            "Tokyo          1500    1200      0    1000       1100     1400\n",
            "Sydney         2000    1800   1000       0       1700     1500\n",
            "Barcelona       800     300   1100    1700          0      600\n",
            "Hamburg         900     700   1400    1500        600        0"
          ]
        }
      ],
      "source": [
        "# City names and cost matrix\n",
        "import pandas as pd\n",
        "import random\n",
        "\n",
        "cities = [\"New York\", \"London\", \"Tokyo\", \"Sydney\", \"Barcelona\", \"Hamburg\"]\n",
        "\n",
        "cost_matrix = [\n",
        "    [0, 700, 1500, 2000, 800, 900],  # New York\n",
        "    [700, 0, 1200, 1800, 300, 700],  # London\n",
        "    [1500, 1200, 0, 1000, 1100, 1400], # Tokyo\n",
        "    [2000, 1800, 1000, 0, 1700, 1500], # Sydney\n",
        "    [800, 300, 1100, 1700, 0, 600],  # Barcelona\n",
        "    [900, 700, 1400, 1500, 600, 0]   # Hamburg\n",
        "]\n",
        "\n",
        "# Create a DataFrame\n",
        "cost_df = pd.DataFrame(cost_matrix, index=cities, columns=cities)\n",
        "\n",
        "# Display the DataFrame\n",
        "print(cost_df)\n",
        "\n",
        "# YOUR CODE HERE"
      ],
      "id": "b94292dc"
    },
    {
      "cell_type": "code",
      "execution_count": 11,
      "metadata": {},
      "outputs": [],
      "source": [
        "# Test your solution with the following code\n",
        "assert min_cost < 6000, \"The cheapest route should be cheaper than 6000. Try again, if you think your algorithm works correctly.\"\n",
        "print(r\"All tests passed, you have successfully implemented the route planner!\")"
      ],
      "id": "8464cef5"
    },
    {
      "cell_type": "markdown",
      "metadata": {},
      "source": [
        "# Conclusion\n",
        "\n",
        "We’ve explored how randomness affects decision-making through:\n",
        "\n",
        "-   Explore vs. Exploit trade-offs\n",
        "-   Optimal stopping with random elements\n",
        "-   Caching a random subset of data\n",
        "-   Scheduling tasks with due dates\n",
        "-   Finding the cheapest route for a travel problem\n",
        "\n",
        "Remember that randomness isn’t always bad - sometimes it’s the best\n",
        "strategy we have!\n",
        "\n",
        "------------------------------------------------------------------------\n",
        "\n",
        "*In the next tutorial, we’ll dive deeper into some free-form tasks!*"
      ],
      "id": "935b3c1c-3401-4132-a043-b79b4a4bd748"
    }
  ],
  "nbformat": 4,
  "nbformat_minor": 5,
  "metadata": {
    "kernelspec": {
      "name": "python3",
      "display_name": "Python 3 (ipykernel)",
      "language": "python",
      "path": "/Users/vlcek/Documents/git-teaching/Programming-Everyday-Decisions/.venv/share/jupyter/kernels/python3"
    },
    "language_info": {
      "name": "python",
      "codemirror_mode": {
        "name": "ipython",
        "version": "3"
      },
      "file_extension": ".py",
      "mimetype": "text/x-python",
      "nbconvert_exporter": "python",
      "pygments_lexer": "ipython3",
      "version": "3.12.11"
    }
  }
}