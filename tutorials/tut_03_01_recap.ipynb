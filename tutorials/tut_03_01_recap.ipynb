{
  "cells": [
    {
      "cell_type": "markdown",
      "metadata": {},
      "source": [
        "# Tutorial III.I - Recap with Caching\n",
        "\n",
        "Programming: Everyday Decision-Making Algorithms\n",
        "\n",
        "# Introduction\n",
        "\n",
        "Throughout our previous tutorials, we’ve explored fundamental\n",
        "programming concepts through the lens of everyday decision-making. Now,\n",
        "let’s connect these concepts to another important algorithmic idea:\n",
        "caching.\n",
        "\n",
        "The concepts we’ve learned map directly to caching principles:\n",
        "\n",
        "-   **Variables** → Like cache entries (storing specific pieces of\n",
        "    information)\n",
        "-   **Comparisons** → Like cache eviction policies (what we keep/remove)\n",
        "-   **Lists** → Like cache storage (what we remember)\n",
        "-   **Loops** → Like cache maintenance (how we update our knowledge)\n",
        "\n",
        "> **What is Caching?**\n",
        ">\n",
        "> Remember today’s lecture. Think of caching for example like your\n",
        "> brain’s short-term memory. When you frequently need certain\n",
        "> information (like your friend’s phone number), you keep it readily\n",
        "> available instead of looking it up each time.\n",
        "\n",
        "# Section 1 - Variables and Datatypes\n",
        "\n",
        "Just as a cache stores different types of data, Python variables can\n",
        "hold various datatypes. Let’s explore this through a simple caching\n",
        "system for a coffee shop."
      ],
      "id": "c3aca920-65f5-4601-b81b-b9e5d1d5ac34"
    },
    {
      "cell_type": "code",
      "execution_count": 1,
      "metadata": {},
      "outputs": [],
      "source": [
        "# Basic cache for coffee orders\n",
        "last_order = \"Latte\" # String cache\n",
        "drink_temperature = 75.5 # Float cache\n",
        "is_favorite = True # Boolean cache\n",
        "num_orders = 3 # Integer cache"
      ],
      "id": "262acd0e"
    },
    {
      "cell_type": "markdown",
      "metadata": {},
      "source": [
        "> **Cache Types in Real Life**\n",
        ">\n",
        "> -   **Strings**: Names, orders, preferences\n",
        "> -   **Floats**: Prices, ratings, temperatures\n",
        "> -   **Booleans**: Membership status, availability\n",
        "> -   **Integers**: Visit counts, inventory levels\n",
        "\n",
        "## Exercise 1.1: Create a simple cache system for your favorite restaurant orders\n",
        "\n",
        "1.  Create a variable `last_meal` for the last meal you ordered (as a\n",
        "    string)\n",
        "2.  Store its price in a variable `price` (as a float)\n",
        "3.  Whether you would order it again in a variable `would_order_again`\n",
        "    (as a boolean)\n",
        "4.  How many times you’ve ordered it in the last month in a variable\n",
        "    `num_orders` (as an integer)"
      ],
      "id": "9756d1b2-9383-4724-8c7e-537a1df1eca1"
    },
    {
      "cell_type": "code",
      "execution_count": 2,
      "metadata": {},
      "outputs": [],
      "source": [
        "# YOUR CODE BELOW"
      ],
      "id": "e78318b4"
    },
    {
      "cell_type": "code",
      "execution_count": 3,
      "metadata": {},
      "outputs": [],
      "source": [
        "# Assertions to verify your solution\n",
        "assert isinstance(last_meal, str), \"last_meal should be a string\"\n",
        "assert isinstance(price, float), \"price should be a float\"\n",
        "assert isinstance(would_order_again, bool), \"would_order_again should be a boolean\"\n",
        "assert isinstance(num_orders, int), \"num_orders should be an integer\"\n",
        "print(f\"Last meal: {last_meal}, price: {price}, would order again: {would_order_again}, number of orders in the last month: {num_orders}\")"
      ],
      "id": "6213c6ce"
    },
    {
      "cell_type": "markdown",
      "metadata": {},
      "source": [
        "# Section 2 - Comparisons\n",
        "\n",
        "Cache systems need to make decisions about what data to keep or remove.\n",
        "This is similar to how we use comparisons in Python. For example, the\n",
        "following code just checks a simple cache eviction policy based on the\n",
        "access count and when an item was last accessed."
      ],
      "id": "035c50e0-2e54-4cb8-8cbb-824140f633ac"
    },
    {
      "cell_type": "code",
      "execution_count": 4,
      "metadata": {},
      "outputs": [
        {
          "output_type": "stream",
          "name": "stdout",
          "text": [
            "Based on 15 accesses and the last access 25 minutes ago, should we evict? True"
          ]
        }
      ],
      "source": [
        "# Simple cache eviction policy\n",
        "access_count = 15\n",
        "last_accessed_minutes = 25\n",
        "\n",
        "evict = False\n",
        "if access_count > 10 and last_accessed_minutes < 30:\n",
        "    evict = True\n",
        "\n",
        "print(f\"Based on {access_count} accesses and the last access {last_accessed_minutes} minutes ago, should we evict? {evict}\")"
      ],
      "id": "b67f1f85"
    },
    {
      "cell_type": "markdown",
      "metadata": {},
      "source": [
        "> **Cache Eviction**\n",
        ">\n",
        "> Just like deciding what to remove from your phone when storage is\n",
        "> full, cache eviction policies help determine what data to keep or\n",
        "> remove based on usage patterns.\n",
        "\n",
        "## Exercise 2.1: Create a decision system for your favorite song\n",
        "\n",
        "1.  Write a small decision system for your **cached favorite song**\n",
        "    `favorite_song`\n",
        "2.  Use at least **two conditions** based on the song’s play count and\n",
        "    last played time (`play_count` and `last_played_minutes_ago`)\n",
        "3.  You can set the parameters for the conditions yourself\n",
        "4.  Save the result of the decision in a variable `should_evict`\n",
        "5.  Print the result of whether we should evict the song or not"
      ],
      "id": "5fc6d184-b426-4b91-9af0-b1050bf0a852"
    },
    {
      "cell_type": "code",
      "execution_count": 5,
      "metadata": {},
      "outputs": [],
      "source": [
        "# YOUR CODE BELOW"
      ],
      "id": "8f35b54d"
    },
    {
      "cell_type": "code",
      "execution_count": 6,
      "metadata": {},
      "outputs": [],
      "source": [
        "# Assertions to verify your solution\n",
        "assert isinstance(favorite_song, str), \"favorite_song should be a string\"\n",
        "assert isinstance(play_count, int), \"play_count should be an integer\"\n",
        "assert isinstance(last_played_minutes_ago, int), \"last_played_minutes_ago should be an integer\"\n",
        "assert isinstance(should_evict, bool), \"should_evict should be a boolean\"\n",
        "print(f\"Favorite song: {favorite_song}, play count: {play_count}, last played minutes ago: {last_played_minutes_ago}, should evict: {should_evict}\")"
      ],
      "id": "0e3b68a9"
    },
    {
      "cell_type": "markdown",
      "metadata": {},
      "source": [
        "# Section 3 - Lists and Tuples\n",
        "\n",
        "Lists work like a cache’s storage system, holding multiple items that we\n",
        "might need later. Tuples are similar, but they are immutable. This means\n",
        "that once a tuple is created, its contents cannot be changed. To measure\n",
        "the size of a list or tuple, we can use the `len()` function.\n",
        "\n",
        "> **Think about the following code yourself!**\n",
        ">\n",
        "> Before running the code below, try to predict:\n",
        ">\n",
        "> 1.  What will be in the cache after adding “Carnival of Rust”?\n",
        "> 2.  Which song will be removed?"
      ],
      "id": "c89c807e-9083-498b-9497-9d40b86bbac9"
    },
    {
      "cell_type": "code",
      "execution_count": 7,
      "metadata": {},
      "outputs": [],
      "source": [
        "# Recently played songs cache\n",
        "recent_songs = [\"Lithonia\", \"Leon\", \"WHEN THE MUSIC STOPS\", \"Chop Suey\", \"Rain of Fire\"]\n",
        "max_cache_size = 5\n",
        "new_song = \"Carnival of Rust\"\n",
        "\n",
        "# Cache maintenance\n",
        "if len(recent_songs) >= max_cache_size:\n",
        "    poped_song = recent_songs.pop() # Remove oldest song\n",
        "    print(f\"Removed '{poped_song}' from cache\")\n",
        "\n",
        "if len(recent_songs) < max_cache_size:\n",
        "    recent_songs.insert(0, new_song) # Add new song at beginning\n",
        "    print(f\"Added '{new_song}' to cache\")\n",
        "\n",
        "print(f\"Current cache: {recent_songs}\")"
      ],
      "id": "1604a53f"
    },
    {
      "cell_type": "markdown",
      "metadata": {},
      "source": [
        "> **Tip**\n",
        ">\n",
        "> This behavior would **not have been possible with a tuple**, as we\n",
        "> cannot change the contents of a tuple once it is created!\n",
        "\n",
        "We can also use **lists to store tuples**, which is useful for storing\n",
        "multiple items with different properties. For example, we can store the\n",
        "name and price of items in a shopping cart."
      ],
      "id": "53fe1e74-cd56-4486-b139-f92093c8f087"
    },
    {
      "cell_type": "code",
      "execution_count": 8,
      "metadata": {},
      "outputs": [
        {
          "output_type": "stream",
          "name": "stdout",
          "text": [
            "Current shopping cart: [('MacBook Pro', 1999.99), ('AirPods', 159.99), ('Apple Watch', 399.99)]"
          ]
        }
      ],
      "source": [
        "# Shopping cart cache of a very expensive trip to the Apple store\n",
        "shopping = [(\"MacBook Pro\", 1999.99), (\"AirPods\", 159.99), (\"Apple Watch\", 399.99)]\n",
        "\n",
        "print(f\"Current shopping cart: {shopping}\")"
      ],
      "id": "a9ad251b"
    },
    {
      "cell_type": "markdown",
      "metadata": {},
      "source": [
        "## Exercise 3.1: Create a shopping cart cache\n",
        "\n",
        "1.  Make a list `shopping_cart` of **five recently viewed items** in\n",
        "    your shopping cart\n",
        "2.  Create tuples for the item details (name and price) and add them to\n",
        "    the list\n",
        "3.  Ensure that the **name is a string** and the **price is a float**\n",
        "\n",
        "> **Tip**\n",
        ">\n",
        "> First, create a list. Inside the list, the entries should be tuples of\n",
        "> the item name and price."
      ],
      "id": "e8a1723e-574c-4a69-85c1-de5e5606bfab"
    },
    {
      "cell_type": "code",
      "execution_count": 9,
      "metadata": {},
      "outputs": [],
      "source": [
        "# YOUR CODE BELOW"
      ],
      "id": "3e649bab"
    },
    {
      "cell_type": "code",
      "execution_count": 10,
      "metadata": {},
      "outputs": [],
      "source": [
        "# Assertions to verify your solution\n",
        "assert len(shopping_cart) == 5, \"shopping_cart should have 5 items\"\n",
        "assert isinstance(shopping_cart, list), \"shopping_cart should be a list\"\n",
        "assert all(isinstance(item, tuple) for item in shopping_cart), \"All items in shopping_cart should be tuples\"\n",
        "assert all(isinstance(item[0], str) and isinstance(item[1], (int, float)) for item in shopping_cart), \"All items in shopping_cart should be tuples with a string and a number\"\n",
        "print(\"Great job! Your shopping cart is ready.\")"
      ],
      "id": "fd9549be"
    },
    {
      "cell_type": "markdown",
      "metadata": {},
      "source": [
        "# Section 4 - Loops\n",
        "\n",
        "Loops are essential for cache maintenance and updates, just like how we\n",
        "periodically clean up our browser cache. We know two types of loops:\n",
        "`for` and `while`. The `for` loop is used when we know the number of\n",
        "iterations beforehand, while the `while` loop is used when we don’t."
      ],
      "id": "158453c0-2132-4a20-9162-79ead028c3e1"
    },
    {
      "cell_type": "code",
      "execution_count": 11,
      "metadata": {},
      "outputs": [
        {
          "output_type": "stream",
          "name": "stdout",
          "text": [
            "Items to remove: [('fork', 5), ('spoon', 0)]\n",
            "Cached items after cleanup: [('knife', 12)]"
          ]
        }
      ],
      "source": [
        "# Cache cleanup process\n",
        "cached_items = [(\"fork\", 5), (\"spoon\", 0), (\"knife\", 12)] # (item, access_count)\n",
        "min_access_count = 10 # Minimum access count to keep an item\n",
        "\n",
        "items_to_remove = []\n",
        "for item, count in cached_items:\n",
        "    if count < min_access_count:\n",
        "        items_to_remove.append((item, count))\n",
        "\n",
        "print(f\"Items to remove: {items_to_remove}\")\n",
        "\n",
        "for item in items_to_remove:\n",
        "    cached_items.remove(item)\n",
        "\n",
        "print(f\"Cached items after cleanup: {cached_items}\")"
      ],
      "id": "365a0140"
    },
    {
      "cell_type": "markdown",
      "metadata": {},
      "source": [
        "## Exercise 4.1: Clean up a browser history cache\n",
        "\n",
        "1.  Write a loop to remove sites with low visit counts\n",
        "2.  If the site has been visited **less than 6 times**, remove it from\n",
        "    the cache\n",
        "3.  Print the browser history after cleanup\n",
        "\n",
        "> **Tip**\n",
        ">\n",
        "> Be careful with the loop. You need to iterate over the list and remove\n",
        "> items from it. If you remove items directly from the list while\n",
        "> iterating over it, you won’t get the correct answer, as the list will\n",
        "> change size while you iterate over it. Thus, you **first need to\n",
        "> create a list of items to keep** and at the end replace the old list\n",
        "> with the new one."
      ],
      "id": "b434adc9-3819-4cec-b265-369b20281dc2"
    },
    {
      "cell_type": "code",
      "execution_count": 12,
      "metadata": {},
      "outputs": [],
      "source": [
        "browser_history = [\n",
        "    (\"google.com\", 10),\n",
        "    (\"youtube.de\", 5),\n",
        "    (\"amazon.de\", 1),\n",
        "    (\"netflix.de\", 2),\n",
        "    (\"github.com\", 15)\n",
        "]\n",
        "# YOUR CODE BELOW\n"
      ],
      "id": "f83f260f"
    },
    {
      "cell_type": "code",
      "execution_count": 13,
      "metadata": {},
      "outputs": [],
      "source": [
        "# Assertions to verify your solution\n",
        "assert len(browser_history) == 2, \"browser_history should have 2 items\"\n",
        "assert isinstance(browser_history, list), \"browser_history should be a list\"\n",
        "assert all(isinstance(item, tuple) for item in browser_history), \"All items in browser_history should be tuples\""
      ],
      "id": "da0a7cb8"
    },
    {
      "cell_type": "markdown",
      "metadata": {},
      "source": [
        "# Conclusion\n",
        "\n",
        "Understanding these programming fundamentals through the lens of caching\n",
        "helps us see how computers and human decision-making often follow\n",
        "similar patterns. Whether we’re deciding which restaurant to visit or\n",
        "which data to keep in memory, the principles remain surprisingly\n",
        "similar.\n",
        "\n",
        "# Solutions\n",
        "\n",
        "You will likely find solutions to most exercises online. However, we\n",
        "strongly encourage you to work on these exercises independently without\n",
        "searching explicitly for the exact answers to the exercises.\n",
        "Understanding someone else’s solution is very different from developing\n",
        "your own. Use the lecture notes and try to solve the exercises on your\n",
        "own. This approach will significantly enhance your learning and\n",
        "problem-solving skills.\n",
        "\n",
        "Remember, the goal is not just to complete the exercises, but to\n",
        "understand the concepts and improve your programming abilities. If you\n",
        "encounter difficulties, review the lecture materials, experiment with\n",
        "different approaches, and don’t hesitate to ask for clarification during\n",
        "class discussions.\n",
        "\n",
        "Later, you will find the solutions to these exercises online in the\n",
        "associated GitHub repository, but we will also quickly go over them next\n",
        "week. To access the solutions, click on the Github button on the lower\n",
        "right and search for the folder with today’s lecture and tutorial.\n",
        "Alternatively, you can ask ChatGPT or Claude to explain them to you. But\n",
        "please remember, the goal is not just to complete the exercises, but to\n",
        "understand the concepts and improve your programming abilities.\n",
        "\n",
        "------------------------------------------------------------------------\n",
        "\n",
        "*In the next tutorial, we’ll dive deeper into more advanced strategies\n",
        "and some new topics!*"
      ],
      "id": "37f2d59c-44a2-4d11-917d-d8aa0f28f54d"
    }
  ],
  "nbformat": 4,
  "nbformat_minor": 5,
  "metadata": {
    "kernelspec": {
      "name": "python3",
      "display_name": "Python 3 (ipykernel)",
      "language": "python",
      "path": "/Users/vlcek/Documents/git-teaching/Programming-Everyday-Decisions/.venv/share/jupyter/kernels/python3"
    },
    "language_info": {
      "name": "python",
      "codemirror_mode": {
        "name": "ipython",
        "version": "3"
      },
      "file_extension": ".py",
      "mimetype": "text/x-python",
      "nbconvert_exporter": "python",
      "pygments_lexer": "ipython3",
      "version": "3.12.11"
    }
  }
}