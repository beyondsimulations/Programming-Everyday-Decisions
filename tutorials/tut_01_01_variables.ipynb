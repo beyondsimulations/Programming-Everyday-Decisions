{
  "cells": [
    {
      "cell_type": "markdown",
      "metadata": {},
      "source": [
        "# Tutorial I.I - Variables and Types\n",
        "\n",
        "Programming: Everyday Decision-Making Algorithms\n",
        "\n",
        "# Introduction\n",
        "\n",
        "Welcome to this interactive Python tutorial on variables, types, and\n",
        "algorithmic thinking! We’ll explore these concepts through the lens of\n",
        "optimization problems, specifically using the famous “Secretary Problem”\n",
        "as our running example.\n",
        "\n",
        "The Secretary Problem asks: “If you need to hire the best candidate, and\n",
        "you can only interview candidates one at a time (with no going back),\n",
        "when should you stop and make an offer?” This is a perfect example of\n",
        "optimal stopping and will help us understand how variables and data\n",
        "types play crucial roles in algorithmic thinking. To make the problem\n",
        "more interesting, we will use the Secretary Problem to help us make\n",
        "better dating decisions!\n",
        "\n",
        "The question is thus: **When should you stop dating and commit to\n",
        "someone?**\n",
        "\n",
        "Known academically as the “Optimal Stopping Problem” or “The Marriage\n",
        "Problem”, it asks: If you want to find the best possible partner, and\n",
        "you can only date one person at a time (no going back to previous\n",
        "dates!), when should you stop dating and propose?\n",
        "\n",
        "Let’s learn how to use Python to help us in order to make better dating\n",
        "decisions!\n",
        "\n",
        "# 1 - Variables\n",
        "\n",
        "Just like you keep track of important things in dating (name, phone\n",
        "number, red flags), in Python we use variables to store information:"
      ],
      "id": "c42b6e4a-b1e0-4fca-891c-8c62d5cc4ca8"
    },
    {
      "cell_type": "code",
      "execution_count": 1,
      "metadata": {},
      "outputs": [
        {
          "output_type": "stream",
          "name": "stdout",
          "text": [
            "We have defined a some variables based on tonight's date."
          ]
        }
      ],
      "source": [
        "date_name = \"Alexander\" # Current date's name\n",
        "red_flags = 0 # Count of red flags noticed\n",
        "butterflies_felt = True # Do I feel butterflies?\n",
        "compatibility_score = 8.5 # On a scale of 1-10, how compatible are we?\n",
        "print(\"We have defined a some variables based on tonight's date.\")"
      ],
      "id": "c2647979"
    },
    {
      "cell_type": "markdown",
      "metadata": {},
      "source": [
        "> **Tip**\n",
        ">\n",
        "> Variables in Python are like containers that store information. When\n",
        "> we write `date_name = \"Alexander\"`, we’re:\n",
        ">\n",
        "> 1.  Creating a container called `date_name`\n",
        "> 2.  Putting the value “Alexander” inside it\n",
        "> 3.  Telling Python this is a text value (string)\n",
        "\n",
        "> **Note**\n",
        ">\n",
        "> Notice how we use meaningful variable names that describe what they\n",
        "> contain:\n",
        ">\n",
        "> -   `date_name` is better than just `name`\n",
        "> -   `red_flags` is clearer than just `flags`\n",
        "> -   `butterflies_felt` clearly indicates a yes/no feeling\n",
        "\n",
        "## Exercise 1.1 - First Date Setup\n",
        "\n",
        "Create a variable `currently_dating` and set it to `False` (because\n",
        "we’re starting our dating journey)."
      ],
      "id": "33020d1d-3401-4f52-84fe-0a3d0975d0cd"
    },
    {
      "cell_type": "code",
      "execution_count": 2,
      "metadata": {},
      "outputs": [],
      "source": [
        "# YOUR CODE BELOW"
      ],
      "id": "c69adc21"
    },
    {
      "cell_type": "code",
      "execution_count": 3,
      "metadata": {},
      "outputs": [],
      "source": [
        "# Test your answer\n",
        "assert currently_dating == False, \"Let's start fresh - set currently_dating to False!\"\n",
        "print(\"Ready to start dating! We have defined the variable `currently_dating` as boolean.\")"
      ],
      "id": "6c23465a"
    },
    {
      "cell_type": "markdown",
      "metadata": {},
      "source": [
        "## Exercise 1.2 - Date Name\n",
        "\n",
        "Create a variable `date_name` with your tonight’s date’s name (let’s say\n",
        "`\"Mika\"`)."
      ],
      "id": "2162f845-36b0-4f46-9825-d25c59d1fbb5"
    },
    {
      "cell_type": "code",
      "execution_count": 4,
      "metadata": {},
      "outputs": [],
      "source": [
        "# YOUR CODE BELOW"
      ],
      "id": "956d3d34"
    },
    {
      "cell_type": "code",
      "execution_count": 5,
      "metadata": {},
      "outputs": [],
      "source": [
        "# Test your answer\n",
        "assert date_name == \"Mika\", \"Let's use 'Mika' as our tonight's date's name\"\n",
        "print(f\"We have defined a string variable for our tonight's date. Now, we are looking for {date_name}!\")"
      ],
      "id": "74bfef5a"
    },
    {
      "cell_type": "markdown",
      "metadata": {},
      "source": [
        "# 2 - Types\n",
        "\n",
        "Just like dating involves different types of information, Python has\n",
        "different types for different kinds of data:\n",
        "\n",
        "-   Integers (`int`): Counting things (number of dates, red flags)\n",
        "-   Floats (`float`): Ratings and scores (compatibility score)\n",
        "-   Booleans (`bool`): Yes/no information (are they single?)\n",
        "-   Strings (`str`): Text (names, favorite food)\n",
        "\n",
        "> **Important**\n",
        ">\n",
        "> Why do types matter? Because:\n",
        ">\n",
        "> -   They determine what operations we can perform (you can’t divide\n",
        ">     names!)\n",
        "> -   They affect how much memory the computer needs\n",
        "> -   They help prevent errors in our code"
      ],
      "id": "f6ede5fb-f1ec-4614-99de-4202af94424b"
    },
    {
      "cell_type": "code",
      "execution_count": 6,
      "metadata": {},
      "outputs": [
        {
          "output_type": "stream",
          "name": "stdout",
          "text": [
            "We have gone on 7 dates, a chemistry level of 9.5 in the last date, and we love Sushi!"
          ]
        }
      ],
      "source": [
        "dates_gone_on = 7  # int: keeping count\n",
        "chemistry_level = 9.5  # float: rating of the butterflies\n",
        "is_single = True  # bool: availability\n",
        "favorite_food = \"Sushi\"  # str: important info!\n",
        "print(f\"We have gone on {dates_gone_on} dates, a chemistry level of {chemistry_level} in the last date, and we love {favorite_food}!\")"
      ],
      "id": "9691ca22"
    },
    {
      "cell_type": "markdown",
      "metadata": {},
      "source": [
        "> **Tip**\n",
        ">\n",
        "> You can check a variable’s type using the `type()` function.\n",
        "\n",
        "## Exercise 2.1 - Dating Score\n",
        "\n",
        "Create a float variable `minimum_rating` and set it to `7.0` (our\n",
        "standards are high!). Of course, we don’t objectify people and rate\n",
        "their appearance, thus we rate the compatibility!"
      ],
      "id": "a05cbc29-0c59-4559-a68a-23e1c0dbdd21"
    },
    {
      "cell_type": "code",
      "execution_count": 7,
      "metadata": {},
      "outputs": [],
      "source": [
        "# YOUR CODE BELOW"
      ],
      "id": "7f08b658"
    },
    {
      "cell_type": "code",
      "execution_count": 8,
      "metadata": {},
      "outputs": [],
      "source": [
        "# Test your answer\n",
        "assert minimum_rating == 7.0 and isinstance(minimum_rating, float), \"Set your standards (minimum_rating) to 7.0!\"\n",
        "print(f\"We won't settle for less than {minimum_rating}/10, where the minimum rating is defined as a float!\")"
      ],
      "id": "4e39aaec"
    },
    {
      "cell_type": "markdown",
      "metadata": {},
      "source": [
        "## Exercise 2.2 - Dating History\n",
        "\n",
        "Create an integer variable `past_relationships` and set it to `0`."
      ],
      "id": "bef267ef-4507-482f-b9ed-823a9c8e665e"
    },
    {
      "cell_type": "code",
      "execution_count": 9,
      "metadata": {},
      "outputs": [],
      "source": [
        "# YOUR CODE BELOW"
      ],
      "id": "4eee20f2"
    },
    {
      "cell_type": "code",
      "execution_count": 10,
      "metadata": {},
      "outputs": [],
      "source": [
        "# Test your answer\n",
        "assert past_relationships == 0 and isinstance(past_relationships, int), \"Let's start fresh with 0 past relationships\"\n",
        "print(\"Clean slate, although likely not true! We have defined the variable `past_relationships` as an integer and are ready to start dating!\")"
      ],
      "id": "2a47f3fd"
    },
    {
      "cell_type": "markdown",
      "metadata": {},
      "source": [
        "# 3 - Converting Data Types\n",
        "\n",
        "Python provides several functions to convert between different types:\n",
        "\n",
        "-   `int()`: Converts to integer\n",
        "    -   `int(\"37\")` → `37`\n",
        "    -   `int(37.8)` → `37` (truncates decimal)\n",
        "-   `float()`: Converts to float\n",
        "    -   `float(\"37.5\")` → `37.5`\n",
        "    -   `float(37)` → `37.0`\n",
        "-   `str()`: Converts to string\n",
        "    -   `str(37)` → `\"37\"`\n",
        "    -   `str(37.5)` → `\"37.5\"`\n",
        "-   `bool()`: Converts to boolean\n",
        "    -   `bool(1)` → `True`\n",
        "    -   `bool(0)` → `False`\n",
        "    -   `bool(\"\")` → `False`\n",
        "    -   `bool(\"hello\")` → `True`\n",
        "\n",
        "In optimal stopping for dating, the math says you should date and reject\n",
        "the first 37% of your dating pool, then commit to the next person who’s\n",
        "better than everyone you’ve met before! Let’s track this:"
      ],
      "id": "8409c6b4-442d-401f-a039-5b21617b9df5"
    },
    {
      "cell_type": "code",
      "execution_count": 11,
      "metadata": {},
      "outputs": [
        {
          "output_type": "stream",
          "name": "stdout",
          "text": [
            "Date (and reject) the first 37 people"
          ]
        }
      ],
      "source": [
        "dating_pool = 100 # The number of people we will date\n",
        "exploration_phase = int(dating_pool * 0.37)  # The 37% rule\n",
        "print(f\"Date (and reject) the first {exploration_phase} people\")"
      ],
      "id": "2aa98a2c"
    },
    {
      "cell_type": "markdown",
      "metadata": {},
      "source": [
        "## Exercise 3.1 - Decision Point\n",
        "\n",
        "Convert the string `\"37\"` into an integer variable named\n",
        "`stopping_point`."
      ],
      "id": "d8b79d57-4d34-4a2f-be7f-1496e84eeddb"
    },
    {
      "cell_type": "code",
      "execution_count": 12,
      "metadata": {},
      "outputs": [],
      "source": [
        "stopping_point = \"37\"\n",
        "# YOUR CODE BELOW\n"
      ],
      "id": "a564ec11"
    },
    {
      "cell_type": "code",
      "execution_count": 13,
      "metadata": {},
      "outputs": [],
      "source": [
        "# Test your answer\n",
        "assert isinstance(stopping_point, int) and stopping_point == 37, \"Convert '37' to an integer\"\n",
        "print(f\"After person {stopping_point}, we'll get serious about finding the best possible partner.\")"
      ],
      "id": "a1d553c2"
    },
    {
      "cell_type": "markdown",
      "metadata": {},
      "source": [
        "> **Tip**\n",
        ">\n",
        "> When converting strings to numbers:\n",
        ">\n",
        "> -   Make sure the string contains only numeric characters\n",
        "> -   Use `int()` for whole numbers\n",
        "> -   Use `float()` if you need decimal points\n",
        "\n",
        "# 4 - String Formatting\n",
        "\n",
        "String formatting is a powerful tool in Python that allows you to insert\n",
        "variables into strings. We do so by using curly braces `{}` around the\n",
        "variable names and with the `f` prefix before the string. For example:"
      ],
      "id": "0dbce77c-40e9-4f34-bbae-8b7d9f01cb19"
    },
    {
      "cell_type": "code",
      "execution_count": 14,
      "metadata": {},
      "outputs": [
        {
          "output_type": "stream",
          "name": "stdout",
          "text": [
            "Hello, Casey! Nice to meet you."
          ]
        }
      ],
      "source": [
        "name = \"Casey\"\n",
        "print(f\"Hello, {name}! Nice to meet you.\")"
      ],
      "id": "bdb8dbdc"
    },
    {
      "cell_type": "markdown",
      "metadata": {},
      "source": [
        "Here, `{name}` will insert the value of `name` into the string if the\n",
        "variable `name` is defined.\n",
        "\n",
        "Let’s create a nice dating profile using string formatting:"
      ],
      "id": "593f8c6d-ec33-49fa-a1f3-3b4ec1cd5b27"
    },
    {
      "cell_type": "code",
      "execution_count": 15,
      "metadata": {},
      "outputs": [
        {
          "output_type": "stream",
          "name": "stdout",
          "text": [
            "Casey, 25 - Looking for someone special!"
          ]
        }
      ],
      "source": [
        "name = \"Casey\"\n",
        "age = 25 # Age of Casey\n",
        "bio = f\"{name}, {age} - Looking for someone special!\" # Insert the variables into the string\n",
        "print(bio) # Print the string which is stored in bio"
      ],
      "id": "34374c77"
    },
    {
      "cell_type": "markdown",
      "metadata": {},
      "source": [
        "## Exercise 4.1 - Profile Message\n",
        "\n",
        "We have already defined the variables `name` and `minimum_rating`. Now\n",
        "we want to use them in the context of a formatted string. Create a\n",
        "formatted string `profile_message` using the variables `name` and\n",
        "`minimum_rating` that says “Hello, {name}! Nice to meet you. I hope you\n",
        "are at least {minimum_rating}/10 compatible with me!”."
      ],
      "id": "c522eebd-133c-4738-a5fd-8d312400ed8a"
    },
    {
      "cell_type": "code",
      "execution_count": 16,
      "metadata": {},
      "outputs": [],
      "source": [
        "# YOUR CODE BELOW"
      ],
      "id": "af99c2b1"
    },
    {
      "cell_type": "code",
      "execution_count": 17,
      "metadata": {},
      "outputs": [],
      "source": [
        "# Test your answer\n",
        "assert profile_message == \"Hello, Casey! Nice to meet you. I hope you are at least 7.0/10 compatible with me!\", \"Format your first message to Casey correctly!\"\n",
        "print(\"Your message is send - good luck!\")"
      ],
      "id": "f06ce0f7"
    },
    {
      "cell_type": "markdown",
      "metadata": {},
      "source": [
        "# Conclusion\n",
        "\n",
        "Congratulations! You’ve learned about Python variables and types through\n",
        "the lens of dating optimization!\n",
        "\n",
        "Remember:\n",
        "\n",
        "-   Variables help track your dating journey\n",
        "-   Different types handle different kinds of dating data\n",
        "-   The 37% rule suggests when to get serious\n",
        "-   String formatting helps create the perfect dating profile\n",
        "\n",
        "Dating tip: While this mathematical approach is a good starting point,\n",
        "remember that love isn’t always logical! We haven’t considered the\n",
        "emotional aspects of dating yet or the fact that we might not be the\n",
        "best partner for each other.\n",
        "\n",
        "------------------------------------------------------------------------\n",
        "\n",
        "# Solutions\n",
        "\n",
        "You will likely find solutions to most exercises online. However, we\n",
        "strongly encourage you to work on these exercises independently without\n",
        "searching explicitly for the exact answers to the exercises.\n",
        "Understanding someone else’s solution is very different from developing\n",
        "your own. Use the lecture notes and try to solve the exercises on your\n",
        "own. This approach will significantly enhance your learning and\n",
        "problem-solving skills.\n",
        "\n",
        "Remember, the goal is not just to complete the exercises, but to\n",
        "understand the concepts and improve your programming abilities. If you\n",
        "encounter difficulties, review the lecture materials, experiment with\n",
        "different approaches, and don’t hesitate to ask for clarification during\n",
        "class discussions.\n",
        "\n",
        "Later, you will find the solutions to these exercises online in the\n",
        "associated GitHub repository, but we will also quickly go over them next\n",
        "week. To access the solutions, click on the Github button on the lower\n",
        "right and search for the folder with today’s lecture and tutorial.\n",
        "Alternatively, you can ask ChatGPT or Claude to explain them to you. But\n",
        "please remember, the goal is not just to complete the exercises, but to\n",
        "understand the concepts and improve your programming abilities.\n",
        "\n",
        "------------------------------------------------------------------------\n",
        "\n",
        "*Continue to the next tutorial to learn about comparisons and\n",
        "conditionals in the context of the optimal stopping problem!*"
      ],
      "id": "346289f7-767b-419e-9c2c-1387038471e9"
    }
  ],
  "nbformat": 4,
  "nbformat_minor": 5,
  "metadata": {
    "kernelspec": {
      "name": "python3",
      "display_name": "Python 3 (ipykernel)",
      "language": "python",
      "path": "/Users/vlcek/Documents/git-projects/Programming-Everyday-Decisions/.venv/share/jupyter/kernels/python3"
    },
    "language_info": {
      "name": "python",
      "codemirror_mode": {
        "name": "ipython",
        "version": "3"
      },
      "file_extension": ".py",
      "mimetype": "text/x-python",
      "nbconvert_exporter": "python",
      "pygments_lexer": "ipython3",
      "version": "3.12.11"
    }
  }
}