{
  "cells": [
    {
      "cell_type": "markdown",
      "metadata": {},
      "source": [
        "# Tutorial IV.III - DataFrames\n",
        "\n",
        "Programming: Everyday Decision-Making Algorithms\n",
        "\n",
        "# Introduction\n",
        "\n",
        "Imagine you’re planning a Mars mission. Every task, from equipment\n",
        "checks to crew training, needs careful scheduling. In this tutorial,\n",
        "we’ll learn how to use Python’s Pandas library to implement scheduling\n",
        "algorithms like Earliest Due Date (EDD) and Shortest Processing Time\n",
        "(SPT).\n",
        "\n",
        "> **Note**\n",
        ">\n",
        "> Before starting, ensure you have the `pandas` library installed.\n",
        "> Depending on your operating system and installation method, you might\n",
        "> need to use `pip`, `pip3` or `conda` to install it via the command\n",
        "> line.\n",
        ">\n",
        "> ``` {bash}\n",
        "> pip install pandas\n",
        "> ```\n",
        ">\n",
        "> ``` {bash}\n",
        "> pip3 install pandas\n",
        "> ```\n",
        ">\n",
        "> ``` {bash}\n",
        "> conda install pandas\n",
        "> ```\n",
        "\n",
        "Let’s begin by importing pandas:"
      ],
      "id": "21618d61-5c58-4855-a8ff-43ca15c091d1"
    },
    {
      "cell_type": "code",
      "execution_count": 1,
      "metadata": {},
      "outputs": [],
      "source": [
        "import pandas as pd"
      ],
      "id": "ffc87f21"
    },
    {
      "cell_type": "markdown",
      "metadata": {},
      "source": [
        "# Section 1 - Creating Task DataFrames\n",
        "\n",
        "In mission planning, we need to track various tasks with their durations\n",
        "and deadlines. Let’s create a DataFrame to manage these tasks from a\n",
        "dictionary and a list of index labels:"
      ],
      "id": "fb8e928b-827c-4679-bd03-546dde427f45"
    },
    {
      "cell_type": "code",
      "execution_count": 2,
      "metadata": {},
      "outputs": [
        {
          "output_type": "stream",
          "name": "stdout",
          "text": [
            "                   task  duration  deadline\n",
            "Task 1  Equipment Check         6        10\n",
            "Task 2    Crew Training         3        15\n",
            "Task 3   Supply Loading         7         8"
          ]
        }
      ],
      "source": [
        "tasks = pd.DataFrame({\n",
        "    'task': ['Equipment Check', 'Crew Training', 'Supply Loading'],\n",
        "    'duration': [6, 3, 7],  # hours\n",
        "    'deadline': [10, 15, 8]  # hours from now\n",
        "},\n",
        "index=['Task 1', 'Task 2', 'Task 3'])\n",
        "print(tasks)"
      ],
      "id": "8b8fb372"
    },
    {
      "cell_type": "markdown",
      "metadata": {},
      "source": [
        "> **Note**\n",
        ">\n",
        "> The `pd.DataFrame()` function is used to create a DataFrame. A\n",
        "> DataFrame is a two-dimensional, size-mutable, and heterogeneous\n",
        "> tabular data structure with labeled axes (rows and columns). Here,\n",
        "> we’ve created a DataFrame with three rows and four columns: `task`,\n",
        "> `duration`, and `deadline`.\n",
        "\n",
        "## Exercise 1.1 - Create Mission Tasks DataFrame\n",
        "\n",
        "Create a DataFrame named `mission_tasks` with critical Mars mission\n",
        "preparation tasks. Include columns for `task` (a string), `duration` (in\n",
        "hours), and `deadline` (hours from now) with the following data:\n",
        "\n",
        "-   Life Support Check: 4 hours, deadline 12\n",
        "-   Navigation Systems: 7 hours, deadline 16\n",
        "-   Fuel Loading: 6 hours, deadline 8\n",
        "-   Communication Setup: 3 hours, deadline 6\n",
        "\n",
        "Make sure, that the hours and deadlines are integers. And create the\n",
        "DataFrame with the index labels `Task 1`, `Task 2`, `Task 3`, `Task 4`."
      ],
      "id": "64a6d1c3-5849-46fe-b834-5816887ef0a9"
    },
    {
      "cell_type": "code",
      "execution_count": 3,
      "metadata": {},
      "outputs": [],
      "source": [
        "# YOUR CODE BELOW"
      ],
      "id": "97c6ccc8"
    },
    {
      "cell_type": "code",
      "execution_count": 4,
      "metadata": {},
      "outputs": [],
      "source": [
        "# Test your answer\n",
        "def test_mission_tasks(df):\n",
        "\n",
        "    # Check if all required columns exist\n",
        "    required_cols = ['task', 'duration', 'deadline']\n",
        "    assert all(col in df.columns for col in required_cols), \"Missing required columns\"\n",
        "\n",
        "    # Check if we have the correct number of tasks\n",
        "    assert len(df) == 4, \"Should have exactly 4 tasks\"\n",
        "\n",
        "    # Check if all values are of correct type\n",
        "    assert df['duration'].dtype in ['int32', 'int64'], \"Duration should be integers\"\n",
        "    assert df['deadline'].dtype in ['int32', 'int64'], \"Deadline should be integers\"\n",
        "\n",
        "    # Check if all required tasks are present\n",
        "    required_tasks = {'Life Support Check', 'Navigation Systems', 'Fuel Loading', 'Communication Setup'}\n",
        "    assert set(df['task']) == required_tasks, \"Missing or incorrect task names\"\n",
        "\n",
        "test_mission_tasks(mission_tasks)\n",
        "\n",
        "print(\"Mission tasks created successfully!\")"
      ],
      "id": "0b05dd16"
    },
    {
      "cell_type": "markdown",
      "metadata": {},
      "source": [
        "# Section 2 - Accessing Rows and Columns\n",
        "\n",
        "When working with DataFrames, we sometimes need to access specific rows\n",
        "or columns. Let’s explore different ways to do this using our previously\n",
        "created `tasks` DataFrame.\n",
        "\n",
        "## Accessing Columns\n",
        "\n",
        "There are two main ways to access columns:\n",
        "\n",
        "1.  Using square bracket notation `[]`\n",
        "2.  Using dot notation `.`"
      ],
      "id": "5648eb83-092a-49a8-b8a5-5677abb8cb9a"
    },
    {
      "cell_type": "code",
      "execution_count": 5,
      "metadata": {},
      "outputs": [
        {
          "output_type": "stream",
          "name": "stdout",
          "text": [
            "Durations:\n",
            " Task 1    6\n",
            "Task 2    3\n",
            "Task 3    7\n",
            "Name: duration, dtype: int64\n",
            "\n",
            "Selected columns:\n",
            "                    task  duration\n",
            "Task 1  Equipment Check         6\n",
            "Task 2    Crew Training         3\n",
            "Task 3   Supply Loading         7\n",
            "\n",
            "Priorities:\n",
            " Task 1    10\n",
            "Task 2    15\n",
            "Task 3     8\n",
            "Name: deadline, dtype: int64"
          ]
        }
      ],
      "source": [
        "# Access a single column (returns a Series)\n",
        "durations = tasks['duration']\n",
        "print(\"Durations:\\n\", durations)\n",
        "\n",
        "# Access multiple columns (returns a DataFrame)\n",
        "selected_cols = tasks[['task', 'duration']]\n",
        "print(\"\\nSelected columns:\\n\", selected_cols)\n",
        "\n",
        "# Using dot notation (only works for simple column names)\n",
        "priorities = tasks.deadline\n",
        "print(\"\\nPriorities:\\n\", priorities)"
      ],
      "id": "b958c1bb"
    },
    {
      "cell_type": "markdown",
      "metadata": {},
      "source": [
        "## Accessing Rows\n",
        "\n",
        "We can access rows using:\n",
        "\n",
        "1.  `iloc[]` for integer-based indexing\n",
        "2.  `loc[]` for label-based indexing"
      ],
      "id": "17e170d9-fc14-4f36-a997-29cb4cb16699"
    },
    {
      "cell_type": "code",
      "execution_count": 6,
      "metadata": {},
      "outputs": [
        {
          "output_type": "stream",
          "name": "stdout",
          "text": [
            "First row:\n",
            " task        Equipment Check\n",
            "duration                  6\n",
            "deadline                 10\n",
            "Name: Task 1, dtype: object\n",
            "\n",
            "Selected rows:\n",
            "                    task  duration  deadline\n",
            "Task 1  Equipment Check         6        10\n",
            "Task 3   Supply Loading         7         8\n",
            "\n",
            "Subset of data based on integer index:\n",
            " Equipment Check\n",
            "\n",
            "Subset of data based on labels:\n",
            " Crew Training"
          ]
        }
      ],
      "source": [
        "# Get first row using iloc (integer location)\n",
        "first_row = tasks.iloc[0]\n",
        "print(\"First row:\\n\", first_row)\n",
        "\n",
        "# Get rows 0 and 2\n",
        "selected_rows = tasks.iloc[[0, 2]]\n",
        "print(\"\\nSelected rows:\\n\", selected_rows)\n",
        "\n",
        "# Get specific rows and columns\n",
        "subset = tasks.iloc[0, 0]  # First row, first column\n",
        "print(\"\\nSubset of data based on integer index:\\n\", subset)\n",
        "\n",
        "# Get specific rows and columns using loc\n",
        "subset = tasks.loc['Task 2', 'task']\n",
        "print(\"\\nSubset of data based on labels:\\n\", subset)"
      ],
      "id": "3aa2a769"
    },
    {
      "cell_type": "markdown",
      "metadata": {},
      "source": [
        "## Exercise 4.1 - Data Access Practice\n",
        "\n",
        "Using the `mission_tasks` DataFrame from earlier, complete these tasks:\n",
        "\n",
        "1.  Extract only the ‘duration’ column as `duration_col`\n",
        "2.  Get the first two tasks with all columns as `first_two`\n",
        "3.  Create a subset containing only the ‘task’ and ‘deadline’ columns as\n",
        "    `task_deadline_subset`"
      ],
      "id": "edef170e-7007-4421-bf62-bfc3bf70f8ca"
    },
    {
      "cell_type": "code",
      "execution_count": 7,
      "metadata": {},
      "outputs": [],
      "source": [
        "# YOUR CODE BELOW"
      ],
      "id": "9c816140"
    },
    {
      "cell_type": "code",
      "execution_count": 8,
      "metadata": {},
      "outputs": [],
      "source": [
        "# Test your answer\n",
        "assert len(duration_col) == 4, \"Duration column should have 4 entries\"\n",
        "assert len(first_two) == 2, \"Should have first two rows\"\n",
        "assert list(task_deadline_subset.columns) == ['task', 'deadline'], \"Should only have task and deadline columns\"\n",
        "print(\"Data access exercises completed successfully!\")"
      ],
      "id": "18a5462e"
    },
    {
      "cell_type": "markdown",
      "metadata": {},
      "source": [
        "> **Tip**\n",
        ">\n",
        "> Remember:\n",
        ">\n",
        "> -   Use `[]` for single or multiple columns\n",
        "> -   Use `iloc[]` when you want to access by position\n",
        "> -   Use `loc[]` when you want to access by label (using the index\n",
        ">     labels)\n",
        "> -   Slicing works similar to Python lists: `0:2` means “from 0 up to\n",
        ">     (but not including) 2”\n",
        "\n",
        "# Section 3 - Sorting DataFrames for EDD and SPT\n",
        "\n",
        "The EDD algorithm minimizes maximum lateness by scheduling tasks in\n",
        "order of their deadlines. This is crucial for mission-critical tasks\n",
        "where delays could be catastrophic."
      ],
      "id": "c211fa49-6dcc-4090-acd0-d3680227c211"
    },
    {
      "cell_type": "code",
      "execution_count": 9,
      "metadata": {},
      "outputs": [
        {
          "output_type": "stream",
          "name": "stdout",
          "text": [
            "Tasks sorted by EDD:\n",
            "                   task  duration  deadline\n",
            "Task 3   Supply Loading         7         8\n",
            "Task 1  Equipment Check         6        10\n",
            "Task 2    Crew Training         3        15"
          ]
        }
      ],
      "source": [
        "sorted_tasks = tasks.sort_values('deadline')\n",
        "print(\"Tasks sorted by EDD:\")\n",
        "print(sorted_tasks)"
      ],
      "id": "779b583f"
    },
    {
      "cell_type": "markdown",
      "metadata": {},
      "source": [
        "> **Note**\n",
        ">\n",
        "> The `sort_values()` method is used to sort the DataFrame by the\n",
        "> `deadline` column. The `tasks` in this example is the DataFrame we\n",
        "> created in the previous section. If you want to sort a different\n",
        "> dataframe, just replace `tasks` with the name of the dataframe you\n",
        "> want to sort. The method returns a new DataFrame with the rows sorted\n",
        "> by the `deadline` column. If you want to sort the DataFrame by a\n",
        "> different column, you can pass the name of the column as a string to\n",
        "> the `by` argument. If you want to sort the DataFrame in descending\n",
        "> order, you can pass `ascending=False` to the function.\n",
        "\n",
        "If you want to add a new column, you can do so by assigning a new column\n",
        "to the DataFrame. For example, if you want to add a new column called\n",
        "`completion_time` to the `tasks` DataFrame, you can do so by assigning a\n",
        "new column to the DataFrame:"
      ],
      "id": "f7152395-fce7-4f3d-b731-d0dcb69cf0ea"
    },
    {
      "cell_type": "code",
      "execution_count": 10,
      "metadata": {},
      "outputs": [
        {
          "output_type": "stream",
          "name": "stdout",
          "text": [
            "                   task  duration  deadline  delayed_deadline\n",
            "Task 1  Equipment Check         6        10                11\n",
            "Task 2    Crew Training         3        15                16\n",
            "Task 3   Supply Loading         7         8                 9"
          ]
        }
      ],
      "source": [
        "tasks['delayed_deadline'] = tasks['deadline'] + 1\n",
        "print(tasks)"
      ],
      "id": "5373232f"
    },
    {
      "cell_type": "markdown",
      "metadata": {},
      "source": [
        "Here, we’ve added a new column called `delayed_deadline` to the `tasks`\n",
        "DataFrame. The new column is calculated by adding 1 to the `deadline`\n",
        "column.\n",
        "\n",
        "## Exercise 2.1 - Apply EDD to Mission Tasks\n",
        "\n",
        "Sort your `mission_tasks` using the EDD algorithm (sort by deadline)."
      ],
      "id": "72eca40d-ed5c-48cd-af8c-b4741ba13098"
    },
    {
      "cell_type": "code",
      "execution_count": 11,
      "metadata": {},
      "outputs": [],
      "source": [
        "# YOUR CODE BELOW"
      ],
      "id": "6c8a938e"
    },
    {
      "cell_type": "code",
      "execution_count": 12,
      "metadata": {},
      "outputs": [],
      "source": [
        "# Test your answer\n",
        "assert edd_schedule.iloc[0]['task'] == 'Communication Setup', \"First task should be Communication Setup\"\n",
        "print(\"EDD Schedule created successfully!\")\n",
        "print(edd_schedule)"
      ],
      "id": "45dde4ba"
    },
    {
      "cell_type": "markdown",
      "metadata": {},
      "source": [
        "## Exercise 2.2 - Calculate New Deadline\n",
        "\n",
        "Unfortuantely, the mission has been delayed as some tasks are rather\n",
        "complex. Add a new column to the `mission_tasks` DataFrame called\n",
        "`new_deadline`. The new deadline is the old deadline plus the duration\n",
        "of the task."
      ],
      "id": "7a0a3390-912d-4caa-8ae1-66da367ce217"
    },
    {
      "cell_type": "code",
      "execution_count": 13,
      "metadata": {},
      "outputs": [],
      "source": [
        "# YOUR CODE BELOW"
      ],
      "id": "6eb0568a"
    },
    {
      "cell_type": "code",
      "execution_count": 14,
      "metadata": {},
      "outputs": [],
      "source": [
        "# Test your answer\n",
        "assert 'new_deadline' in mission_tasks.columns, \"Missing new_deadline column\"\n",
        "assert all(mission_tasks['new_deadline'] > mission_tasks['deadline']), \"New deadlines should be later than original deadlines\"\n",
        "print(\"New deadlines calculated successfully!\")\n",
        "print(mission_tasks)"
      ],
      "id": "632e9902"
    },
    {
      "cell_type": "markdown",
      "metadata": {},
      "source": [
        "# Section 3 - Looping over DataFrames\n",
        "\n",
        "Now, we want to apply the EDD algorithm to the `mission_tasks`\n",
        "DataFrame. We can do this sorting the rows by deadline and then looping\n",
        "over the rows, computing the completion time and the maximum delay.\n",
        "\n",
        "To do this, you can use the `iterrows()` method. The `iterrows()` method\n",
        "returns an iterator yielding index and row as a Series. For each row,\n",
        "you can access the values using the column names as keys. Let’s do this\n",
        "step by step on the `tasks` DataFrame for the original deadline."
      ],
      "id": "d7756531-72bd-496c-90e8-92c39d61fbd0"
    },
    {
      "cell_type": "code",
      "execution_count": 15,
      "metadata": {},
      "outputs": [
        {
          "output_type": "stream",
          "name": "stdout",
          "text": [
            "Processing task: Supply Loading with index: Task 3\n",
            "Processing task: Equipment Check with index: Task 1\n",
            "Processing task: Crew Training with index: Task 2\n",
            "Maximum delay: 3 hours\n",
            "Completion time: 16 hours\n",
            "                   task  duration  deadline  delayed_deadline\n",
            "Task 3   Supply Loading         7         8                 9\n",
            "Task 1  Equipment Check         6        10                11\n",
            "Task 2    Crew Training         3        15                16"
          ]
        }
      ],
      "source": [
        "# Sort by deadline\n",
        "sorted_tasks = tasks.sort_values('deadline')\n",
        "\n",
        "# Initialize completion time and max delay\n",
        "completion_time = 0\n",
        "max_delay = 0\n",
        "\n",
        "# Loop over sorted tasks\n",
        "for index, row in sorted_tasks.iterrows():\n",
        "    print(f\"Processing task: {row['task']} with index: {index}\")\n",
        "    completion_time += row['duration']\n",
        "\n",
        "    if completion_time > row['deadline']:\n",
        "        delay = completion_time - row['deadline']\n",
        "\n",
        "        if delay > max_delay:\n",
        "            max_delay = delay\n",
        "\n",
        "print(f\"Maximum delay: {max_delay} hours\")\n",
        "print(f\"Completion time: {completion_time} hours\")\n",
        "print(sorted_tasks)"
      ],
      "id": "75146322"
    },
    {
      "cell_type": "markdown",
      "metadata": {},
      "source": [
        "> **Note**\n",
        ">\n",
        "> Note, how the index shows the index of the row in the original\n",
        "> DataFrame!\n",
        "\n",
        "If you want to access the index of the row, you can use the `name`\n",
        "attribute to access it. For example, if you want to access the index of\n",
        "the last row, you can use `sorted_tasks.iloc[-1].name`."
      ],
      "id": "57755ce1-ef2f-4a97-b5e3-8a7a1ea5f9e9"
    },
    {
      "cell_type": "code",
      "execution_count": 16,
      "metadata": {},
      "outputs": [
        {
          "output_type": "stream",
          "name": "stdout",
          "text": [
            "Task 2"
          ]
        }
      ],
      "source": [
        "print(sorted_tasks.iloc[-1].name)"
      ],
      "id": "de23e2e3"
    },
    {
      "cell_type": "markdown",
      "metadata": {},
      "source": [
        "## Exercise 3.1 - Apply Earliest Due Date to Mission Tasks\n",
        "\n",
        "Now it is your turn: Apply the EDD algorithm to the `mission_tasks`\n",
        "DataFrame. Remember, that the EDD algorithm **sorts the tasks by the\n",
        "original deadline** and then loops over the rows, computing the\n",
        "completion time and maximum delay for each task (just like in the\n",
        "example above)."
      ],
      "id": "b1b0a8b1-44d1-43ce-b627-4e6d6d524c52"
    },
    {
      "cell_type": "code",
      "execution_count": 17,
      "metadata": {},
      "outputs": [],
      "source": [
        "# YOUR CODE BELOW"
      ],
      "id": "1723ff97"
    },
    {
      "cell_type": "code",
      "execution_count": 18,
      "metadata": {},
      "outputs": [],
      "source": [
        "# Test your answer\n",
        "assert edd_schedule.iloc[0]['task'] == 'Communication Setup', \"First task should be Communication Setup\"\n",
        "assert max_delay == 4, \"Maximum delay should be 4 hours\"\n",
        "assert completion_time == 20, \"Completion time should be 20 hours\"\n",
        "print(\"EDD Schedule created successfully!\")\n",
        "print(edd_schedule)"
      ],
      "id": "8f93f0a9"
    },
    {
      "cell_type": "markdown",
      "metadata": {},
      "source": [
        "## Exercise 3.2 - Apply Shortest Processing Time to Mission Tasks\n",
        "\n",
        "Now, apply the SPT algorithm to the `mission_tasks` DataFrame. Remember,\n",
        "that the SPT algorithm **sorts the tasks by duration** and then loops\n",
        "over the rows, computing the completion time and total waiting time for\n",
        "all tasks.\n",
        "\n",
        "Compute the sum of the waiting times for all tasks in a variabel called\n",
        "`total_waiting_time` and compute the completion time of the last task in\n",
        "a variable called `completion_time`."
      ],
      "id": "11fb0bac-0b60-4995-aeb6-b2d309c26bdc"
    },
    {
      "cell_type": "code",
      "execution_count": 19,
      "metadata": {},
      "outputs": [],
      "source": [
        "# YOUR CODE BELOW"
      ],
      "id": "ed4f65d0"
    },
    {
      "cell_type": "code",
      "execution_count": 20,
      "metadata": {},
      "outputs": [],
      "source": [
        "# Test your answer\n",
        "assert spt_schedule.iloc[0]['task'] == 'Communication Setup', \"First task should be Communication Setup\"\n",
        "assert total_waiting_time == 23, \"Total waiting time should be 23\"\n",
        "assert completion_time == 20, \"Completion time should be 20\"\n",
        "print(\"SPT Schedule created successfully!\")\n",
        "print(spt_schedule)\n",
        "print(f\"Total waiting time: {total_waiting_time}\")"
      ],
      "id": "09c819e0"
    },
    {
      "cell_type": "markdown",
      "metadata": {},
      "source": [
        "# Conclusion\n",
        "\n",
        "You’ve learned how to implement and compare different scheduling\n",
        "algorithms using Pandas DataFrames. These concepts aren’t just\n",
        "theoretical - they’re actively used in mission planning and can be\n",
        "applied to personal task management as well.\n",
        "\n",
        "Remember: - EDD minimizes maximum lateness - SPT minimizes average\n",
        "completion time - Real-world scheduling often needs hybrid approaches\n",
        "considering priorities and dependencies\n",
        "\n",
        "# Solutions\n",
        "\n",
        "You will likely find solutions to most exercises online. However, we\n",
        "strongly encourage you to work on these exercises independently without\n",
        "searching explicitly for the exact answers to the exercises.\n",
        "Understanding someone else’s solution is very different from developing\n",
        "your own. Use the lecture notes and try to solve the exercises on your\n",
        "own. This approach will significantly enhance your learning and\n",
        "problem-solving skills.\n",
        "\n",
        "Remember, the goal is not just to complete the exercises, but to\n",
        "understand the concepts and improve your programming abilities. If you\n",
        "encounter difficulties, review the lecture materials, experiment with\n",
        "different approaches, and don’t hesitate to ask for clarification during\n",
        "class discussions.\n",
        "\n",
        "Later, you will find the solutions to these exercises online in the\n",
        "associated GitHub repository, but we will also quickly go over them next\n",
        "week. To access the solutions, click on the Github button on the lower\n",
        "right and search for the folder with today’s lecture and tutorial.\n",
        "Alternatively, you can ask ChatGPT or Claude to explain them to you. But\n",
        "please remember, the goal is not just to complete the exercises, but to\n",
        "understand the concepts and improve your programming abilities.\n",
        "\n",
        "------------------------------------------------------------------------\n",
        "\n",
        "*That’s it for this weeks tutorials. Next week we are going to cover the\n",
        "topic of randomness in everyday life.*"
      ],
      "id": "45bd9dbb-16a4-439f-885f-b7338b84507f"
    }
  ],
  "nbformat": 4,
  "nbformat_minor": 5,
  "metadata": {
    "kernelspec": {
      "name": "python3",
      "display_name": "Python 3 (ipykernel)",
      "language": "python",
      "path": "/Users/vlcek/Documents/git-projects/Programming-Everyday-Decisions/.venv/share/jupyter/kernels/python3"
    },
    "language_info": {
      "name": "python",
      "codemirror_mode": {
        "name": "ipython",
        "version": "3"
      },
      "file_extension": ".py",
      "mimetype": "text/x-python",
      "nbconvert_exporter": "python",
      "pygments_lexer": "ipython3",
      "version": "3.12.11"
    }
  }
}