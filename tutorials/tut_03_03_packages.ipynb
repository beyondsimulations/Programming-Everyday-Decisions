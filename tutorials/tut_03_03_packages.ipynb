{
  "cells": [
    {
      "cell_type": "markdown",
      "metadata": {},
      "source": [
        "# Tutorial III.III - Package Management\n",
        "\n",
        "Programming: Everyday Decision-Making Algorithms\n",
        "\n",
        "# Introduction\n",
        "\n",
        "Welcome to this guided tutorial on understanding packages and package\n",
        "management in Python! We’ll explore this concept through the lens of\n",
        "library management - how libraries organize, maintain, and share their\n",
        "resources.\n",
        "\n",
        "Think of Python as your local library’s main building. Just like a\n",
        "library has:\n",
        "\n",
        "-   A main collection (Python’s standard library)\n",
        "-   Different sections (third-party packages)\n",
        "-   A catalog system (pip package manager)\n",
        "-   Multiple branches (virtual environments)\n",
        "\n",
        "## In more detail\n",
        "\n",
        "Let’s break this down:\n",
        "\n",
        "1.  **Standard Library**: Like the core collection every library branch\n",
        "    has:\n",
        "\n",
        "    -   Python comes with essential tools built-in\n",
        "    -   Data structures (lists, dictionaries, etc.)\n",
        "    -   Mathematical functions (sin, cos, sqrt, etc.)\n",
        "    -   Random numbers (random, choice, etc.)\n",
        "\n",
        "2.  **Third-Party Packages**: Similar to specialized sections in a\n",
        "    library:\n",
        "\n",
        "    -   Data analysis packages (pandas, numpy) → Research section\n",
        "    -   Visualization packages (matplotlib, seaborn) → Art books\n",
        "    -   Web frameworks (Django, Flask) → Technical manuals\n",
        "    -   Machine learning packages (scikit-learn) → Advanced studies\n",
        "        section\n",
        "\n",
        "3.  **Package Manager (pip)**: Works like the library’s catalog:\n",
        "\n",
        "    -   Installing packages → Ordering new books\n",
        "    -   Updating packages → Replacing with newer editions\n",
        "    -   Uninstalling packages → Removing outdated books\n",
        "    -   Dependencies → “You must read Book A before Book B”\n",
        "\n",
        "4.  **Virtual Environments**: Works like different library branches:\n",
        "\n",
        "    -   Each branch can have its own collection of books (packages)\n",
        "    -   Different editions of the same book (package versions)\n",
        "    -   Specialized sections for different purposes (project-specific\n",
        "        dependencies)\n",
        "\n",
        "**The best part? Most Python packages are free to use, thanks to the\n",
        "open-source community!**\n",
        "\n",
        "> **Note**\n",
        ">\n",
        "> While we’ll practice some commands here, you’ll typically manage\n",
        "> packages in your terminal or IDE.\n",
        "\n",
        "# Section 1 - Using Standard Libraries\n",
        "\n",
        "Before we start using packages, let’s take a look at Python’s standard\n",
        "libraries. Python comes with a set of **standard libraries that are\n",
        "always available**. You can use these libraries by simply importing\n",
        "them. For example, the `math` library provides mathematical functions\n",
        "like `sqrt` and `sin` and the `random` library provides functions to\n",
        "generate random numbers. You can import these libraries using the\n",
        "following syntax:"
      ],
      "id": "e5833c9c-7a8d-410f-8ca7-80984ad841f2"
    },
    {
      "cell_type": "code",
      "execution_count": 1,
      "metadata": {},
      "outputs": [],
      "source": [
        "import math\n",
        "import random"
      ],
      "id": "d13f395a"
    },
    {
      "cell_type": "markdown",
      "metadata": {},
      "source": [
        "You can then use the functions provided by these libraries by calling\n",
        "them with the library name as a prefix. For example, the following code\n",
        "calculates the square root of 16."
      ],
      "id": "20593b3d-fd4f-4793-b3a0-3d5622488eed"
    },
    {
      "cell_type": "code",
      "execution_count": 2,
      "metadata": {},
      "outputs": [
        {
          "output_type": "stream",
          "name": "stdout",
          "text": [
            "The square root of 16 is 4.0!"
          ]
        }
      ],
      "source": [
        "a_square_root = math.sqrt(16)\n",
        "print(f\"The square root of 16 is {a_square_root}!\")"
      ],
      "id": "fd27655f"
    },
    {
      "cell_type": "markdown",
      "metadata": {},
      "source": [
        "The following code generates a random number between 0 and 1."
      ],
      "id": "55f8b613-3145-420e-8f8e-263061117c4e"
    },
    {
      "cell_type": "code",
      "execution_count": 3,
      "metadata": {},
      "outputs": [
        {
          "output_type": "stream",
          "name": "stdout",
          "text": [
            "A random number is 0.0330138981729291!"
          ]
        }
      ],
      "source": [
        "a_random_number = random.random()\n",
        "print(f\"A random number is {a_random_number}!\")"
      ],
      "id": "70f4537f"
    },
    {
      "cell_type": "markdown",
      "metadata": {},
      "source": [
        "We can also use the library to choose a random element from a list. For\n",
        "example, the following code chooses a random element from the list\n",
        "`['book1', 'book2', 'book3']`. Try it out by executing the cell multiple\n",
        "times."
      ],
      "id": "344348b9-6432-48e3-ad1f-81ac82d6df6f"
    },
    {
      "cell_type": "code",
      "execution_count": 4,
      "metadata": {},
      "outputs": [
        {
          "output_type": "stream",
          "name": "stdout",
          "text": [
            "We chose book3!"
          ]
        }
      ],
      "source": [
        "random_choice = random.choice(['book1', 'book2', 'book3'])\n",
        "print(f\"We chose {random_choice}!\")"
      ],
      "id": "a78a43a0"
    },
    {
      "cell_type": "markdown",
      "metadata": {},
      "source": [
        "Sometimes, we only need one function from a library. In this case, we\n",
        "can use the `from` keyword to import only the specific function we need.\n",
        "For example, the following code imports only the `randint` function from\n",
        "the `random` library and uses it to generate a random integer between 1\n",
        "and 10."
      ],
      "id": "aa2e5655-9fae-4a33-a686-22a7d71f9ac8"
    },
    {
      "cell_type": "code",
      "execution_count": 5,
      "metadata": {},
      "outputs": [
        {
          "output_type": "stream",
          "name": "stdout",
          "text": [
            "A random integer between 1 and 10 is 5!"
          ]
        }
      ],
      "source": [
        "from random import randint\n",
        "a_random_integer = randint(1, 10)\n",
        "print(f\"A random integer between 1 and 10 is {a_random_integer}!\")"
      ],
      "id": "28f42284"
    },
    {
      "cell_type": "markdown",
      "metadata": {},
      "source": [
        "Other times, we might need to work with a library that has a rather long\n",
        "name. In this case, we can use the `as` keyword to give the library a\n",
        "shorter name. For example, the following code imports the `random`\n",
        "library and gives it the shorter name `rd`."
      ],
      "id": "c0e0d899-b690-43d2-8092-b0d7e2fdef02"
    },
    {
      "cell_type": "code",
      "execution_count": 6,
      "metadata": {},
      "outputs": [
        {
          "output_type": "stream",
          "name": "stdout",
          "text": [
            "Now, a random integer between 1 and 100 is 5!"
          ]
        }
      ],
      "source": [
        "import random as rd\n",
        "a_random_integer = rd.randint(1, 100)\n",
        "print(f\"Now, a random integer between 1 and 100 is {a_random_integer}!\")"
      ],
      "id": "36029195"
    },
    {
      "cell_type": "markdown",
      "metadata": {},
      "source": [
        "## Exercise 1.1 - Use the math library\n",
        "\n",
        "Use the `math` library to calculate the square root of 256. Call the\n",
        "result `square_root`."
      ],
      "id": "c9e948d7-5fce-401b-88d6-274f2fb1011c"
    },
    {
      "cell_type": "code",
      "execution_count": 7,
      "metadata": {},
      "outputs": [],
      "source": [
        "# YOUR CODE BELOW"
      ],
      "id": "08ef7ce4"
    },
    {
      "cell_type": "code",
      "execution_count": 8,
      "metadata": {},
      "outputs": [],
      "source": [
        "assert square_root == 16\n",
        "print(f\"Great job! The square root of 256 is {square_root}!\")"
      ],
      "id": "26f708db"
    },
    {
      "cell_type": "markdown",
      "metadata": {},
      "source": [
        "## Exercise 1.2 - Use the random library\n",
        "\n",
        "Use the `random` library to generate a random number between 1 and 25.\n",
        "Call the result `random_number`."
      ],
      "id": "892c4ead-47bc-4af4-a43c-4349aac2e824"
    },
    {
      "cell_type": "code",
      "execution_count": 10,
      "metadata": {},
      "outputs": [],
      "source": [
        "assert random_number >= 1 and random_number <= 25\n",
        "print(f\"Good! You generated a random integer {random_number} between 1 and 25!\")"
      ],
      "id": "460dd95f"
    },
    {
      "cell_type": "markdown",
      "metadata": {},
      "source": [
        "# Section 2 - Using a package manager\n",
        "\n",
        "Just as a library needs a system to track books (checkout system,\n",
        "catalog, etc.), Python uses pip or conda to manage its packages. Think\n",
        "of pip or conda as your library’s management system that:\n",
        "\n",
        "-   Keeps track of what’s available (like searching the catalog)\n",
        "-   Handles “checkouts” (installing packages)\n",
        "-   Manages “returns” (uninstalling packages)\n",
        "-   Ensures you have the right “edition” (version management)\n",
        "\n",
        "> **Miniconda**\n",
        ">\n",
        "> As we have installed Miniconda in the lecture, **we will use conda in\n",
        "> this tutorial**. If you work with a standard Python installation, you\n",
        "> can use pip instead but the commands are slightly different.\n",
        "\n",
        "## Exercise 2.1 - Check your package manager version\n",
        "\n",
        "Let’s start by checking which version of conda we have installed. We do\n",
        "so by running the following command in our terminal. Make sure, you are\n",
        "not working with python yet in the terminal, as this command is not\n",
        "available in the python shell. To open a new terminal in VS Code, you\n",
        "can press `ctrl + shift + p` and then type\n",
        "`Terminal: Create new terminal`. Then, run the following command:\n",
        "\n",
        "``` {bash}\n",
        "conda info\n",
        "```\n",
        "\n",
        "If you are not using Miniconda, you can use `pip` instead. Here, you can\n",
        "check the version of your package manager by running the following\n",
        "command in the terminal:\n",
        "\n",
        "``` {bash}\n",
        "pip --version\n",
        "```\n",
        "\n",
        "# Section 3 - Installing Packages\n",
        "\n",
        "Installing packages is like ordering new books for your library branch.\n",
        "Just as a library might:\n",
        "\n",
        "-   Order books from publishers (pip install from PyPI)\n",
        "-   Get specific editions (version specifications)\n",
        "-   Check for space on shelves (system requirements)\n",
        "-   Ensure books don’t conflict (dependency management)\n",
        "\n",
        "Luckily most of that is handled for you and not that important in this\n",
        "basic introduction to python. Installing packages in Python is\n",
        "straightforward using `conda install packagename` if you are using\n",
        "Miniconda. If you are not using Miniconda, you can use\n",
        "`pip install packagename` instead.\n",
        "\n",
        "## Exercise 3.1 - Install pandas\n",
        "\n",
        "Let’s practice by installing pandas, a popular package for data\n",
        "analysis. Execute the following command in your terminal and make sure\n",
        "you are not in the python shell.\n",
        "\n",
        "``` {bash}\n",
        "conda install pandas\n",
        "```\n",
        "\n",
        "Or, if you are not using Miniconda, you can use the following command.\n",
        "\n",
        "``` {bash}\n",
        "pip install pandas\n",
        "```\n",
        "\n",
        "You can test if the installation was successful by running the following\n",
        "code."
      ],
      "id": "1ed26e6f-8060-424a-961a-31178d011f10"
    },
    {
      "cell_type": "code",
      "execution_count": 11,
      "metadata": {},
      "outputs": [],
      "source": [
        "# Test your answer\n",
        "try:\n",
        "    import pandas\n",
        "    print(\"pandas installed successfully!\")\n",
        "except ImportError:\n",
        "    print(\"pandas was not installed correctly\")"
      ],
      "id": "079d1256"
    },
    {
      "cell_type": "markdown",
      "metadata": {},
      "source": [
        "# Section 4 - Virtual Environments\n",
        "\n",
        "Virtual environments are like having different library branches. Each\n",
        "branch can have:\n",
        "\n",
        "-   Its own collection of books (packages)\n",
        "-   Different editions of the same book (package versions)\n",
        "-   Specialized sections for different purposes (project-specific\n",
        "    dependencies)\n",
        "\n",
        "This separation ensures that:\n",
        "\n",
        "-   Changes in one branch don’t affect others (project isolation)\n",
        "-   Each branch can be optimized for its community (project-specific\n",
        "    dependencies)\n",
        "-   You can experiment without affecting the main collection\n",
        "    (development safety)\n",
        "\n",
        "For now, you don’t need to worry about virtual environments. This is\n",
        "more advanced and thus not necessary for this tutorial (or lecture). But\n",
        "it’s good to know that they exist and that you can use them to manage\n",
        "your packages. Still, if you ever want to check them out, you can use\n",
        "the following command to create a new virtual environment with a certain\n",
        "name and Python version.\n",
        "\n",
        "``` {bash}\n",
        "conda create -n myenv python=3.10\n",
        "```\n",
        "\n",
        "> **Note**\n",
        ">\n",
        "> You can replace `myenv` with any name you want and `python=3.10` with\n",
        "> the Python version you want.\n",
        "\n",
        "To activate the environment later on, you can use the following command:\n",
        "\n",
        "``` {bash}\n",
        "conda activate myenv\n",
        "```\n",
        "\n",
        "# Conclusion\n",
        "\n",
        "Congratulations! You’ve learned about Python package management through\n",
        "the lens of library caching. Remember, just like libraries use caching\n",
        "to make popular books more accessible, Python uses package management to\n",
        "make useful code more accessible!\n",
        "\n",
        "# Solutions\n",
        "\n",
        "You will likely find solutions to most exercises online. However, we\n",
        "strongly encourage you to work on these exercises independently without\n",
        "searching explicitly for the exact answers to the exercises.\n",
        "Understanding someone else’s solution is very different from developing\n",
        "your own. Use the lecture notes and try to solve the exercises on your\n",
        "own. This approach will significantly enhance your learning and\n",
        "problem-solving skills.\n",
        "\n",
        "Remember, the goal is not just to complete the exercises, but to\n",
        "understand the concepts and improve your programming abilities. If you\n",
        "encounter difficulties, review the lecture materials, experiment with\n",
        "different approaches, and don’t hesitate to ask for clarification during\n",
        "class discussions.\n",
        "\n",
        "Later, you will find the solutions to these exercises online in the\n",
        "associated GitHub repository, but we will also quickly go over them next\n",
        "week. To access the solutions, click on the Github button on the lower\n",
        "right and search for the folder with today’s lecture and tutorial.\n",
        "Alternatively, you can ask ChatGPT or Claude to explain them to you. But\n",
        "please remember, the goal is not just to complete the exercises, but to\n",
        "understand the concepts and improve your programming abilities.\n",
        "\n",
        "------------------------------------------------------------------------\n",
        "\n",
        "*That’s it for this week! Next week, we’ll take a look at how to read\n",
        "and write files in Python and work with tabular data!*"
      ],
      "id": "b78130ee-a80f-4b3c-965e-3b338e927d7c"
    }
  ],
  "nbformat": 4,
  "nbformat_minor": 5,
  "metadata": {
    "kernelspec": {
      "name": "python3",
      "display_name": "Python 3 (ipykernel)",
      "language": "python",
      "path": "/Users/vlcek/Documents/git-projects/Programming-Everyday-Decisions/.venv/share/jupyter/kernels/python3"
    },
    "language_info": {
      "name": "python",
      "codemirror_mode": {
        "name": "ipython",
        "version": "3"
      },
      "file_extension": ".py",
      "mimetype": "text/x-python",
      "nbconvert_exporter": "python",
      "pygments_lexer": "ipython3",
      "version": "3.12.11"
    }
  }
}