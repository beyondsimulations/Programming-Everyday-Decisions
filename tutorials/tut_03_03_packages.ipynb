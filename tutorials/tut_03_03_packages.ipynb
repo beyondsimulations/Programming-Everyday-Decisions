{
  "cells": [
    {
      "cell_type": "markdown",
      "metadata": {},
      "source": [
        "# Tutorial III.III - Package Management\n",
        "\n",
        "Programming: Everyday Decision-Making Algorithms\n",
        "\n",
        "# Introduction\n",
        "\n",
        "Welcome to this guided tutorial on understanding packages and package\n",
        "management in Python! We’ll explore this concept through the lens of\n",
        "library management - how libraries organize, maintain, and share their\n",
        "resources.\n",
        "\n",
        "Think of Python as your local library’s main building. Just like a\n",
        "library has:\n",
        "\n",
        "-   A main collection (Python’s standard library)\n",
        "-   Different sections (third-party packages)\n",
        "-   A catalog system (a package manager — we use `uv`)\n",
        "-   Multiple branches (virtual environments / project folders)\n",
        "\n",
        "## In more detail\n",
        "\n",
        "Let’s break this down:\n",
        "\n",
        "1.  **Standard Library**: Like the core collection every library branch\n",
        "    has:\n",
        "\n",
        "    -   Python comes with essential tools built-in\n",
        "    -   Data structures (lists, dictionaries, etc.)\n",
        "    -   Mathematical functions (sin, cos, sqrt, etc.)\n",
        "    -   Random numbers (random, choice, etc.)\n",
        "\n",
        "2.  **Third-Party Packages**: Similar to specialized sections in a\n",
        "    library:\n",
        "\n",
        "    -   Data analysis packages (pandas, numpy) → Research section\n",
        "    -   Visualization packages (matplotlib, seaborn) → Art books\n",
        "    -   Web frameworks (Django, Flask) → Technical manuals\n",
        "    -   Machine learning packages (scikit-learn) → Advanced studies\n",
        "        section\n",
        "\n",
        "3.  **Package Manager (`uv`)**: Works like the library’s catalog:\n",
        "\n",
        "    -   Installing packages → Ordering new books\n",
        "    -   Updating packages → Replacing with newer editions\n",
        "    -   Uninstalling packages → Removing outdated books\n",
        "    -   Dependencies → “You must read Book A before Book B”\n",
        "\n",
        "4.  **Project Environments** (managed automatically by `uv`): Like\n",
        "    different library branches:\n",
        "\n",
        "    -   Each branch can have its own collection of books (packages)\n",
        "    -   Different editions of the same book (package versions)\n",
        "    -   Specialized sections for different purposes (project-specific\n",
        "        dependencies)\n",
        "\n",
        "**The best part? Most Python packages are free to use, thanks to the\n",
        "open-source community!**\n",
        "\n",
        "> **Note**\n",
        ">\n",
        "> We use `uv` in this course for Python version management, virtual\n",
        "> environments, and packages. See the separate guide for more details:\n",
        "> [uv setup](../general/uv.qmd).\n",
        "\n",
        "# Section 1 - Using Standard Libraries\n",
        "\n",
        "Before we start using external packages, let’s take a look at Python’s\n",
        "standard libraries. Python comes with a set of **standard libraries that\n",
        "are always available**. You can use these libraries by simply importing\n",
        "them. For example, the `math` library provides mathematical functions\n",
        "like `sqrt` and `sin` and the `random` library provides functions to\n",
        "generate random numbers. You can import these libraries using the\n",
        "following syntax:"
      ],
      "id": "c5ac87d2-ca6d-4bff-9be7-edf3faeeef44"
    },
    {
      "cell_type": "code",
      "execution_count": 1,
      "metadata": {},
      "outputs": [],
      "source": [
        "import math\n",
        "import random"
      ],
      "id": "b1a3433a"
    },
    {
      "cell_type": "markdown",
      "metadata": {},
      "source": [
        "You can then use the functions provided by these libraries by calling\n",
        "them with the library name as a prefix. For example, the following code\n",
        "calculates the square root of 16."
      ],
      "id": "a147e5f5-f91e-4bdd-a198-4146ab29901c"
    },
    {
      "cell_type": "code",
      "execution_count": 2,
      "metadata": {},
      "outputs": [
        {
          "output_type": "stream",
          "name": "stdout",
          "text": [
            "The square root of 16 is 4.0!"
          ]
        }
      ],
      "source": [
        "a_square_root = math.sqrt(16)\n",
        "print(f\"The square root of 16 is {a_square_root}!\")"
      ],
      "id": "9eb49d62"
    },
    {
      "cell_type": "markdown",
      "metadata": {},
      "source": [
        "The following code generates a random number between 0 and 1."
      ],
      "id": "f5e7639c-442d-46c7-8926-1213f7a60aea"
    },
    {
      "cell_type": "code",
      "execution_count": 3,
      "metadata": {},
      "outputs": [
        {
          "output_type": "stream",
          "name": "stdout",
          "text": [
            "A random number is 0.5270037241116698!"
          ]
        }
      ],
      "source": [
        "a_random_number = random.random()\n",
        "print(f\"A random number is {a_random_number}!\")"
      ],
      "id": "98e3d50b"
    },
    {
      "cell_type": "markdown",
      "metadata": {},
      "source": [
        "We can also use the library to choose a random element from a list. For\n",
        "example, the following code chooses a random element from the list\n",
        "`['book1', 'book2', 'book3']`. Try it out by executing the cell multiple\n",
        "times."
      ],
      "id": "43fb2d1a-67c8-4021-833d-e049186fbf1a"
    },
    {
      "cell_type": "code",
      "execution_count": 4,
      "metadata": {},
      "outputs": [
        {
          "output_type": "stream",
          "name": "stdout",
          "text": [
            "We chose book1!"
          ]
        }
      ],
      "source": [
        "random_choice = random.choice(['book1', 'book2', 'book3'])\n",
        "print(f\"We chose {random_choice}!\")"
      ],
      "id": "7760acf5"
    },
    {
      "cell_type": "markdown",
      "metadata": {},
      "source": [
        "Sometimes, we only need one function from a library. In this case, we\n",
        "can use the `from` keyword to import only the specific function we need.\n",
        "For example, the following code imports only the `randint` function from\n",
        "the `random` library and uses it to generate a random integer between 1\n",
        "and 10."
      ],
      "id": "45554232-ea37-45df-9ad3-9029436c906b"
    },
    {
      "cell_type": "code",
      "execution_count": 5,
      "metadata": {},
      "outputs": [
        {
          "output_type": "stream",
          "name": "stdout",
          "text": [
            "A random integer between 1 and 10 is 1!"
          ]
        }
      ],
      "source": [
        "from random import randint\n",
        "a_random_integer = randint(1, 10)\n",
        "print(f\"A random integer between 1 and 10 is {a_random_integer}!\")"
      ],
      "id": "cb0b86a3"
    },
    {
      "cell_type": "markdown",
      "metadata": {},
      "source": [
        "Other times, we might need to work with a library that has a rather long\n",
        "name. In this case, we can use the `as` keyword to give the library a\n",
        "shorter name. For example, the following code imports the `random`\n",
        "library and gives it the shorter name `rd`."
      ],
      "id": "17631b66-ed76-4f7c-a294-4fa2a7d4d9b8"
    },
    {
      "cell_type": "code",
      "execution_count": 6,
      "metadata": {},
      "outputs": [
        {
          "output_type": "stream",
          "name": "stdout",
          "text": [
            "Now, a random integer between 1 and 100 is 82!"
          ]
        }
      ],
      "source": [
        "import random as rd\n",
        "a_random_integer = rd.randint(1, 100)\n",
        "print(f\"Now, a random integer between 1 and 100 is {a_random_integer}!\")"
      ],
      "id": "a8a5b45c"
    },
    {
      "cell_type": "markdown",
      "metadata": {},
      "source": [
        "## Exercise 1.1 - Use the math library\n",
        "\n",
        "Use the `math` library to calculate the square root of 256. Call the\n",
        "result `square_root`."
      ],
      "id": "ab351252-99cd-4150-a800-2a66372f9379"
    },
    {
      "cell_type": "code",
      "execution_count": 7,
      "metadata": {},
      "outputs": [],
      "source": [
        "# YOUR CODE BELOW"
      ],
      "id": "29622211"
    },
    {
      "cell_type": "code",
      "execution_count": 8,
      "metadata": {},
      "outputs": [],
      "source": [
        "assert square_root == 16\n",
        "print(f\"Great job! The square root of 256 is {square_root}!\")"
      ],
      "id": "18cae14f"
    },
    {
      "cell_type": "markdown",
      "metadata": {},
      "source": [
        "## Exercise 1.2 - Use the random library\n",
        "\n",
        "Use the `random` library to generate a random number between 1 and 25.\n",
        "Call the result `random_number`."
      ],
      "id": "537ad3a6-4cca-46d7-b6ba-2eb895f1acf1"
    },
    {
      "cell_type": "code",
      "execution_count": 10,
      "metadata": {},
      "outputs": [],
      "source": [
        "assert random_number >= 1 and random_number <= 25\n",
        "print(f\"Good! You generated a random integer {random_number} between 1 and 25!\")"
      ],
      "id": "708b8ae1"
    },
    {
      "cell_type": "markdown",
      "metadata": {},
      "source": [
        "# Section 2 - Using a package manager (`uv`)\n",
        "\n",
        "Just as a library needs a system to track books (checkout system,\n",
        "catalog, etc.), Python projects need a tool to manage versions and\n",
        "dependencies. We use `uv` because it:\n",
        "\n",
        "-   Keeps track of what’s available (like searching the catalog)\n",
        "-   Handles “checkouts” (installing packages)\n",
        "-   Manages “returns” (uninstalling packages)\n",
        "-   Ensures you have the right “edition” (version management)\n",
        "\n",
        "## Exercise 2.1 - Check your `uv` installation\n",
        "\n",
        "Open a terminal (not the Python REPL) and run:\n",
        "\n",
        "``` {bash}\n",
        "uv --version\n",
        "```\n",
        "\n",
        "You should see a version number.\n",
        "\n",
        "Then confirm your Python version (after installing one via `uv` if\n",
        "needed):\n",
        "\n",
        "``` {bash}\n",
        "uv run python --version\n",
        "```\n",
        "\n",
        "# Section 3 - Installing Packages\n",
        "\n",
        "Installing packages is like ordering new books for your library branch.\n",
        "With `uv` you typically:\n",
        "\n",
        "-   Initialize a project once (`uv init`)\n",
        "-   Add dependencies (`uv add packagename`)\n",
        "-   Remove them if not needed (`uv remove packagename`)\n",
        "-   Sync a project copied from elsewhere (`uv sync`)\n",
        "-   Update dependencies (`uv update`)\n",
        "\n",
        "Under the hood `uv` creates (and reuses) a virtual environment for the\n",
        "project. Luckily most of that is handled for you and not that important\n",
        "in this basic introduction to Python.\n",
        "\n",
        "## Exercise 3.1 - Add `pandas`\n",
        "\n",
        "Inside a `uv`-initialized project directory, run:\n",
        "\n",
        "``` {bash}\n",
        "uv add pandas\n",
        "```\n",
        "\n",
        "This: - Resolves dependencies - Adds `pandas` to `pyproject.toml` -\n",
        "Installs it into the project’s virtual environment\n",
        "\n",
        "You can test if the installation was successful by running:"
      ],
      "id": "c181a6ce-6803-476c-92b0-209ae07168c0"
    },
    {
      "cell_type": "code",
      "execution_count": 11,
      "metadata": {},
      "outputs": [],
      "source": [
        "# Test your answer\n",
        "try:\n",
        "    import pandas\n",
        "    print(\"pandas installed successfully!\")\n",
        "except ImportError:\n",
        "    print(\"pandas was not installed correctly\")"
      ],
      "id": "eea7496e"
    },
    {
      "cell_type": "markdown",
      "metadata": {},
      "source": [
        "(If you see an import error, verify you are inside the project folder\n",
        "you initialized with `uv init`.)\n",
        "\n",
        "Virtual environments are like having different library branches. Each\n",
        "branch can have:\n",
        "\n",
        "-   Its own collection of books (packages)\n",
        "-   Different editions of the same book (package versions)\n",
        "-   Specialized sections for different purposes (project-specific\n",
        "    dependencies)\n",
        "\n",
        "This separation ensures that:\n",
        "\n",
        "-   Changes in one branch don’t affect others (project isolation)\n",
        "-   Each branch can be optimized for its community (project-specific\n",
        "    dependencies)\n",
        "-   You can experiment without affecting the main collection\n",
        "    (development safety)\n",
        "\n",
        "For now, you don’t need to worry about virtual environments except for\n",
        "the one we created now. This is more advanced and thus not necessary for\n",
        "this tutorial (or lecture). But it’s good to know that they exist and\n",
        "that you can use them to manage your packages.\n",
        "\n",
        "# Conclusion\n",
        "\n",
        "Great work! You learned how Python projects organize and access code\n",
        "via:\n",
        "\n",
        "-   The standard library\n",
        "-   Third-party packages\n",
        "-   A modern package & environment manager (`uv`)\n",
        "-   Isolated project environments for reliability\n",
        "\n",
        "Treat each project like its own library branch: well‑labeled,\n",
        "independent, and easy to maintain.\n",
        "\n",
        "# Solutions\n",
        "\n",
        "You will likely find solutions to most exercises online. However, we\n",
        "strongly encourage you to work on these exercises independently without\n",
        "searching explicitly for the exact answers to the exercises.\n",
        "Understanding someone else’s solution is very different from developing\n",
        "your own. Use the lecture notes and try to solve the exercises on your\n",
        "own. This approach will significantly enhance your learning and\n",
        "problem-solving skills.\n",
        "\n",
        "Remember, the goal is not just to complete the exercises, but to\n",
        "understand the concepts and improve your programming abilities. If you\n",
        "encounter difficulties, review the lecture materials, experiment with\n",
        "different approaches, and don’t hesitate to ask for clarification during\n",
        "class discussions.\n",
        "\n",
        "Later, you will find the solutions to these exercises online in the\n",
        "associated GitHub repository, but we will also quickly go over them next\n",
        "week. To access the solutions, click on the Github button on the lower\n",
        "right and search for the folder with today’s lecture and tutorial.\n",
        "Alternatively, you can ask ChatGPT or Claude to explain them to you. But\n",
        "please remember, the goal is not just to complete the exercises, but to\n",
        "understand the concepts and improve your programming abilities.\n",
        "\n",
        "------------------------------------------------------------------------\n",
        "\n",
        "*That’s it for this week! Next week, we’ll take a look at how to read\n",
        "and write files in Python and work with tabular data!*"
      ],
      "id": "f82be04d-fc02-4b38-9a79-8b8c0618e27b"
    }
  ],
  "nbformat": 4,
  "nbformat_minor": 5,
  "metadata": {
    "kernelspec": {
      "name": "python3",
      "display_name": "Python 3 (ipykernel)",
      "language": "python",
      "path": "/Users/vlcek/Documents/git-teaching/Programming-Everyday-Decisions/.venv/share/jupyter/kernels/python3"
    },
    "language_info": {
      "name": "python",
      "codemirror_mode": {
        "name": "ipython",
        "version": "3"
      },
      "file_extension": ".py",
      "mimetype": "text/x-python",
      "nbconvert_exporter": "python",
      "pygments_lexer": "ipython3",
      "version": "3.12.11"
    }
  }
}