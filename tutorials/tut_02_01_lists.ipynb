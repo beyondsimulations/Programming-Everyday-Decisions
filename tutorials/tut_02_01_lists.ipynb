{
  "cells": [
    {
      "cell_type": "markdown",
      "metadata": {},
      "source": [
        "# Tutorial II.I - Lists and Tuples\n",
        "\n",
        "Programming: Everyday Decision-Making Algorithms\n",
        "\n",
        "# Introduction\n",
        "\n",
        "When deciding where to eat, we often face a dilemma: should we go to our\n",
        "favorite restaurant (exploit) or try somewhere new (explore)? This is a\n",
        "perfect example of the explore-exploit trade-off! To help us analyze\n",
        "this problem, we need to learn about lists and tuples in Python.\n",
        "\n",
        "-   Lists are like our dining history - we can add new restaurants and\n",
        "    remove ones we don’t like\n",
        "-   Tuples are like a restaurant’s fixed menu - once set, it doesn’t\n",
        "    change\n",
        "\n",
        "Let’s learn these concepts by helping a food critic make better\n",
        "restaurant decisions!\n",
        "\n",
        "> **Note**\n",
        ">\n",
        "> If a cell is marked with `YOUR CODE BELOW`, you are expected to write\n",
        "> your code in that cell.\n",
        "\n",
        "# Section 1 - Lists\n",
        "\n",
        "Lists in Python are ordered collections of items that can be modified.\n",
        "Think of them as a restaurant review notebook where each page can be\n",
        "added, removed, or edited. Lists are created using square brackets `[]`\n",
        "and can contain any type of data (numbers, strings, even other lists!).\n",
        "They are fundamental data structures in Python that help us organize and\n",
        "manage collections of data. They’re particularly useful for our\n",
        "restaurant decision-making scenario as they allow us to:\n",
        "\n",
        "-   Track multiple restaurants in a single variable\n",
        "-   Modify our preferences over time\n",
        "-   Access restaurants by their position in our list\n",
        "\n",
        "Here are some examples:"
      ],
      "id": "e0d248d0-8bb1-412f-af02-9c62a967b3cf"
    },
    {
      "cell_type": "code",
      "execution_count": 1,
      "metadata": {},
      "outputs": [],
      "source": [
        "# Creating a list of restaurant ratings\n",
        "ratings = [4.5, 3.8, 4.2, 4.7, 3.9]\n",
        "\n",
        "# Creating a list of restaurant names\n",
        "restaurants = [\"Pasta Place\", \"Sushi Bar\", \"Burger Joint\"]\n",
        "\n",
        "# Creating a mixed list (not recommended, but possible)\n",
        "mixed_data = [\"Pasta Place\", 4.5, True]"
      ],
      "id": "4d2087e3"
    },
    {
      "cell_type": "markdown",
      "metadata": {},
      "source": [
        "## Working with Lists\n",
        "\n",
        "Lists are flexible. Here are the most common operations:\n",
        "\n",
        "1.  **Adding items** (like discovering a new restaurant):\n",
        "    -   `append()` adds to the end\n",
        "    -   `insert()` adds at a specific position"
      ],
      "id": "453b3198-1c42-41bf-a6ca-4707779c8c78"
    },
    {
      "cell_type": "code",
      "execution_count": 2,
      "metadata": {},
      "outputs": [
        {
          "output_type": "stream",
          "name": "stdout",
          "text": [
            "['Pasta Place', 'Sushi Bar', 'Pizza Palace']\n",
            "['Pasta Place', 'Taco Shop', 'Sushi Bar', 'Pizza Palace']"
          ]
        }
      ],
      "source": [
        "# Adding a new restaurant\n",
        "restaurants = [\"Pasta Place\", \"Sushi Bar\"]\n",
        "restaurants.append(\"Pizza Palace\") # Adds to the end\n",
        "print(restaurants)\n",
        "\n",
        "# You can also insert at a specific position\n",
        "restaurants.insert(1, \"Taco Shop\") # Adds at position 1\n",
        "print(restaurants) # [\"Pasta Place\", \"Taco Shop\", \"Sushi Bar\", \"Pizza Palace\"]"
      ],
      "id": "b840b671"
    },
    {
      "cell_type": "markdown",
      "metadata": {},
      "source": [
        "1.  **Removing items** (like removing a restaurant you don’t like):\n",
        "    -   `pop()` removes the last item\n",
        "    -   `remove()` removes a specific item"
      ],
      "id": "55fdbd77-4198-4ce2-b8ca-c26f1c38e57b"
    },
    {
      "cell_type": "code",
      "execution_count": 3,
      "metadata": {},
      "outputs": [
        {
          "output_type": "stream",
          "name": "stdout",
          "text": [
            "['Pasta Place', 'Taco Shop', 'Sushi Bar']\n",
            "['Taco Shop', 'Sushi Bar']"
          ]
        }
      ],
      "source": [
        "# Removing the last restaurant\n",
        "restaurants = [\"Pasta Place\", \"Taco Shop\", \"Sushi Bar\", \"Pizza Palace\"]\n",
        "restaurants.pop() # Removes and returns the last item\n",
        "print(restaurants)\n",
        "\n",
        "# Removing a specific item\n",
        "restaurants.remove(\"Pasta Place\")\n",
        "print(restaurants)"
      ],
      "id": "b2b4f091"
    },
    {
      "cell_type": "markdown",
      "metadata": {},
      "source": [
        "1.  **Accessing items** (like looking up a restaurant by position):\n",
        "    -   `[0]` gives you the first item\n",
        "    -   `[1:3]` gives you items second and third\n",
        "    -   `[-1]` gives you the last item"
      ],
      "id": "0872cd33-e550-4324-b957-4ff2fbd653d5"
    },
    {
      "cell_type": "code",
      "execution_count": 4,
      "metadata": {},
      "outputs": [],
      "source": [
        "restaurants = [\"Pasta Place\", \"Sushi Bar\", \"Burger Joint\"]\n",
        "first_choice = restaurants[0] # Gets \"Pasta Place\"\n",
        "last_choice = restaurants[-1] # Gets \"Burger Joint\"\n",
        "some_choices = restaurants[0:2] # Gets [\"Pasta Place\", \"Sushi Bar\"]"
      ],
      "id": "cc7299b4"
    },
    {
      "cell_type": "markdown",
      "metadata": {},
      "source": [
        "> **Tip**\n",
        ">\n",
        "> In Python, we start counting positions from 0, not 1. So\n",
        "> `restaurants[0]` gives you the first restaurant!\n",
        "\n",
        "## Exercise 1.1 - Create a Restaurant List\n",
        "\n",
        "reate a list `favorite_spots` with your top three favorite restaurants.\n",
        "Remember to:\n",
        "\n",
        "-   Use square brackets `[]`\n",
        "-   Put restaurant names in quotes (they’re strings!)\n",
        "-   Separate items with commas"
      ],
      "id": "80b35dbc-76b7-431f-a4d4-8d1e541325a3"
    },
    {
      "cell_type": "code",
      "execution_count": 5,
      "metadata": {},
      "outputs": [],
      "source": [
        "# YOUR CODE BELOW"
      ],
      "id": "04ef1be1"
    },
    {
      "cell_type": "code",
      "execution_count": 6,
      "metadata": {},
      "outputs": [],
      "source": [
        "# Test your answer\n",
        "assert len(favorite_spots) == 3, \"You should have exactly 3 restaurants\"\n",
        "assert isinstance(favorite_spots, list), \"favorite_spots should be a list\"\n",
        "assert all(isinstance(x, str) for x in favorite_spots), \"All items should be strings\"\n",
        "print(\"Your favorite restaurants:\", favorite_spots)"
      ],
      "id": "091254ca"
    },
    {
      "cell_type": "markdown",
      "metadata": {},
      "source": [
        "## Exercise 1.2 - Add a New Discovery\n",
        "\n",
        "You’ve discovered a new restaurant called “The Golden Fork”. Add it to\n",
        "your `favorite_spots` list using the `append()` method. Think of this as\n",
        "writing a new entry in your restaurant diary!"
      ],
      "id": "3001112c-e82c-4dc2-9c9a-be4fe3eec7a4"
    },
    {
      "cell_type": "code",
      "execution_count": 7,
      "metadata": {},
      "outputs": [],
      "source": [
        "# YOUR CODE BELOW"
      ],
      "id": "678b18a7"
    },
    {
      "cell_type": "code",
      "execution_count": 8,
      "metadata": {},
      "outputs": [],
      "source": [
        "# Test your answer\n",
        "assert \"The Golden Fork\" in favorite_spots, \"The Golden Fork should be in the list\"\n",
        "assert len(favorite_spots) == 4, \"You should now have 4 restaurants\"\n",
        "print(\"Updated restaurant list:\", favorite_spots)"
      ],
      "id": "c47dc575"
    },
    {
      "cell_type": "markdown",
      "metadata": {},
      "source": [
        "## Exercise 1.3 - Remove a Restaurant\n",
        "\n",
        "The last restaurant in your list closed down. Remove it using the\n",
        "`pop()` method."
      ],
      "id": "5bbd0b92-715e-4228-b8ef-2700a221d620"
    },
    {
      "cell_type": "code",
      "execution_count": 9,
      "metadata": {},
      "outputs": [],
      "source": [
        "# YOUR CODE BELOW"
      ],
      "id": "7cabf7f0"
    },
    {
      "cell_type": "code",
      "execution_count": 10,
      "metadata": {},
      "outputs": [],
      "source": [
        "# Test your answer\n",
        "assert \"The Golden Fork\" not in favorite_spots, \"The Golden Fork should be removed\"\n",
        "assert len(favorite_spots) == 3, \"You should now have 3 restaurants\"\n",
        "print(\"Updated restaurant list:\", favorite_spots)"
      ],
      "id": "69d64d46"
    },
    {
      "cell_type": "markdown",
      "metadata": {},
      "source": [
        "# Section 2 - Nested Lists\n",
        "\n",
        "Sometimes we need to store multiple pieces of information about each\n",
        "restaurant. We can use lists inside lists (nested lists) for this! Think\n",
        "of it as a detailed restaurant spreadsheet:"
      ],
      "id": "3c3cb277-04ea-4180-96a0-a9342e1abe06"
    },
    {
      "cell_type": "code",
      "execution_count": 11,
      "metadata": {},
      "outputs": [],
      "source": [
        "# Restaurant data: [name, rating, times_visited]\n",
        "restaurant_data = [\n",
        "[\"Pasta Place\", 4.5, 3], # Each inner list is one restaurant's data\n",
        "[\"Sushi Bar\", 4.2, 1],\n",
        "[\"Burger Joint\", 3.8, 2]\n",
        "]\n",
        "\n",
        "# To access data:\n",
        "first_restaurant_name = restaurant_data[0][0] # \"Pasta Place\"\n",
        "first_restaurant_rating = restaurant_data[0][1] # 4.5\n",
        "first_restaurant_visits = restaurant_data[0][2] # 3"
      ],
      "id": "2569003a"
    },
    {
      "cell_type": "markdown",
      "metadata": {},
      "source": [
        "> **Tip**\n",
        ">\n",
        "> When accessing nested lists, the first `[]` selects the outer list\n",
        "> item, and the second `[]` selects from within that item. Like finding\n",
        "> a page in a book (first number) and then a paragraph on that page\n",
        "> (second number).\n",
        "\n",
        "## Exercise 2.1 - Access Restaurant Info\n",
        "\n",
        "Using the `restaurant_data` list above, create variables\n",
        "`best_restaurant` and `best_rating` containing the name and rating of\n",
        "the restaurant with the highest rating. You’ll need to:\n",
        "\n",
        "1.  Look at each restaurant’s rating (position 1 in each inner list)\n",
        "2.  Keep track of the highest rating and its restaurant name"
      ],
      "id": "b733325f-9f7f-40f4-8c68-8e313dd26128"
    },
    {
      "cell_type": "code",
      "execution_count": 12,
      "metadata": {},
      "outputs": [],
      "source": [
        "restaurant_data = [\n",
        "    [\"Pasta Place\", 4.5, 3],\n",
        "    [\"Sushi Bar\", 4.2, 1],\n",
        "    [\"Burger Joint\", 3.8, 2]\n",
        "]\n",
        "# YOUR CODE BELOW"
      ],
      "id": "6d54c664"
    },
    {
      "cell_type": "code",
      "execution_count": 13,
      "metadata": {},
      "outputs": [],
      "source": [
        "# Test your answer\n",
        "assert best_restaurant == \"Pasta Place\", \"Should be the restaurant with highest rating\"\n",
        "assert best_rating == 4.5, \"Should be the highest rating\"\n",
        "print(f\"The best restaurant is {best_restaurant} with a rating of {best_rating}\")"
      ],
      "id": "4a48d58d"
    },
    {
      "cell_type": "markdown",
      "metadata": {},
      "source": [
        "# Exercise 2.2 - Create a Categorized Restaurant List\n",
        "\n",
        "Create a nested list `categorized_restaurants` where each inner list\n",
        "contains: 1. Two cuisine categories - here `\"Italian\"` and `\"Japanese\"`\n",
        "2. A list of restaurant names with two entries for each category"
      ],
      "id": "60856130-a5e9-412f-b01d-2652cd97bc3f"
    },
    {
      "cell_type": "code",
      "execution_count": 14,
      "metadata": {},
      "outputs": [],
      "source": [
        "# Example structure:\n",
        "# [\n",
        "#    [\"German\", [\"Brauhaus\", \"Bierhaus\"]],\n",
        "#    [\"Swedish\", [\"Fika\", \"Ivar's\"]]\n",
        "# ]\n",
        "\n",
        "# YOUR CODE BELOW"
      ],
      "id": "a7ebf26e"
    },
    {
      "cell_type": "code",
      "execution_count": 15,
      "metadata": {},
      "outputs": [],
      "source": [
        "# Test your answer\n",
        "assert isinstance(categorized_restaurants, list), \"Should be a list\"\n",
        "assert all(len(x) == 2 for x in categorized_restaurants), \"Each list should have 2 elements, first is cuisine, second is list of restaurants\"\n",
        "assert all(isinstance(x[0], str) for x in categorized_restaurants), \"Categories should be strings\"\n",
        "assert all(isinstance(x[1], list) for x in categorized_restaurants), \"Restaurant lists should be lists\"\n",
        "print(\"Your categorized restaurants:\", categorized_restaurants)"
      ],
      "id": "aab3a674"
    },
    {
      "cell_type": "markdown",
      "metadata": {},
      "source": [
        "# Section 3 - Tuples for Fixed Data\n",
        "\n",
        "While lists are great for data that changes (like your favorite\n",
        "restaurants), sometimes we need to store data that shouldn’t change\n",
        "(like a restaurant’s location or founding date). That’s where tuples\n",
        "come in! Tuples are like lists but immutable (unchangeable). They use\n",
        "parentheses `()` instead of square brackets `[]`:"
      ],
      "id": "a7efb33a-aede-435f-ae5a-9e84e90a8a1b"
    },
    {
      "cell_type": "code",
      "execution_count": 16,
      "metadata": {},
      "outputs": [],
      "source": [
        "# Restaurant info that won't change\n",
        "restaurant_info = (\"Pasta Place\", \"Italian\", \"Downtown\")\n",
        "name = restaurant_info[0]  # Access like lists\n",
        "cuisine = restaurant_info[1]\n",
        "location = restaurant_info[2]"
      ],
      "id": "17ecc8c4"
    },
    {
      "cell_type": "markdown",
      "metadata": {},
      "source": [
        "## Why use tuples?\n",
        "\n",
        "1.  They protect data that shouldn’t change\n",
        "2.  They use less memory than lists\n",
        "3.  They can be used as dictionary keys (which we’ll learn about later)\n",
        "\n",
        "> **Tip**\n",
        ">\n",
        "> Think of tuples as sealed envelopes - once you seal them, you can’t\n",
        "> change what’s inside. Lists are like notebooks where you can add or\n",
        "> remove pages.\n",
        "\n",
        "## Exercise 3.1 - Create Restaurant Profile\n",
        "\n",
        "Create a tuple `restaurant_profile` with three elements: restaurant\n",
        "name, cuisine type, and founding year. You can freely choose the values\n",
        "for these elements, just make sure they are of the correct type."
      ],
      "id": "f80508d0-365f-4323-afe7-7a2d560e24ce"
    },
    {
      "cell_type": "code",
      "execution_count": 17,
      "metadata": {},
      "outputs": [],
      "source": [
        "# YOUR CODE BELOW"
      ],
      "id": "2cf3b1a0"
    },
    {
      "cell_type": "code",
      "execution_count": 18,
      "metadata": {},
      "outputs": [],
      "source": [
        "# Test your answer\n",
        "assert isinstance(restaurant_profile, tuple), \"Should be a tuple\"\n",
        "assert len(restaurant_profile) == 3, \"Should have exactly 3 elements\"\n",
        "assert isinstance(restaurant_profile[0], str), \"First element should be a string (name)\"\n",
        "assert isinstance(restaurant_profile[1], str), \"Second element should be a string (cuisine)\"\n",
        "assert isinstance(restaurant_profile[2], int), \"Third element should be an integer (year)\"\n",
        "print(\"Restaurant profile:\", restaurant_profile)"
      ],
      "id": "3fb5fe63"
    },
    {
      "cell_type": "markdown",
      "metadata": {},
      "source": [
        "# Conclusion\n",
        "\n",
        "Great work! You’ve learned about lists and tuples in Python through the\n",
        "lens of restaurant decision-making. These tools are essential for:\n",
        "\n",
        "-   Tracking your favorite restaurants (lists)\n",
        "-   Managing ratings and visits (nested lists)\n",
        "-   Storing fixed restaurant information (tuples)\n",
        "\n",
        "In the context of the explore-exploit trade-off:\n",
        "\n",
        "-   Lists could help us track our exploration (new restaurants we try)\n",
        "-   Nested lists could help us make informed decisions (by storing\n",
        "    ratings and visit counts)\n",
        "-   Tuples could help us remember important fixed information about each\n",
        "    place\n",
        "\n",
        "# Solutions\n",
        "\n",
        "You will likely find solutions to most exercises online. However, we\n",
        "strongly encourage you to work on these exercises independently without\n",
        "searching explicitly for the exact answers to the exercises.\n",
        "Understanding someone else’s solution is very different from developing\n",
        "your own. Use the lecture notes and try to solve the exercises on your\n",
        "own. This approach will significantly enhance your learning and\n",
        "problem-solving skills.\n",
        "\n",
        "Remember, the goal is not just to complete the exercises, but to\n",
        "understand the concepts and improve your programming abilities. If you\n",
        "encounter difficulties, review the lecture materials, experiment with\n",
        "different approaches, and don’t hesitate to ask for clarification during\n",
        "class discussions.\n",
        "\n",
        "Later, you will find the solutions to these exercises online in the\n",
        "associated GitHub repository, but we will also quickly go over them next\n",
        "week. To access the solutions, click on the Github button on the lower\n",
        "right and search for the folder with today’s lecture and tutorial.\n",
        "Alternatively, you can ask ChatGPT or Claude to explain them to you. But\n",
        "please remember, the goal is not just to complete the exercises, but to\n",
        "understand the concepts and improve your programming abilities.\n",
        "\n",
        "------------------------------------------------------------------------\n",
        "\n",
        "*Continue to the next tutorial to learn about loops in the context of\n",
        "the explore-exploit problem!*"
      ],
      "id": "7a670d8f-2260-465f-91b5-4c206aa5693b"
    }
  ],
  "nbformat": 4,
  "nbformat_minor": 5,
  "metadata": {
    "kernelspec": {
      "name": "python3",
      "display_name": "Python 3 (ipykernel)",
      "language": "python",
      "path": "/Users/vlcek/Documents/git-projects/Programming-Everyday-Decisions/.venv/share/jupyter/kernels/python3"
    },
    "language_info": {
      "name": "python",
      "codemirror_mode": {
        "name": "ipython",
        "version": "3"
      },
      "file_extension": ".py",
      "mimetype": "text/x-python",
      "nbconvert_exporter": "python",
      "pygments_lexer": "ipython3",
      "version": "3.12.11"
    }
  }
}