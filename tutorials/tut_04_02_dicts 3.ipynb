{
  "cells": [
    {
      "cell_type": "markdown",
      "metadata": {},
      "source": [
        "# Tutorial IV.II - Dictionaries\n",
        "\n",
        "Programming: Everyday Decision-Making Algorithms\n",
        "\n",
        "# Introduction\n",
        "\n",
        "Welcome to this tutorial on dictionaries in Python! In the realm of\n",
        "personal task scheduling, organizing tasks efficiently is crucial.\n",
        "Imagine managing your daily activities like checking emails, planning\n",
        "finances, and scheduling meetings. Python’s dictionaries can be a\n",
        "helpful tool for handling such tasks by allowing you to store and\n",
        "retrieve information using key-value pairs. As always, follow the\n",
        "structured instructions, implement your code in the designated blocks,\n",
        "and affirm your comprehension with `assert` statements.\n",
        "\n",
        "# Section 1 - Creating and Accessing Dictionaries\n",
        "\n",
        "Think of it this way:\n",
        "\n",
        "-   A dictionary consists of a collection of key-value pairs\n",
        "-   Each key-value pair has a unique key (like for example the task\n",
        "    name)\n",
        "-   And an associated value (like for example the task’s priority level)\n",
        "-   Keys are unique, but values can be repeated\n",
        "-   Dictionaries can grow and shrink as needed\n",
        "\n",
        "Let’s see some examples:"
      ],
      "id": "c1d002f2-5e14-497b-8356-57f7c6548ee5"
    },
    {
      "cell_type": "code",
      "execution_count": 1,
      "metadata": {},
      "outputs": [
        {
          "output_type": "stream",
          "name": "stdout",
          "text": [
            "{'Check Emails': 1, 'Liquidity Planning': 2, 'Team Meeting': 3}"
          ]
        }
      ],
      "source": [
        "# Creating a dictionary of tasks\n",
        "tasks = {\n",
        "    \"Check Emails\": 1,\n",
        "    \"Liquidity Planning\": 2,\n",
        "    \"Team Meeting\": 3\n",
        "}\n",
        "print(tasks)"
      ],
      "id": "d103fbb8"
    },
    {
      "cell_type": "markdown",
      "metadata": {},
      "source": [
        "To access the value associated with a key, you can use the following\n",
        "syntax:"
      ],
      "id": "a30f01bf-61ef-4896-becf-152b407e8f9b"
    },
    {
      "cell_type": "code",
      "execution_count": 2,
      "metadata": {},
      "outputs": [
        {
          "output_type": "stream",
          "name": "stdout",
          "text": [
            "1"
          ]
        }
      ],
      "source": [
        "print(tasks[\"Check Emails\"])"
      ],
      "id": "8b36b2c5"
    },
    {
      "cell_type": "markdown",
      "metadata": {},
      "source": [
        "New entries can be added to the dictionary or existing entries can be\n",
        "modified using the following syntax:"
      ],
      "id": "78a49a73-3930-46a6-9e9b-d4ca1e0a460d"
    },
    {
      "cell_type": "code",
      "execution_count": 3,
      "metadata": {},
      "outputs": [
        {
          "output_type": "stream",
          "name": "stdout",
          "text": [
            "{'Check Emails': 1, 'Liquidity Planning': 2, 'Team Meeting': 4, 'Answer Emails': 7}"
          ]
        }
      ],
      "source": [
        "tasks[\"Team Meeting\"] = 4\n",
        "tasks[\"Answer Emails\"] = 7\n",
        "print(tasks)"
      ],
      "id": "2aaa1f56"
    },
    {
      "cell_type": "markdown",
      "metadata": {},
      "source": [
        "To delete entries, you can use the `del()` function:"
      ],
      "id": "d107ba25-a9d5-4435-a6f9-77042184b0a7"
    },
    {
      "cell_type": "code",
      "execution_count": 4,
      "metadata": {},
      "outputs": [
        {
          "output_type": "stream",
          "name": "stdout",
          "text": [
            "{'Check Emails': 1, 'Liquidity Planning': 2, 'Team Meeting': 4}"
          ]
        }
      ],
      "source": [
        "del(tasks[\"Answer Emails\"])\n",
        "print(tasks)"
      ],
      "id": "d9794f5d"
    },
    {
      "cell_type": "markdown",
      "metadata": {},
      "source": [
        "> **Warning**\n",
        ">\n",
        "> You will have to create the dictionary first before you can add new\n",
        "> entries to it!\n",
        "\n",
        "To check if a key exists in the dictionary, you can use the following\n",
        "syntax:"
      ],
      "id": "81f91639-4092-4856-af22-12654b5075da"
    },
    {
      "cell_type": "code",
      "execution_count": 5,
      "metadata": {},
      "outputs": [
        {
          "output_type": "stream",
          "name": "stdout",
          "text": [
            "True"
          ]
        }
      ],
      "source": [
        "print(\"Check Emails\" in tasks)"
      ],
      "id": "7fe477d1"
    },
    {
      "cell_type": "markdown",
      "metadata": {},
      "source": [
        "Furthermore, we can nest a dictionary in a dictionary:"
      ],
      "id": "e0357e8d-b642-4da4-aaa9-d72d5a3a64d8"
    },
    {
      "cell_type": "code",
      "execution_count": 6,
      "metadata": {},
      "outputs": [],
      "source": [
        "# Creating a dictionary of projects\n",
        "projects = {\n",
        "    \"Project Alpha\": {\"status\": \"In Progress\", \"deadline\": \"2023-12-31\"},\n",
        "    \"Project Beta\": {\"status\": \"Completed\", \"deadline\": \"2023-06-30\"}\n",
        "}\n",
        "print(f\"The deadline of Project Alpha is {projects['Project Alpha']['deadline']}.\")"
      ],
      "id": "afee4ad0"
    },
    {
      "cell_type": "markdown",
      "metadata": {},
      "source": [
        "## Exercise 1.1 - Create and Modify a Dictionary\n",
        "\n",
        "Add a new task called “Prepare Presentation” with the priority level `5`\n",
        "to the existing `tasks` dictionary. Note, that you will have to execute\n",
        "the code cell above that creates the dictionary first before you can add\n",
        "the new task!"
      ],
      "id": "be47ddfb-a435-434c-88ac-7d86aa9039ce"
    },
    {
      "cell_type": "code",
      "execution_count": 7,
      "metadata": {},
      "outputs": [],
      "source": [
        "# YOUR CODE BELOW"
      ],
      "id": "54876994"
    },
    {
      "cell_type": "code",
      "execution_count": 8,
      "metadata": {},
      "outputs": [],
      "source": [
        "# Test your answer\n",
        "assert \"Prepare Presentation\" in tasks, \"The task 'Prepare Presentation' was not added to the dictionary.\"\n",
        "print(\"Great! You've successfully added a new task to the tasks dictionary.\")"
      ],
      "id": "66427bda"
    },
    {
      "cell_type": "markdown",
      "metadata": {},
      "source": [
        "## Exercise 1.2 - Check if a Key Exists\n",
        "\n",
        "Check if the key “Team Meeting” exists in the `tasks` dictionary using\n",
        "the `in` operator and a conditional statement. If it exists, save the\n",
        "message: `'Team Meeting is in the dictionary'` to the variable\n",
        "`message`. If it does not exist, save the message:\n",
        "`'Team Meeting is not in the dictionary'` to the variable `message`.\n",
        "Finally, print the value of the `message` variable."
      ],
      "id": "2a3511db-9654-42e6-84b9-4a0adf192459"
    },
    {
      "cell_type": "code",
      "execution_count": 9,
      "metadata": {},
      "outputs": [],
      "source": [
        "# YOUR CODE BELOW"
      ],
      "id": "b0ff6270"
    },
    {
      "cell_type": "code",
      "execution_count": 10,
      "metadata": {},
      "outputs": [],
      "source": [
        "# Test your answer\n",
        "assert message == \"Team Meeting is in the dictionary\", \"The message is not correct. It should be 'Team Meeting is in the dictionary'.\"\n",
        "print(\"Great! You've successfully checked if a key exists in the dictionary.\")"
      ],
      "id": "5af1f720"
    },
    {
      "cell_type": "markdown",
      "metadata": {},
      "source": [
        "## Exercise 1.3 - Change the Value of a Key\n",
        "\n",
        "Change the value associated with the key “Check Emails” to `6`."
      ],
      "id": "69aafd9a-7971-48e9-9de5-051538076b81"
    },
    {
      "cell_type": "code",
      "execution_count": 11,
      "metadata": {},
      "outputs": [],
      "source": [
        "# YOUR CODE BELOW"
      ],
      "id": "c6c8fd01"
    },
    {
      "cell_type": "code",
      "execution_count": 12,
      "metadata": {},
      "outputs": [],
      "source": [
        "# Test your answer\n",
        "assert tasks[\"Check Emails\"] == 6, \"The value associated with the key 'Check Emails' is not correct. It should be 6.\"\n",
        "print(\"Great! You've successfully changed the value of a key in the dictionary.\")"
      ],
      "id": "5ff1736b"
    },
    {
      "cell_type": "markdown",
      "metadata": {},
      "source": [
        "# Section 2 - Advanced Dictionary Operations\n",
        "\n",
        "Dictionaries can do more than just store simple information. Let’s\n",
        "explore some features.\n",
        "\n",
        "With the `keys()` method, you can get all the keys of a dictionary as a\n",
        "dictionary view object. You can convert it to a list using the `list()`\n",
        "function."
      ],
      "id": "c6018b3c-abfd-43cc-a919-e655910cd165"
    },
    {
      "cell_type": "code",
      "execution_count": 13,
      "metadata": {},
      "outputs": [
        {
          "output_type": "stream",
          "name": "stdout",
          "text": [
            "Tasks: dict_keys(['Check Emails', 'Liquidity Planning', 'Team Meeting'])\n",
            "Tasks as list: ['Check Emails', 'Liquidity Planning', 'Team Meeting']"
          ]
        }
      ],
      "source": [
        "task_names = tasks.keys() # Get all keys\n",
        "print(\"Tasks:\", task_names) # Still a dictionary view object\n",
        "print(\"Tasks as list:\", list(task_names)) # Convert to a list"
      ],
      "id": "8e37516a"
    },
    {
      "cell_type": "markdown",
      "metadata": {},
      "source": [
        "To get all the values from a dictionary, you can use the `values()`\n",
        "method to get a dictionary view object. Again, you can convert it to a\n",
        "list using the `list()` function."
      ],
      "id": "a68d02f2-c766-44ae-8582-13df6ea6e257"
    },
    {
      "cell_type": "code",
      "execution_count": 14,
      "metadata": {},
      "outputs": [
        {
          "output_type": "stream",
          "name": "stdout",
          "text": [
            "All deadlines: [1, 2, 4]"
          ]
        }
      ],
      "source": [
        "all_deadlines = tasks.values()\n",
        "print(\"All deadlines:\", list(all_deadlines))"
      ],
      "id": "891a01ad"
    },
    {
      "cell_type": "markdown",
      "metadata": {},
      "source": [
        "We can also loop through the dictionary using a `for` loop. To do so, we\n",
        "can use the `items()` method which returns a dictionary view object\n",
        "containing the individual key-value pairs of the dictionary."
      ],
      "id": "d353c507-c2ac-4256-8c23-6fe3a66af82e"
    },
    {
      "cell_type": "code",
      "execution_count": 15,
      "metadata": {},
      "outputs": [
        {
          "output_type": "stream",
          "name": "stdout",
          "text": [
            "Task: Check Emails, Priority: 1\n",
            "Task: Liquidity Planning, Priority: 2\n",
            "Task: Team Meeting, Priority: 4"
          ]
        }
      ],
      "source": [
        "for task, priority in tasks.items():\n",
        "    print(f\"Task: {task}, Priority: {priority}\")"
      ],
      "id": "29abff01"
    },
    {
      "cell_type": "markdown",
      "metadata": {},
      "source": [
        "To check the length of a dictionary, you can use the `len()` function."
      ],
      "id": "a352dbc2-a8ad-4234-b5ce-81e98f1ecf0b"
    },
    {
      "cell_type": "code",
      "execution_count": 16,
      "metadata": {},
      "outputs": [
        {
          "output_type": "stream",
          "name": "stdout",
          "text": [
            "3"
          ]
        }
      ],
      "source": [
        "print(len(tasks))"
      ],
      "id": "72d0ce79"
    },
    {
      "cell_type": "markdown",
      "metadata": {},
      "source": [
        "## Exercise 2.1 - Compute the Average Priority\n",
        "\n",
        "Compute the average priority of the tasks in the `tasks` dictionary.\n",
        "Save the result to the variable `average_priority`."
      ],
      "id": "98342f36-0cc2-45a3-a1c8-b8be0c94cf03"
    },
    {
      "cell_type": "code",
      "execution_count": 17,
      "metadata": {},
      "outputs": [],
      "source": [
        "# YOUR CODE BELOW"
      ],
      "id": "ed7971ad"
    },
    {
      "cell_type": "code",
      "execution_count": 18,
      "metadata": {},
      "outputs": [],
      "source": [
        "# Test your answer\n",
        "assert len(tasks) == 4, \"The number of tasks is not correct. It should be 4 based on the previous excercises.\"\n",
        "assert average_priority == 4.25, \"The average priority is not correct. It should be 4.25.\"\n",
        "print(\"Great! You've successfully computed the average priority of the tasks.\")"
      ],
      "id": "826cc67d"
    },
    {
      "cell_type": "markdown",
      "metadata": {},
      "source": [
        "## Exercise 2.2 - Get the Task with the Highest Priority\n",
        "\n",
        "Get the task with the highest priority from the `tasks` dictionary. Save\n",
        "the result to the variable `highest_priority_task`. Note, that a\n",
        "priority of 1 is the highest priority."
      ],
      "id": "93d8c709-ad18-4d40-abb9-d3f173f85a39"
    },
    {
      "cell_type": "code",
      "execution_count": 19,
      "metadata": {},
      "outputs": [],
      "source": [
        "# YOUR CODE BELOW"
      ],
      "id": "de92aee1"
    },
    {
      "cell_type": "code",
      "execution_count": 20,
      "metadata": {},
      "outputs": [],
      "source": [
        "# Test your answer\n",
        "assert highest_priority_task == \"Liquidity Planning\", f\"The task {highest_priority_task} as the task with the highest priority is not correct. It should be 'Liquidity Planning'.\"\n",
        "print(\"Great! You've successfully gotten the task with the highest priority.\")"
      ],
      "id": "ff4192bb"
    },
    {
      "cell_type": "markdown",
      "metadata": {},
      "source": [
        "## Exercise 2.3 - Remove a Task\n",
        "\n",
        "First, check if the key `\"Liquidity Planning\"` exists in the `tasks`\n",
        "dictionary. If it exists, remove it using the appropriate method.\n",
        "\n",
        "> **Tip**\n",
        ">\n",
        "> You can use the `del()` function to remove a key from a dictionary."
      ],
      "id": "d858bdf8-7494-42ef-b843-bf48f6131b2c"
    },
    {
      "cell_type": "code",
      "execution_count": 21,
      "metadata": {},
      "outputs": [],
      "source": [
        "# YOUR CODE BELOW"
      ],
      "id": "49a6f6db"
    },
    {
      "cell_type": "code",
      "execution_count": 22,
      "metadata": {},
      "outputs": [],
      "source": [
        "# Test your answer\n",
        "assert \"Liquidity Planning\" not in tasks, \"The task 'Liquidity Planning' was not removed from the dictionary.\"\n",
        "print(\"Great! You've successfully removed a task from the dictionary.\")"
      ],
      "id": "0f858423"
    },
    {
      "cell_type": "markdown",
      "metadata": {},
      "source": [
        "## Conclusion\n",
        "\n",
        "Great! You’ve just navigated through the basics of dictionaries in\n",
        "Python. Dictionaries are powerful data structures that allow for\n",
        "efficient data organization and retrieval. Remember:\n",
        "\n",
        "-   Dictionaries can store information using key-value pairs\n",
        "-   Accessing them using keys is efficient and easier as accessing them\n",
        "    using indices\n",
        "-   Loops can iterate over dictionaries to perform operations on each\n",
        "    key-value pair\n",
        "\n",
        "# Solutions\n",
        "\n",
        "You will likely find solutions to most exercises online. However, we\n",
        "strongly encourage you to work on these exercises independently without\n",
        "searching explicitly for the exact answers to the exercises.\n",
        "Understanding someone else’s solution is very different from developing\n",
        "your own. Use the lecture notes and try to solve the exercises on your\n",
        "own. This approach will significantly enhance your learning and\n",
        "problem-solving skills.\n",
        "\n",
        "Remember, the goal is not just to complete the exercises, but to\n",
        "understand the concepts and improve your programming abilities. If you\n",
        "encounter difficulties, review the lecture materials, experiment with\n",
        "different approaches, and don’t hesitate to ask for clarification during\n",
        "class discussions.\n",
        "\n",
        "Later, you will find the solutions to these exercises online in the\n",
        "associated GitHub repository, but we will also quickly go over them next\n",
        "week. To access the solutions, click on the Github button on the lower\n",
        "right and search for the folder with today’s lecture and tutorial.\n",
        "Alternatively, you can ask ChatGPT or Claude to explain them to you. But\n",
        "please remember, the goal is not just to complete the exercises, but to\n",
        "understand the concepts and improve your programming abilities.\n",
        "\n",
        "------------------------------------------------------------------------\n",
        "\n",
        "*In the next tutorial, we’ll dive deeper into DataFrames and how to use\n",
        "them!*"
      ],
      "id": "83aa5363-bc02-4ca9-a6bf-766390a55782"
    }
  ],
  "nbformat": 4,
  "nbformat_minor": 5,
  "metadata": {
    "kernelspec": {
      "name": "python3",
      "display_name": "Python 3 (ipykernel)",
      "language": "python",
      "path": "/Users/vlcek/Documents/git-projects/Programming-Everyday-Decisions/.venv/share/jupyter/kernels/python3"
    },
    "language_info": {
      "name": "python",
      "codemirror_mode": {
        "name": "ipython",
        "version": "3"
      },
      "file_extension": ".py",
      "mimetype": "text/x-python",
      "nbconvert_exporter": "python",
      "pygments_lexer": "ipython3",
      "version": "3.12.11"
    }
  }
}