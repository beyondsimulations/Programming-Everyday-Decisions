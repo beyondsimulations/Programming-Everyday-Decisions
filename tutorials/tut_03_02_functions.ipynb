{
  "cells": [
    {
      "cell_type": "markdown",
      "metadata": {},
      "source": [
        "# Tutorial III.II - Functions\n",
        "\n",
        "Programming: Everyday Decision-Making Algorithms\n",
        "\n",
        "# Introduction\n",
        "\n",
        "Imagine you’re a librarian who needs to organize and retrieve books\n",
        "efficiently. Instead of explaining every step of finding a book each\n",
        "time, wouldn’t it be nice to have a set of standard procedures? In\n",
        "programming, **these procedures are called functions!** They help us\n",
        "organize our code into **reusable blocks**, just like having standard\n",
        "procedures in a library.\n",
        "\n",
        "This tutorial will teach you about functions using a **library\n",
        "management system** and **a coffee machine** as an example. We’ll create\n",
        "functions to help us manage books, track their popularity, and implement\n",
        "a simple caching system.\n",
        "\n",
        "> **Real-World Example**\n",
        ">\n",
        "> Think of a function like a coffee machine:\n",
        ">\n",
        "> -   Input (parameters) → Coffee beans, water, settings\n",
        "> -   Process → Internal brewing steps\n",
        "> -   Output (return value) → Your finished coffee\n",
        "\n",
        "# Section 1 - Creating Basic Functions\n",
        "\n",
        "Functions in Python are like recipes:\n",
        "\n",
        "-   They have a name\n",
        "-   Might need ingredients (parameters)\n",
        "-   Follow steps (code)\n",
        "-   Usually produce something (return value)\n",
        "\n",
        "Let’s start with a simple function:"
      ],
      "id": "f4890247-c6be-449f-83cc-83d49569b4d2"
    },
    {
      "cell_type": "code",
      "execution_count": 1,
      "metadata": {},
      "outputs": [
        {
          "output_type": "stream",
          "name": "stdout",
          "text": [
            "Welcome to the library, Tobias!"
          ]
        }
      ],
      "source": [
        "# A simple function to greet library visitors\n",
        "def greet_visitor(name):\n",
        "    return f\"Welcome to the library, {name}!\"\n",
        "\n",
        "# Using our function\n",
        "message = greet_visitor(\"Tobias\")\n",
        "print(message)"
      ],
      "id": "d86bd24c"
    },
    {
      "cell_type": "markdown",
      "metadata": {},
      "source": [
        "The structure is:\n",
        "\n",
        "1.  The `def` keyword to start defining a function\n",
        "2.  A function name (like `greet_visitor`)\n",
        "3.  Parameters in parentheses (like `name`)\n",
        "4.  A colon `:` to start the function body\n",
        "5.  Indented code that makes up the function\n",
        "6.  Optional `return` statement to send back a value from the function\n",
        "\n",
        "> **Return Value**\n",
        ">\n",
        "> The `return` statement is optional. If you don’t use it, the function\n",
        "> will return `None` by default.\n",
        "\n",
        "The following illustrates this in a more generic form:"
      ],
      "id": "dcc41d8b-4cc7-4c79-8f84-69e7b9e00e3e"
    },
    {
      "cell_type": "code",
      "execution_count": 2,
      "metadata": {},
      "outputs": [],
      "source": [
        "def function_name(parameter1, parameter2):  # ← Function signature\n",
        "    result = parameter1 + parameter2        # ← Processing\n",
        "    return result                           # ← Return value"
      ],
      "id": "4754d21f"
    },
    {
      "cell_type": "markdown",
      "metadata": {},
      "source": [
        "> **Common Function Errors**\n",
        ">\n",
        "> -   `IndentationError`: Check your function’s indentation\n",
        "> -   `NameError`: Make sure the function is defined before calling it\n",
        "> -   `TypeError`: Verify you’re passing the correct number of arguments\n",
        "\n",
        "## Exercise 1.1 - Create a Book Information Function\n",
        "\n",
        "Create a function called `get_book_info` that takes three parameters:\n",
        "`title`, `author`, and `year`. It should return a formatted string with\n",
        "the book’s information.\n",
        "\n",
        "> **Before You Start**\n",
        ">\n",
        "> Common mistakes to avoid:\n",
        ">\n",
        "> -   Don’t forget the spaces in the formatting\n",
        "> -   Remember to use f-strings for easy string formatting\n",
        "> -   Make sure to include the parentheses around the year"
      ],
      "id": "f607bf9d-62e4-43e6-a93f-9edf4ab0e2d3"
    },
    {
      "cell_type": "code",
      "execution_count": 3,
      "metadata": {},
      "outputs": [],
      "source": [
        "# If you call the function like this:\n",
        "# get_book_info(\"Return\", \"Alan Wake\", 2023)\n",
        "# it should return the string:\n",
        "# \"Return by Alan Wake (2023)\"\n",
        "# YOUR CODE BELOW"
      ],
      "id": "85a6380b"
    },
    {
      "cell_type": "code",
      "execution_count": 4,
      "metadata": {},
      "outputs": [],
      "source": [
        "# Assertions to verify your solution\n",
        "assert get_book_info(\"1984\", \"George Orwell\", 1949) == \"1984 by George Orwell (1949)\"\n",
        "print(\"Great job! Your book information function works as expected!\")"
      ],
      "id": "89a10da8"
    },
    {
      "cell_type": "markdown",
      "metadata": {},
      "source": [
        "# Section 2 - Functions with Decision Making\n",
        "\n",
        "Functions can contain any code we’ve learned before, including if\n",
        "statements. This is useful for making decisions within our functions:"
      ],
      "id": "39fb782a-ea04-487d-8f53-044bbfd0ff63"
    },
    {
      "cell_type": "code",
      "execution_count": 5,
      "metadata": {},
      "outputs": [
        {
          "output_type": "stream",
          "name": "stdout",
          "text": [
            "The book is available: True\n",
            "The book is available: False"
          ]
        }
      ],
      "source": [
        "def is_book_available(copies_available, on_hold):\n",
        "    if copies_available > 0 and not on_hold:\n",
        "        return True\n",
        "    else:\n",
        "        return False\n",
        "\n",
        "# Test the function\n",
        "print(\"The book is available:\", is_book_available(3, False))\n",
        "print(\"The book is available:\", is_book_available(0, False))"
      ],
      "id": "1bfb4e6f"
    },
    {
      "cell_type": "markdown",
      "metadata": {},
      "source": [
        "Here we use an `if` statement to check if the book is available. If the\n",
        "book is available, we return `True`, otherwise we return `False`.\n",
        "\n",
        "## Common Pitfall\n",
        "\n",
        "When using multiple conditions, be careful with the order of operations.\n",
        "Consider using parentheses to make your logic clear:\n",
        "\n",
        "``` python\n",
        "if (copies_available > 0) and (not on_hold):  # More readable than the code above\n",
        "```\n",
        "\n",
        "## Exercise 2.1 - Create a Function to Check if a Book is Popular\n",
        "\n",
        "Create a function called `is_popular` that takes a single parameter\n",
        "`rating`. If the rating is greater than 3, it should return `True`,\n",
        "otherwise it should return `False`."
      ],
      "id": "5c39aa70-6278-472d-9311-c2caa696f3f4"
    },
    {
      "cell_type": "code",
      "execution_count": 6,
      "metadata": {},
      "outputs": [],
      "source": [
        "# YOUR CODE BELOW"
      ],
      "id": "fe802429"
    },
    {
      "cell_type": "code",
      "execution_count": 7,
      "metadata": {},
      "outputs": [],
      "source": [
        "# Assertions to verify your solution\n",
        "assert is_popular(4) == True, \"A rating of 4 or higher is considered popular\"\n",
        "assert is_popular(2) == False, \"A rating of 3 or lower is not popular\"\n",
        "print(\"Excellent! Your popular book function works correctly!\")"
      ],
      "id": "8bd1b6ee"
    },
    {
      "cell_type": "markdown",
      "metadata": {},
      "source": [
        "## Exercise 2.2 - Create a Book Access Function\n",
        "\n",
        "Many libraries have borrowing policies that depend on multiple factors.\n",
        "Let’s implement a realistic borrowing policy function that a library\n",
        "might use. Create a function called `can_borrow_book` that takes three\n",
        "parameters:\n",
        "\n",
        "-   `is_member`: boolean indicating if the person is a library member\n",
        "-   `books_borrowed`: number of books currently borrowed\n",
        "-   `has_overdue`: boolean indicating if they have overdue books\n",
        "\n",
        "The function should return `True` only if:\n",
        "\n",
        "-   They are a member AND\n",
        "-   They have borrowed less than 3 books AND\n",
        "-   They have no overdue books"
      ],
      "id": "bed59267-7a15-42a3-b523-83693ee0e5c4"
    },
    {
      "cell_type": "code",
      "execution_count": 8,
      "metadata": {},
      "outputs": [],
      "source": [
        "# YOUR CODE BELOW"
      ],
      "id": "9839c0b5"
    },
    {
      "cell_type": "code",
      "execution_count": 9,
      "metadata": {},
      "outputs": [],
      "source": [
        "# Assertions to verify your solution\n",
        "assert can_borrow_book(True, 2, False) == True, \"Should allow borrowing\"\n",
        "assert can_borrow_book(True, 3, False) == False, \"Should not allow more than 3 books\"\n",
        "assert can_borrow_book(True, 1, True) == False, \"Should not allow with overdue books\"\n",
        "print(\"Excellent! Your borrowing function works as it should!\")"
      ],
      "id": "58837dd6"
    },
    {
      "cell_type": "markdown",
      "metadata": {},
      "source": [
        "# Section 3 - Functions with Default Parameters\n",
        "\n",
        "Sometimes we want functions to have default values for parameters. This\n",
        "makes them more flexible, as we don’t have to specify all parameters\n",
        "every time we call the function."
      ],
      "id": "350d1c54-7f05-4e85-bad0-3f93da8debf1"
    },
    {
      "cell_type": "code",
      "execution_count": 10,
      "metadata": {},
      "outputs": [
        {
          "output_type": "stream",
          "name": "stdout",
          "text": [
            "The fine for 5 days overdue with the default rate is 2.5\n",
            "The fine for 5 days overdue with a custom rate is 5.0"
          ]
        }
      ],
      "source": [
        "def calculate_fine(days_overdue, rate_per_day=0.50):\n",
        "    return days_overdue * rate_per_day\n",
        "\n",
        "# Using default rate\n",
        "print(f\"The fine for 5 days overdue with the default rate is {calculate_fine(5)}\")\n",
        "\n",
        "# Using custom rate\n",
        "print(f\"The fine for 5 days overdue with a custom rate is {calculate_fine(5, 1.00)}\")"
      ],
      "id": "9190caba"
    },
    {
      "cell_type": "markdown",
      "metadata": {},
      "source": [
        "## Exercise 3.1 - Create a Cache Priority Function\n",
        "\n",
        "Create a function called `calculate_cache_priority` that helps decide if\n",
        "a book should be kept in the easily accessible section. It should take:\n",
        "\n",
        "-   `times_borrowed`: How many times the book was borrowed\n",
        "-   `days_since_last_borrow`: Days since last borrowed\n",
        "-   `is_reference`: Whether it’s a reference book **(default: False)**\n",
        "\n",
        "Return a priority score calculated as:\n",
        "\n",
        "-   For regular books: `times_borrowed / (days_since_last_borrow + 1)`\n",
        "-   For reference books:\n",
        "    `2 * (times_borrowed / (days_since_last_borrow + 1))`"
      ],
      "id": "b0908c3a-0e3f-46e0-a09b-5577601a4258"
    },
    {
      "cell_type": "code",
      "execution_count": 11,
      "metadata": {},
      "outputs": [],
      "source": [
        "# YOUR CODE BELOW"
      ],
      "id": "84846f7d"
    },
    {
      "cell_type": "code",
      "execution_count": 12,
      "metadata": {},
      "outputs": [],
      "source": [
        "# Test your answer\n",
        "assert calculate_cache_priority(10, 5) == 10/(5+1), \"Check your regular book calculation\"\n",
        "assert calculate_cache_priority(10, 5, True) == 2*(10/(5+1)), \"Check your reference book calculation\"\n",
        "print(\"Great! Your cache priority function works and calculates correctly!\")"
      ],
      "id": "ff14c6ee"
    },
    {
      "cell_type": "markdown",
      "metadata": {},
      "source": [
        "# Section 4 - Introduction to Methods\n",
        "\n",
        "Methods are special types of functions that belong to objects. While\n",
        "regular functions **stand alone**, methods are **always associated with\n",
        "a specific object or data type**. Let’s explore this with some examples:"
      ],
      "id": "d5b44e75-e057-44bd-87f9-72dc674684ef"
    },
    {
      "cell_type": "code",
      "execution_count": 13,
      "metadata": {},
      "outputs": [
        {
          "output_type": "stream",
          "name": "stdout",
          "text": [
            "The Great Gatsby\n",
            "THE GREAT GATSBY"
          ]
        }
      ],
      "source": [
        "# String methods\n",
        "book_title = \"the great gatsby\"\n",
        "print(book_title.title())  # Outputs: \"The Great Gatsby\"\n",
        "print(book_title.upper())  # Outputs: \"THE GREAT GATSBY\""
      ],
      "id": "4a00bbf1"
    },
    {
      "cell_type": "code",
      "execution_count": 14,
      "metadata": {},
      "outputs": [
        {
          "output_type": "stream",
          "name": "stdout",
          "text": [
            "Books before sorting: ['Neuromancer', '1984', 'Foundation', 'Dune']\n",
            "Books after sorting: ['1984', 'Dune', 'Foundation', 'Neuromancer']"
          ]
        }
      ],
      "source": [
        "# List methods\n",
        "books = [\"Neuromancer\", \"1984\", \"Foundation\"]\n",
        "books.append(\"Dune\")  # Adds a book to the list\n",
        "print(\"Books before sorting:\", books)\n",
        "books.sort()          # Sorts the list alphabetically\n",
        "print(\"Books after sorting:\", books)"
      ],
      "id": "0008df82"
    },
    {
      "cell_type": "markdown",
      "metadata": {},
      "source": [
        "> **Functions vs Methods**\n",
        ">\n",
        "> The main difference:\n",
        ">\n",
        "> -   Functions are called directly: `function_name(arguments)`\n",
        "> -   Methods are called on objects: `object.method_name(arguments)`\n",
        "\n",
        "## Exercise 4.1 - Working with String Methods and Functions\n",
        "\n",
        "Create a function called `format_book_title` that takes a book title as\n",
        "input and:\n",
        "\n",
        "1.  Capitalizes the first letter of each word\n",
        "2.  Removes any extra whitespace\n",
        "3.  Returns the formatted title\n",
        "\n",
        "> **Common String Methods**\n",
        ">\n",
        "> -   `.strip()` - Removes whitespace from start and end\n",
        "> -   `.title()` - Capitalizes first letter of each word\n",
        "> -   `.lower()` - Converts to lowercase\n",
        "> -   `.upper()` - Converts to uppercase"
      ],
      "id": "8305c5f3-7540-4c81-a55b-c0f08e766007"
    },
    {
      "cell_type": "code",
      "execution_count": 15,
      "metadata": {},
      "outputs": [],
      "source": [
        "# YOUR CODE BELOW"
      ],
      "id": "49557838"
    },
    {
      "cell_type": "code",
      "execution_count": 16,
      "metadata": {},
      "outputs": [],
      "source": [
        "# Test your answer\n",
        "assert format_book_title(\"  the hitchhikers guide  \") == \"The Hitchhikers Guide\", \"Check your whitespace removal\"\n",
        "assert format_book_title(\"dune\") == \"Dune\", \"Check your capitalization\"\n",
        "print(\"Excellent! Your title formatting function works correctly!\")"
      ],
      "id": "914a18ab"
    },
    {
      "cell_type": "markdown",
      "metadata": {},
      "source": [
        "# Conclusion\n",
        "\n",
        "Excellent work! You’ve learned how to create and use functions in Python\n",
        "through the lens of library management. You now know how to:\n",
        "\n",
        "-   Create basic functions with parameters\n",
        "-   Use functions with decision-making logic\n",
        "-   Work with default parameters\n",
        "-   Return values from functions\n",
        "\n",
        "Remember:\n",
        "\n",
        "-   Functions help us organize and reuse code\n",
        "-   They make our code more readable and maintainable\n",
        "-   They can take inputs (parameters) and produce outputs (return\n",
        "    values)\n",
        "-   They can have default values for parameters\n",
        "\n",
        "In a real library system, functions like these would be part of a larger\n",
        "caching system that helps optimize book retrieval times and improve user\n",
        "experience!\n",
        "\n",
        "# Solutions\n",
        "\n",
        "You will likely find solutions to most exercises online. However, we\n",
        "strongly encourage you to work on these exercises independently without\n",
        "searching explicitly for the exact answers to the exercises.\n",
        "Understanding someone else’s solution is very different from developing\n",
        "your own. Use the lecture notes and try to solve the exercises on your\n",
        "own. This approach will significantly enhance your learning and\n",
        "problem-solving skills.\n",
        "\n",
        "Remember, the goal is not just to complete the exercises, but to\n",
        "understand the concepts and improve your programming abilities. If you\n",
        "encounter difficulties, review the lecture materials, experiment with\n",
        "different approaches, and don’t hesitate to ask for clarification during\n",
        "class discussions.\n",
        "\n",
        "Later, you will find the solutions to these exercises online in the\n",
        "associated GitHub repository, but we will also quickly go over them next\n",
        "week. To access the solutions, click on the Github button on the lower\n",
        "right and search for the folder with today’s lecture and tutorial.\n",
        "Alternatively, you can ask ChatGPT or Claude to explain them to you. But\n",
        "please remember, the goal is not just to complete the exercises, but to\n",
        "understand the concepts and improve your programming abilities.\n",
        "\n",
        "------------------------------------------------------------------------\n",
        "\n",
        "*In the next tutorial, we’ll take a look on how to import packages and\n",
        "libraries to extend our functionality!*"
      ],
      "id": "46f7340d-b900-4434-9c86-d1a20073575f"
    }
  ],
  "nbformat": 4,
  "nbformat_minor": 5,
  "metadata": {
    "kernelspec": {
      "name": "python3",
      "display_name": "Python 3 (ipykernel)",
      "language": "python",
      "path": "/Users/vlcek/Documents/git-projects/Programming-Everyday-Decisions/.venv/share/jupyter/kernels/python3"
    },
    "language_info": {
      "name": "python",
      "codemirror_mode": {
        "name": "ipython",
        "version": "3"
      },
      "file_extension": ".py",
      "mimetype": "text/x-python",
      "nbconvert_exporter": "python",
      "pygments_lexer": "ipython3",
      "version": "3.12.11"
    }
  }
}