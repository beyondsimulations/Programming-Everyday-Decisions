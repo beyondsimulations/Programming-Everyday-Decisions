{
  "cells": [
    {
      "cell_type": "markdown",
      "metadata": {},
      "source": [
        "# Tutorial IV.II - Dictionaries\n",
        "\n",
        "Programming: Everyday Decision-Making Algorithms\n",
        "\n",
        "# Introduction\n",
        "\n",
        "Welcome to this tutorial on dictionaries in Python! In the realm of\n",
        "personal task scheduling, organizing tasks efficiently is crucial.\n",
        "Imagine managing your daily activities like checking emails, planning\n",
        "finances, and scheduling meetings. Python’s dictionaries can be a\n",
        "helpful tool for handling such tasks by allowing you to store and\n",
        "retrieve information using key-value pairs. As always, follow the\n",
        "structured instructions, implement your code in the designated blocks,\n",
        "and affirm your comprehension with `assert` statements.\n",
        "\n",
        "# Section 1 - Creating and Accessing Dictionaries\n",
        "\n",
        "Think of it this way:\n",
        "\n",
        "-   A dictionary consists of a collection of key-value pairs\n",
        "-   Each key-value pair has a unique key (like for example the task\n",
        "    name)\n",
        "-   And an associated value (like for example the task’s priority level)\n",
        "-   Keys are unique, but values can be repeated\n",
        "-   Dictionaries can grow and shrink as needed\n",
        "\n",
        "Let’s see some examples:"
      ],
      "id": "f8bf0221-2ae3-4cc1-a566-41f0510e7463"
    },
    {
      "cell_type": "code",
      "execution_count": 1,
      "metadata": {},
      "outputs": [
        {
          "output_type": "stream",
          "name": "stdout",
          "text": [
            "{'Check Emails': 1, 'Liquidity Planning': 2, 'Team Meeting': 3}"
          ]
        }
      ],
      "source": [
        "# Creating a dictionary of tasks\n",
        "tasks = {\n",
        "    \"Check Emails\": 1,\n",
        "    \"Liquidity Planning\": 2,\n",
        "    \"Team Meeting\": 3\n",
        "}\n",
        "print(tasks)"
      ],
      "id": "bdc96953"
    },
    {
      "cell_type": "markdown",
      "metadata": {},
      "source": [
        "To access the value associated with a key, you can use the following\n",
        "syntax:"
      ],
      "id": "e79841ae-18ab-4e51-bd82-7a0f0f7d4981"
    },
    {
      "cell_type": "code",
      "execution_count": 2,
      "metadata": {},
      "outputs": [
        {
          "output_type": "stream",
          "name": "stdout",
          "text": [
            "1"
          ]
        }
      ],
      "source": [
        "print(tasks[\"Check Emails\"])"
      ],
      "id": "7633b612"
    },
    {
      "cell_type": "markdown",
      "metadata": {},
      "source": [
        "New entries can be added to the dictionary or existing entries can be\n",
        "modified using the following syntax:"
      ],
      "id": "5f2463cb-85e1-4c2b-a428-0e206fff9fcd"
    },
    {
      "cell_type": "code",
      "execution_count": 3,
      "metadata": {},
      "outputs": [
        {
          "output_type": "stream",
          "name": "stdout",
          "text": [
            "{'Check Emails': 1, 'Liquidity Planning': 2, 'Team Meeting': 4, 'Answer Emails': 7}"
          ]
        }
      ],
      "source": [
        "tasks[\"Team Meeting\"] = 4\n",
        "tasks[\"Answer Emails\"] = 7\n",
        "print(tasks)"
      ],
      "id": "ffd39ddb"
    },
    {
      "cell_type": "markdown",
      "metadata": {},
      "source": [
        "To delete entries, you can use the `del()` function:"
      ],
      "id": "23737ae9-4cc4-4eae-a5da-48619d38137c"
    },
    {
      "cell_type": "code",
      "execution_count": 4,
      "metadata": {},
      "outputs": [
        {
          "output_type": "stream",
          "name": "stdout",
          "text": [
            "{'Check Emails': 1, 'Liquidity Planning': 2, 'Team Meeting': 4}"
          ]
        }
      ],
      "source": [
        "del(tasks[\"Answer Emails\"])\n",
        "print(tasks)"
      ],
      "id": "39b65512"
    },
    {
      "cell_type": "markdown",
      "metadata": {},
      "source": [
        "> **Warning**\n",
        ">\n",
        "> You will have to create the dictionary first before you can add new\n",
        "> entries to it!\n",
        "\n",
        "To check if a key exists in the dictionary, you can use the following\n",
        "syntax:"
      ],
      "id": "c8d1f7b6-af80-4592-be00-12400b10adee"
    },
    {
      "cell_type": "code",
      "execution_count": 5,
      "metadata": {},
      "outputs": [
        {
          "output_type": "stream",
          "name": "stdout",
          "text": [
            "True"
          ]
        }
      ],
      "source": [
        "print(\"Check Emails\" in tasks)"
      ],
      "id": "d9643f86"
    },
    {
      "cell_type": "markdown",
      "metadata": {},
      "source": [
        "Furthermore, we can nest a dictionary in a dictionary:"
      ],
      "id": "633d9cc4-90fd-4fbe-acb5-895ef7607a00"
    },
    {
      "cell_type": "code",
      "execution_count": 6,
      "metadata": {},
      "outputs": [],
      "source": [
        "# Creating a dictionary of projects\n",
        "projects = {\n",
        "    \"Project Alpha\": {\"status\": \"In Progress\", \"deadline\": \"2023-12-31\"},\n",
        "    \"Project Beta\": {\"status\": \"Completed\", \"deadline\": \"2023-06-30\"}\n",
        "}\n",
        "print(f\"The deadline of Project Alpha is {projects['Project Alpha']['deadline']}.\")"
      ],
      "id": "eef86d63"
    },
    {
      "cell_type": "markdown",
      "metadata": {},
      "source": [
        "## Exercise 1.1 - Create and Modify a Dictionary\n",
        "\n",
        "Add a new task called “Prepare Presentation” with the priority level `5`\n",
        "to the existing `tasks` dictionary. Note, that you will have to execute\n",
        "the code cell above that creates the dictionary first before you can add\n",
        "the new task!"
      ],
      "id": "5aaed64c-0352-423e-8da4-cddbe45e195f"
    },
    {
      "cell_type": "code",
      "execution_count": 7,
      "metadata": {},
      "outputs": [],
      "source": [
        "# YOUR CODE BELOW"
      ],
      "id": "f6840daf"
    },
    {
      "cell_type": "code",
      "execution_count": 8,
      "metadata": {},
      "outputs": [],
      "source": [
        "# Test your answer\n",
        "assert \"Prepare Presentation\" in tasks, \"The task 'Prepare Presentation' was not added to the dictionary.\"\n",
        "print(\"Great! You've successfully added a new task to the tasks dictionary.\")"
      ],
      "id": "d883d75f"
    },
    {
      "cell_type": "markdown",
      "metadata": {},
      "source": [
        "## Exercise 1.2 - Check if a Key Exists\n",
        "\n",
        "Check if the key “Team Meeting” exists in the `tasks` dictionary using\n",
        "the `in` operator and a conditional statement. If it exists, save the\n",
        "message: `'Team Meeting is in the dictionary'` to the variable\n",
        "`message`. If it does not exist, save the message:\n",
        "`'Team Meeting is not in the dictionary'` to the variable `message`.\n",
        "Finally, print the value of the `message` variable."
      ],
      "id": "cb117e2b-5de2-4874-8d76-0f14f671319b"
    },
    {
      "cell_type": "code",
      "execution_count": 9,
      "metadata": {},
      "outputs": [],
      "source": [
        "# YOUR CODE BELOW"
      ],
      "id": "5d453d7a"
    },
    {
      "cell_type": "code",
      "execution_count": 10,
      "metadata": {},
      "outputs": [],
      "source": [
        "# Test your answer\n",
        "assert message == \"Team Meeting is in the dictionary\", \"The message is not correct. It should be 'Team Meeting is in the dictionary'.\"\n",
        "print(\"Great! You've successfully checked if a key exists in the dictionary.\")"
      ],
      "id": "3b02add9"
    },
    {
      "cell_type": "markdown",
      "metadata": {},
      "source": [
        "## Exercise 1.3 - Change the Value of a Key\n",
        "\n",
        "Change the value associated with the key “Check Emails” to `6`."
      ],
      "id": "cb36d5fd-408a-42aa-b863-dabd7df7b843"
    },
    {
      "cell_type": "code",
      "execution_count": 11,
      "metadata": {},
      "outputs": [],
      "source": [
        "# YOUR CODE BELOW"
      ],
      "id": "4cc7376d"
    },
    {
      "cell_type": "code",
      "execution_count": 12,
      "metadata": {},
      "outputs": [],
      "source": [
        "# Test your answer\n",
        "assert tasks[\"Check Emails\"] == 6, \"The value associated with the key 'Check Emails' is not correct. It should be 6.\"\n",
        "print(\"Great! You've successfully changed the value of a key in the dictionary.\")"
      ],
      "id": "8e6f1c0a"
    },
    {
      "cell_type": "markdown",
      "metadata": {},
      "source": [
        "# Section 2 - Advanced Dictionary Operations\n",
        "\n",
        "Dictionaries can do more than just store simple information. Let’s\n",
        "explore some features.\n",
        "\n",
        "With the `keys()` method, you can get all the keys of a dictionary as a\n",
        "dictionary view object. You can convert it to a list using the `list()`\n",
        "function."
      ],
      "id": "ae8a331f-4026-47af-86d1-8fad63bed72d"
    },
    {
      "cell_type": "code",
      "execution_count": 13,
      "metadata": {},
      "outputs": [
        {
          "output_type": "stream",
          "name": "stdout",
          "text": [
            "Tasks: dict_keys(['Check Emails', 'Liquidity Planning', 'Team Meeting'])\n",
            "Tasks as list: ['Check Emails', 'Liquidity Planning', 'Team Meeting']"
          ]
        }
      ],
      "source": [
        "task_names = tasks.keys() # Get all keys\n",
        "print(\"Tasks:\", task_names) # Still a dictionary view object\n",
        "print(\"Tasks as list:\", list(task_names)) # Convert to a list"
      ],
      "id": "0c47c040"
    },
    {
      "cell_type": "markdown",
      "metadata": {},
      "source": [
        "To get all the values from a dictionary, you can use the `values()`\n",
        "method to get a dictionary view object. Again, you can convert it to a\n",
        "list using the `list()` function."
      ],
      "id": "fea7fa99-89b8-4ba0-84f6-86f27157f91e"
    },
    {
      "cell_type": "code",
      "execution_count": 14,
      "metadata": {},
      "outputs": [
        {
          "output_type": "stream",
          "name": "stdout",
          "text": [
            "All deadlines: [1, 2, 4]"
          ]
        }
      ],
      "source": [
        "all_deadlines = tasks.values()\n",
        "print(\"All deadlines:\", list(all_deadlines))"
      ],
      "id": "5b942996"
    },
    {
      "cell_type": "markdown",
      "metadata": {},
      "source": [
        "We can also loop through the dictionary using a `for` loop. To do so, we\n",
        "can use the `items()` method which returns a dictionary view object\n",
        "containing the individual key-value pairs of the dictionary."
      ],
      "id": "67c54c88-0bca-4d83-98fa-3f554a5f4637"
    },
    {
      "cell_type": "code",
      "execution_count": 15,
      "metadata": {},
      "outputs": [
        {
          "output_type": "stream",
          "name": "stdout",
          "text": [
            "Task: Check Emails, Priority: 1\n",
            "Task: Liquidity Planning, Priority: 2\n",
            "Task: Team Meeting, Priority: 4"
          ]
        }
      ],
      "source": [
        "for task, priority in tasks.items():\n",
        "    print(f\"Task: {task}, Priority: {priority}\")"
      ],
      "id": "fca28dac"
    },
    {
      "cell_type": "markdown",
      "metadata": {},
      "source": [
        "To check the length of a dictionary, you can use the `len()` function."
      ],
      "id": "80c5006c-f2f6-4b0b-b793-aeb3ac022a3a"
    },
    {
      "cell_type": "code",
      "execution_count": 16,
      "metadata": {},
      "outputs": [
        {
          "output_type": "stream",
          "name": "stdout",
          "text": [
            "3"
          ]
        }
      ],
      "source": [
        "print(len(tasks))"
      ],
      "id": "8a63d685"
    },
    {
      "cell_type": "markdown",
      "metadata": {},
      "source": [
        "## Exercise 2.1 - Compute the Average Priority\n",
        "\n",
        "Compute the average priority of the tasks in the `tasks` dictionary.\n",
        "Save the result to the variable `average_priority`."
      ],
      "id": "8c0c42d7-897a-47dd-898a-72027dde1756"
    },
    {
      "cell_type": "code",
      "execution_count": 17,
      "metadata": {},
      "outputs": [],
      "source": [
        "# YOUR CODE BELOW"
      ],
      "id": "24d18399"
    },
    {
      "cell_type": "code",
      "execution_count": 18,
      "metadata": {},
      "outputs": [],
      "source": [
        "# Test your answer\n",
        "assert len(tasks) == 4, \"The number of tasks is not correct. It should be 4 based on the previous excercises.\"\n",
        "assert average_priority == 4.25, \"The average priority is not correct. It should be 4.25.\"\n",
        "print(\"Great! You've successfully computed the average priority of the tasks.\")"
      ],
      "id": "d33d3e00"
    },
    {
      "cell_type": "markdown",
      "metadata": {},
      "source": [
        "## Exercise 2.2 - Get the Task with the Highest Priority\n",
        "\n",
        "Get the task with the highest priority from the `tasks` dictionary. Save\n",
        "the result to the variable `highest_priority_task`. Note, that a\n",
        "priority of 1 is the highest priority."
      ],
      "id": "8a44bd4b-b9c2-4be0-8a88-deac1adca411"
    },
    {
      "cell_type": "code",
      "execution_count": 19,
      "metadata": {},
      "outputs": [],
      "source": [
        "# YOUR CODE BELOW"
      ],
      "id": "cfda39e8"
    },
    {
      "cell_type": "code",
      "execution_count": 20,
      "metadata": {},
      "outputs": [],
      "source": [
        "# Test your answer\n",
        "assert highest_priority_task == \"Liquidity Planning\", f\"The task {highest_priority_task} as the task with the highest priority is not correct. It should be 'Liquidity Planning'.\"\n",
        "print(\"Great! You've successfully gotten the task with the highest priority.\")"
      ],
      "id": "1b1b21f8"
    },
    {
      "cell_type": "markdown",
      "metadata": {},
      "source": [
        "## Exercise 2.3 - Remove a Task\n",
        "\n",
        "First, check if the key `\"Liquidity Planning\"` exists in the `tasks`\n",
        "dictionary. If it exists, remove it using the appropriate method.\n",
        "\n",
        "> **Tip**\n",
        ">\n",
        "> You can use the `del()` function to remove a key from a dictionary."
      ],
      "id": "7c1574f3-544e-4410-912b-4b177b94e738"
    },
    {
      "cell_type": "code",
      "execution_count": 21,
      "metadata": {},
      "outputs": [],
      "source": [
        "# YOUR CODE BELOW"
      ],
      "id": "8344a465"
    },
    {
      "cell_type": "code",
      "execution_count": 22,
      "metadata": {},
      "outputs": [],
      "source": [
        "# Test your answer\n",
        "assert \"Liquidity Planning\" not in tasks, \"The task 'Liquidity Planning' was not removed from the dictionary.\"\n",
        "print(\"Great! You've successfully removed a task from the dictionary.\")"
      ],
      "id": "14acc5e3"
    },
    {
      "cell_type": "markdown",
      "metadata": {},
      "source": [
        "## Conclusion\n",
        "\n",
        "Great! You’ve just navigated through the basics of dictionaries in\n",
        "Python. Dictionaries are powerful data structures that allow for\n",
        "efficient data organization and retrieval. Remember:\n",
        "\n",
        "-   Dictionaries can store information using key-value pairs\n",
        "-   Accessing them using keys is efficient and easier as accessing them\n",
        "    using indices\n",
        "-   Loops can iterate over dictionaries to perform operations on each\n",
        "    key-value pair\n",
        "\n",
        "# Solutions\n",
        "\n",
        "You will likely find solutions to most exercises online. However, we\n",
        "strongly encourage you to work on these exercises independently without\n",
        "searching explicitly for the exact answers to the exercises.\n",
        "Understanding someone else’s solution is very different from developing\n",
        "your own. Use the lecture notes and try to solve the exercises on your\n",
        "own. This approach will significantly enhance your learning and\n",
        "problem-solving skills.\n",
        "\n",
        "Remember, the goal is not just to complete the exercises, but to\n",
        "understand the concepts and improve your programming abilities. If you\n",
        "encounter difficulties, review the lecture materials, experiment with\n",
        "different approaches, and don’t hesitate to ask for clarification during\n",
        "class discussions.\n",
        "\n",
        "Later, you will find the solutions to these exercises online in the\n",
        "associated GitHub repository, but we will also quickly go over them next\n",
        "week. To access the solutions, click on the Github button on the lower\n",
        "right and search for the folder with today’s lecture and tutorial.\n",
        "Alternatively, you can ask ChatGPT or Claude to explain them to you. But\n",
        "please remember, the goal is not just to complete the exercises, but to\n",
        "understand the concepts and improve your programming abilities.\n",
        "\n",
        "------------------------------------------------------------------------\n",
        "\n",
        "*In the next tutorial, we’ll dive deeper into DataFrames and how to use\n",
        "them!*"
      ],
      "id": "7ff304c0-62d2-43b5-acb0-bd23048ef58b"
    }
  ],
  "nbformat": 4,
  "nbformat_minor": 5,
  "metadata": {
    "kernelspec": {
      "name": "python3",
      "display_name": "Python 3 (ipykernel)",
      "language": "python",
      "path": "/Users/vlcek/Documents/git-teaching/Programming-Everyday-Decisions/.venv/share/jupyter/kernels/python3"
    },
    "language_info": {
      "name": "python",
      "codemirror_mode": {
        "name": "ipython",
        "version": "3"
      },
      "file_extension": ".py",
      "mimetype": "text/x-python",
      "nbconvert_exporter": "python",
      "pygments_lexer": "ipython3",
      "version": "3.12.11"
    }
  }
}