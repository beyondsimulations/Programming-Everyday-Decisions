{
  "cells": [
    {
      "cell_type": "markdown",
      "metadata": {},
      "source": [
        "# Tutorial II.III - Explore and Exploit\n",
        "\n",
        "Programming: Everyday Decision-Making Algorithms\n",
        "\n",
        "# Introduction\n",
        "\n",
        "Welcome to the final tutorial of Part II! We’ll tie together everything\n",
        "we’ve learned so far - variables, lists, conditions, and loops - to\n",
        "tackle a classic explore-exploit problem: the one-armed bandit (slot\n",
        "machine). This is a perfect example of balancing exploration (trying\n",
        "different strategies) with exploitation (sticking to what works).\n",
        "\n",
        "# Section 1 - Setting Up Our Casino\n",
        "\n",
        "First, let’s create a simple slot machine simulator using what we\n",
        "learned about variables and lists. In order to do this, we’ll need to\n",
        "import the `random` module, which we can do using the `import`\n",
        "statement. Don’t worry about the details of this statement for now -\n",
        "we’ll cover it in more detail in a future tutorial."
      ],
      "id": "d8b9bb15-6aa7-47d4-b8b3-0387d34f2fe1"
    },
    {
      "cell_type": "code",
      "execution_count": 1,
      "metadata": {},
      "outputs": [
        {
          "output_type": "stream",
          "name": "stdout",
          "text": [
            "Possible outcomes:\n",
            "🎰 Win $0\n",
            "🎰 Win $5\n",
            "🎰 Win $10\n",
            "🎰 Win $20\n",
            "🎰 Win $50"
          ]
        }
      ],
      "source": [
        "import random\n",
        "\n",
        "# Initial setup\n",
        "money = 100 # Starting money\n",
        "bet = 10 # How much we bet each time\n",
        "payouts = [0, 5, 10, 20, 50] # Different possible wins\n",
        "\n",
        "print(\"Possible outcomes:\")\n",
        "for payout in payouts:\n",
        "    print(f\"🎰 Win ${payout}\")"
      ],
      "id": "1e086071"
    },
    {
      "cell_type": "markdown",
      "metadata": {},
      "source": [
        "In this setup, we’re creating a simple slot machine where: - You start\n",
        "with \\$100 - Each play costs \\$10 - There are 5 possible payouts: \\$0\n",
        "(loss), \\$5 (small win), \\$10 (break even), \\$20 (good win), and \\$50\n",
        "(jackpot) - The `random.choice()` function simulates pulling the lever\n",
        "by randomly selecting one of these payouts\n",
        "\n",
        "> **Note**\n",
        ">\n",
        "> In real slot machines, the probabilities of different payouts aren’t\n",
        "> equal. Higher payouts are much less likely to occur than lower ones.\n",
        "> Our simplified version gives each payout an equal chance.\n",
        "\n",
        "To simulate playing the slot machine once, we can start as follows:"
      ],
      "id": "3d243d45-2277-42f2-a7e8-c14b878c4f1d"
    },
    {
      "cell_type": "code",
      "execution_count": 2,
      "metadata": {},
      "outputs": [
        {
          "output_type": "stream",
          "name": "stdout",
          "text": [
            "You bet $10\n",
            "You won $0!\n",
            "Your new balance is $100"
          ]
        }
      ],
      "source": [
        "# Simulate playing the slot machine once\n",
        "win = random.choice(payouts)\n",
        "money += win\n",
        "print(f\"You bet ${bet}\")\n",
        "print(f\"You won ${win}!\")\n",
        "print(f\"Your new balance is ${money}\")"
      ],
      "id": "31bfef9b"
    },
    {
      "cell_type": "markdown",
      "metadata": {},
      "source": [
        "> **Tip**\n",
        ">\n",
        "> `+=` is a shorthand for “add and assign”. So `money += 10` is\n",
        "> equivalent to `money = money + 10`. This also works for other\n",
        "> arithmetic operations, like `-=`, `*=`, and `/=`.\n",
        "\n",
        "# Exercise 1.1 - Multiple Attempts\n",
        "\n",
        "Now let’s use a loop to play multiple times and track our results. Write\n",
        "a loop that:\n",
        "\n",
        "1.  Plays the slot machine 10 times\n",
        "2.  Subtracts the bet amount each time\n",
        "3.  Adds a random payout\n",
        "4.  Stores the results in a list"
      ],
      "id": "26d0adfa-e1a0-45c7-b14d-848b8b08e735"
    },
    {
      "cell_type": "code",
      "execution_count": 3,
      "metadata": {},
      "outputs": [],
      "source": [
        "money = 100 # Reset our money\n",
        "bet = 10 # How much we bet each time\n",
        "results = [] # List to store how much money we have after each play\n",
        "\n",
        "# YOUR CODE BELOW"
      ],
      "id": "82a0658c"
    },
    {
      "cell_type": "code",
      "execution_count": 4,
      "metadata": {},
      "outputs": [],
      "source": [
        "# Check your results\n",
        "assert len(results) == 10, \"You should have 10 results in your list\"\n",
        "assert all(isinstance(x, (int, float)) for x in results), \"All results should be numbers\"\n",
        "print(f\"You played the slot machine {len(results)} times\")\n",
        "print(f\"Your final balance is ${results[-1]}\")\n",
        "print(f\"Unfortunately, the payout rates are not realistic here...\")"
      ],
      "id": "d98a366f"
    },
    {
      "cell_type": "markdown",
      "metadata": {},
      "source": [
        "> **Tip**\n",
        ">\n",
        "> Use the `append()` method to add an element to a list. For example,\n",
        "> `results.append(money)` will add the current value of `money` to the\n",
        "> `results` list.\n",
        "\n",
        "# Exercise 1.2 - Playing with a Budget\n",
        "\n",
        "Now let’s simulate playing the slot machine multiple times with a\n",
        "budget. We’ll use a `while` loop to play until we run out of money. This\n",
        "is more realistic than playing a fixed number of times, as real players\n",
        "need to stop when they’re out of money!\n",
        "\n",
        "The `machine_payout_rate` represents how generous the machine is:\n",
        "\n",
        "-   The function `random.random()` generates a random number between 0\n",
        "    and 1.\n",
        "-   A rate of 2.0 means you get back exactly what you bet (on average)\n",
        "-   Our rate of 1.5 means you could win up to 1.5 times your bet but on\n",
        "    average you’ll get back 0.75 times your bet\n",
        "\n",
        "``` python\n",
        "# Compute the payout for the current play\n",
        "machine_payout_rate = 1.5\n",
        "payout = random.random() * machine_payout_rate * bet\n",
        "```\n",
        "\n",
        "Use a `while` loop to play the slot machine until you run out of money,\n",
        "and store the amount of money you have after each play in the `results`\n",
        "list. Further, print out the amount of money you have after each play\n",
        "with a formatted string."
      ],
      "id": "59200e69-b5ab-422c-8414-6ca21604675f"
    },
    {
      "cell_type": "code",
      "execution_count": 5,
      "metadata": {},
      "outputs": [],
      "source": [
        "import random\n",
        "\n",
        "machine_payout_rate = 1.5 # Payout rate for the machine\n",
        "bet = 10 # Bet size\n",
        "money = 100 # Our starting money\n",
        "results = [] # Store results of each play here\n",
        "\n",
        "# YOUR CODE BELOW\n"
      ],
      "id": "08c1d0d0"
    },
    {
      "cell_type": "code",
      "execution_count": 6,
      "metadata": {},
      "outputs": [],
      "source": [
        "# Check your results\n",
        "assert len(results) > 0, \"You should have at least one result\"\n",
        "assert all(isinstance(x, (int, float)) for x in results), \"All results should be numbers\"\n",
        "assert results[-1] <= bet, \"Should stop playing when money is less than bet amount\"\n",
        "assert all(abs(results[i] - results[i-1]) <= bet * machine_payout_rate for i in range(1, len(results))), \"Each play should not change money by more than maximum possible payout\"\n",
        "print(f\"You played the slot machine {len(results)} times\")"
      ],
      "id": "4fb1c363"
    },
    {
      "cell_type": "markdown",
      "metadata": {},
      "source": [
        "# Section 2 - Nested Loops\n",
        "\n",
        "Now let’s use nested loops to try different slot machines with different\n",
        "payout rates. This is where exploration comes in! Nested loops are a way\n",
        "to repeat a loop multiple times, and we can use them to try different\n",
        "options. It’s essentially a loop inside another loop.\n",
        "\n",
        "> **Tip**\n",
        ">\n",
        "> Nested loops are like a clock: the outer loop is like the hour hand\n",
        "> (moves slowly), and the inner loop is like the minute hand (completes\n",
        "> a full cycle for each move of the hour hand).\n",
        "\n",
        "For example, `for machine in range(3)` will run a loop 3 times. We can\n",
        "use nested loops to try all combinations of two different options."
      ],
      "id": "d9d97334-fdce-4b9b-bed3-b8ddc67c7872"
    },
    {
      "cell_type": "code",
      "execution_count": 7,
      "metadata": {},
      "outputs": [
        {
          "output_type": "stream",
          "name": "stdout",
          "text": [
            "Machine Nr. 0, Payout Nr. 0\n",
            "Machine Nr. 0, Payout Nr. 1\n",
            "Machine Nr. 0, Payout Nr. 2\n",
            "Machine Nr. 0, Payout Nr. 3\n",
            "Machine Nr. 1, Payout Nr. 0\n",
            "Machine Nr. 1, Payout Nr. 1\n",
            "Machine Nr. 1, Payout Nr. 2\n",
            "Machine Nr. 1, Payout Nr. 3\n",
            "Machine Nr. 2, Payout Nr. 0\n",
            "Machine Nr. 2, Payout Nr. 1\n",
            "Machine Nr. 2, Payout Nr. 2\n",
            "Machine Nr. 2, Payout Nr. 3"
          ]
        }
      ],
      "source": [
        "for machine in range(3):\n",
        "    for payout in range(4):\n",
        "        print(f\"Machine Nr. {machine}, Payout Nr. {payout}\")"
      ],
      "id": "23fab89e"
    },
    {
      "cell_type": "markdown",
      "metadata": {},
      "source": [
        "# Exercise 2.1 - Simulating Multiple Machines\n",
        "\n",
        "The setup is the same as in Exercise 1.2, but we’re now comparing three\n",
        "different machines, each with its own payout rate. Use a `while` loop\n",
        "for each machine and a `for` loop to try all machines. As the bank\n",
        "always wins, we’re not interested in the results for each machine, but\n",
        "rather in the number of times we can play each machine before we run out\n",
        "of money.\n",
        "\n",
        "Store the number of plays in a list called `plays` with three elements,\n",
        "one for each machine. The goal is to find out which machine lets us play\n",
        "the longest with our budget. This is a common exploration strategy: try\n",
        "each option several times to understand its characteristics."
      ],
      "id": "961abfe2-e77c-4a88-b25b-f86e1633494d"
    },
    {
      "cell_type": "code",
      "execution_count": 8,
      "metadata": {},
      "outputs": [],
      "source": [
        "import random\n",
        "# Different machines might have different payout rates\n",
        "machine_1_payout_rate = 1.2\n",
        "machine_2_payout_rate = 1.5\n",
        "machine_3_payout_rate = 1.8\n",
        "\n",
        "bet = 10 # Bet size at each play\n",
        "budget = 100 # Our starting money for each machine!\n",
        "plays = [0, 0, 0] # List to store number of plays for each machine\n",
        "\n",
        "# YOUR CODE BELOW"
      ],
      "id": "ed1a62f2"
    },
    {
      "cell_type": "code",
      "execution_count": 9,
      "metadata": {},
      "outputs": [],
      "source": [
        "# Check your results\n",
        "assert len(plays) == 3, \"Should have results for three machines\"\n",
        "assert all(isinstance(x, int) and x >= 0 for x in plays), \"Number of plays should be non-negative integers\"\n",
        "assert all(x <= budget/bet * 6 for x in plays), \"Number of plays seems unreasonably high given budget\"\n",
        "print(f\"You played the slot machine {plays[0]} times on machine 1\")\n",
        "print(f\"You played the slot machine {plays[1]} times on machine 2\")\n",
        "print(f\"You played the slot machine {plays[2]} times on machine 3\")"
      ],
      "id": "60c7d909"
    },
    {
      "cell_type": "markdown",
      "metadata": {},
      "source": [
        "# Exercise 2.2 - Exploring the Machines\n",
        "\n",
        "Now let’s find out which machine is the best and which one is the worst\n",
        "by comparing the number of plays for each machine. Store the index of\n",
        "the best machine in `best_machine` and the index of the worst machine in\n",
        "`worst_machine`. You can use the `max(plays)` function to find the\n",
        "maximum number of plays in the `plays` list and the\n",
        "`plays.index(max(plays))` function to find the index of the maximum\n",
        "number of plays."
      ],
      "id": "5e3894f1-fcbe-496c-9308-974497bdede9"
    },
    {
      "cell_type": "code",
      "execution_count": 10,
      "metadata": {},
      "outputs": [],
      "source": [
        "# YOUR CODE BELOW"
      ],
      "id": "f90f3513"
    },
    {
      "cell_type": "code",
      "execution_count": 11,
      "metadata": {},
      "outputs": [],
      "source": [
        "# Check your results\n",
        "assert isinstance(best_machine, int) and 0 <= best_machine <= 2, \"Best machine should be 0, 1, or 2\"\n",
        "assert isinstance(worst_machine, int) and 0 <= worst_machine <= 2, \"Worst machine should be 0, 1, or 2\"\n",
        "assert best_machine != worst_machine, \"Best and worst machine cannot be the same\"\n",
        "print(f\"The best machine is machine {best_machine}\")\n",
        "print(f\"The worst machine is machine {worst_machine}\")"
      ],
      "id": "8916632f"
    },
    {
      "cell_type": "markdown",
      "metadata": {},
      "source": [
        "# Conclusion\n",
        "\n",
        "Excellent work! You’ve successfully combined multiple programming\n",
        "concepts to tackle a real explore-exploit problem:\n",
        "\n",
        "-   Variables and types for tracking money and bets\n",
        "-   Lists for storing payouts and results\n",
        "-   Loops (including nested loops) for testing different machines\n",
        "-   Conditions for finding the best machine\n",
        "\n",
        "This is a simplified version of how casinos and gambling companies might\n",
        "analyze their games, though in reality, they use much more sophisticated\n",
        "algorithms! Remember though, that the casino always wins!\n",
        "\n",
        "# Solutions\n",
        "\n",
        "You will likely find solutions to most exercises online. However, we\n",
        "strongly encourage you to work on these exercises independently without\n",
        "searching explicitly for the exact answers to the exercises.\n",
        "Understanding someone else’s solution is very different from developing\n",
        "your own. Use the lecture notes and try to solve the exercises on your\n",
        "own. This approach will significantly enhance your learning and\n",
        "problem-solving skills.\n",
        "\n",
        "Remember, the goal is not just to complete the exercises, but to\n",
        "understand the concepts and improve your programming abilities. If you\n",
        "encounter difficulties, review the lecture materials, experiment with\n",
        "different approaches, and don’t hesitate to ask for clarification during\n",
        "class discussions.\n",
        "\n",
        "Later, you will find the solutions to these exercises online in the\n",
        "associated GitHub repository, but we will also quickly go over them next\n",
        "week. To access the solutions, click on the Github button on the lower\n",
        "right and search for the folder with today’s lecture and tutorial.\n",
        "Alternatively, you can ask ChatGPT or Claude to explain them to you. But\n",
        "please remember, the goal is not just to complete the exercises, but to\n",
        "understand the concepts and improve your programming abilities.\n",
        "\n",
        "------------------------------------------------------------------------\n",
        "\n",
        "*That’s it for part II! Next week, we’ll learn about functions and how\n",
        "to use them to make our code more efficient and reusable.*"
      ],
      "id": "ed29fed2-0073-4436-ae73-f8a758d70c8a"
    }
  ],
  "nbformat": 4,
  "nbformat_minor": 5,
  "metadata": {
    "kernelspec": {
      "name": "python3",
      "display_name": "Python 3 (ipykernel)",
      "language": "python",
      "path": "/Users/vlcek/Documents/git-teaching/Programming-Everyday-Decisions/.venv/share/jupyter/kernels/python3"
    },
    "language_info": {
      "name": "python",
      "codemirror_mode": {
        "name": "ipython",
        "version": "3"
      },
      "file_extension": ".py",
      "mimetype": "text/x-python",
      "nbconvert_exporter": "python",
      "pygments_lexer": "ipython3",
      "version": "3.12.11"
    }
  }
}