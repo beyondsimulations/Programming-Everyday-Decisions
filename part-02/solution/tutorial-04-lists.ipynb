{
  "cells": [
    {
      "cell_type": "markdown",
      "id": "026bd245-36a5-4217-9085-3e49f03d6546",
      "metadata": {},
      "source": [
        "# Tutorial II.I - Lists and Tuples\n",
        "\n",
        "Programming: Everyday Decision-Making Algorithms\n",
        "\n",
        "# Introduction\n",
        "\n",
        "When deciding where to eat, we often face a dilemma: should we go to our\n",
        "favorite restaurant (exploit) or try somewhere new (explore)? This is a\n",
        "perfect example of the explore-exploit trade-off! To help us analyze\n",
        "this problem, we need to learn about lists and tuples in Python.\n",
        "\n",
        "-   Lists are like our dining history - we can add new restaurants and\n",
        "    remove ones we don’t like\n",
        "-   Tuples are like a restaurant’s fixed menu - once set, it doesn’t\n",
        "    change\n",
        "\n",
        "Let’s learn these concepts by helping a food critic make better\n",
        "restaurant decisions!\n",
        "\n",
        "> **Note**\n",
        ">\n",
        "> If a cell is marked with `YOUR CODE BELOW`, you are expected to write\n",
        "> your code in that cell.\n",
        "\n",
        "# Section 1 - Lists\n",
        "\n",
        "Lists in Python are ordered collections of items that can be modified.\n",
        "Think of them as a restaurant review notebook where each page can be\n",
        "added, removed, or edited. Lists are created using square brackets `[]`\n",
        "and can contain any type of data (numbers, strings, even other lists!).\n",
        "They are fundamental data structures in Python that help us organize and\n",
        "manage collections of data. They’re particularly useful for our\n",
        "restaurant decision-making scenario as they allow us to:\n",
        "\n",
        "-   Track multiple restaurants in a single variable\n",
        "-   Modify our preferences over time\n",
        "-   Access restaurants by their position in our list\n",
        "\n",
        "Here are some examples:"
      ]
    },
    {
      "cell_type": "code",
      "execution_count": 1,
      "id": "52378efd",
      "metadata": {},
      "outputs": [],
      "source": [
        "# Creating a list of restaurant ratings\n",
        "ratings = [4.5, 3.8, 4.2, 4.7, 3.9]\n",
        "\n",
        "# Creating a list of restaurant names\n",
        "restaurants = [\"Pasta Place\", \"Sushi Bar\", \"Burger Joint\"]\n",
        "\n",
        "# Creating a mixed list (not recommended, but possible)\n",
        "mixed_data = [\"Pasta Place\", 4.5, True]"
      ]
    },
    {
      "cell_type": "markdown",
      "id": "b137ebd8-9c6a-4275-bc4c-6ac05eb8a108",
      "metadata": {},
      "source": [
        "## Working with Lists\n",
        "\n",
        "Lists are flexible. Here are the most common operations:\n",
        "\n",
        "1.  **Adding items** (like discovering a new restaurant):\n",
        "    -   `append()` adds to the end\n",
        "    -   `insert()` adds at a specific position"
      ]
    },
    {
      "cell_type": "code",
      "execution_count": 2,
      "id": "e4173711",
      "metadata": {},
      "outputs": [
        {
          "name": "stdout",
          "output_type": "stream",
          "text": [
            "['Pasta Place', 'Sushi Bar', 'Pizza Palace']\n",
            "['Pasta Place', 'Taco Shop', 'Sushi Bar', 'Pizza Palace']\n"
          ]
        }
      ],
      "source": [
        "# Adding a new restaurant\n",
        "restaurants = [\"Pasta Place\", \"Sushi Bar\"]\n",
        "restaurants.append(\"Pizza Palace\") # Adds to the end\n",
        "print(restaurants)\n",
        "\n",
        "# You can also insert at a specific position\n",
        "restaurants.insert(1, \"Taco Shop\") # Adds at position 1\n",
        "print(restaurants) # [\"Pasta Place\", \"Taco Shop\", \"Sushi Bar\", \"Pizza Palace\"]"
      ]
    },
    {
      "cell_type": "markdown",
      "id": "cf2c337d-7bad-46a6-b5fd-559ba1714316",
      "metadata": {},
      "source": [
        "1.  **Removing items** (like removing a restaurant you don’t like):\n",
        "    -   `pop()` removes the last item\n",
        "    -   `remove()` removes a specific item"
      ]
    },
    {
      "cell_type": "code",
      "execution_count": 3,
      "id": "55fd7be5",
      "metadata": {},
      "outputs": [
        {
          "name": "stdout",
          "output_type": "stream",
          "text": [
            "['Pasta Place', 'Taco Shop', 'Sushi Bar']\n",
            "['Taco Shop', 'Sushi Bar']\n"
          ]
        }
      ],
      "source": [
        "# Removing the last restaurant\n",
        "restaurants = [\"Pasta Place\", \"Taco Shop\", \"Sushi Bar\", \"Pizza Palace\"]\n",
        "restaurants.pop() # Removes and returns the last item\n",
        "print(restaurants)\n",
        "\n",
        "# Removing a specific item\n",
        "restaurants.remove(\"Pasta Place\") \n",
        "print(restaurants)"
      ]
    },
    {
      "cell_type": "markdown",
      "id": "91d12be5-26a7-4cac-baa1-42fb914c5c19",
      "metadata": {},
      "source": [
        "1.  **Accessing items** (like looking up a restaurant by position):\n",
        "    -   `[0]` gives you the first item\n",
        "    -   `[1:3]` gives you items second and third\n",
        "    -   `[-1]` gives you the last item"
      ]
    },
    {
      "cell_type": "code",
      "execution_count": 4,
      "id": "6639a5d2",
      "metadata": {},
      "outputs": [],
      "source": [
        "restaurants = [\"Pasta Place\", \"Sushi Bar\", \"Burger Joint\"]\n",
        "first_choice = restaurants[0] # Gets \"Pasta Place\"\n",
        "last_choice = restaurants[-1] # Gets \"Burger Joint\"\n",
        "some_choices = restaurants[0:2] # Gets [\"Pasta Place\", \"Sushi Bar\"]"
      ]
    },
    {
      "cell_type": "markdown",
      "id": "7a417201-608e-4f81-ac36-1ee6e032f544",
      "metadata": {},
      "source": [
        "> **Tip**\n",
        ">\n",
        "> In Python, we start counting positions from 0, not 1. So\n",
        "> `restaurants[0]` gives you the first restaurant!\n",
        "\n",
        "## Exercise 1.1 - Create a Restaurant List\n",
        "\n",
        "reate a list `favorite_spots` with your top three favorite restaurants.\n",
        "Remember to:\n",
        "\n",
        "-   Use square brackets `[]`\n",
        "-   Put restaurant names in quotes (they’re strings!)\n",
        "-   Separate items with commas"
      ]
    },
    {
      "cell_type": "code",
      "execution_count": 5,
      "id": "829b9dab",
      "metadata": {},
      "outputs": [],
      "source": [
        "# YOUR CODE BELOW\n",
        "favorite_spots = [\"Lorenzino\", \"Yumi\", \"Ti Breizh\"]"
      ]
    },
    {
      "cell_type": "code",
      "execution_count": 6,
      "id": "f2cf822d",
      "metadata": {},
      "outputs": [
        {
          "name": "stdout",
          "output_type": "stream",
          "text": [
            "Your favorite restaurants: ['Lorenzino', 'Yumi', 'Ti Breizh']\n"
          ]
        }
      ],
      "source": [
        "# Test your answer\n",
        "assert len(favorite_spots) == 3, \"You should have exactly 3 restaurants\"\n",
        "assert isinstance(favorite_spots, list), \"favorite_spots should be a list\"\n",
        "assert all(isinstance(x, str) for x in favorite_spots), \"All items should be strings\"\n",
        "print(\"Your favorite restaurants:\", favorite_spots)"
      ]
    },
    {
      "cell_type": "markdown",
      "id": "c3a5d59d-3705-4909-a1f2-62e300eb792c",
      "metadata": {},
      "source": [
        "## Exercise 1.2 - Add a New Discovery\n",
        "\n",
        "You’ve discovered a new restaurant called “The Golden Fork”. Add it to\n",
        "your `favorite_spots` list using the `append()` method. Think of this as\n",
        "writing a new entry in your restaurant diary!"
      ]
    },
    {
      "cell_type": "code",
      "execution_count": 7,
      "id": "19a204f7",
      "metadata": {},
      "outputs": [],
      "source": [
        "# YOUR CODE BELOW\n",
        "favorite_spots.append(\"The Golden Fork\")"
      ]
    },
    {
      "cell_type": "code",
      "execution_count": 8,
      "id": "8f84ea97",
      "metadata": {},
      "outputs": [],
      "source": [
        "# Test your answer\n",
        "assert \"The Golden Fork\" in favorite_spots, \"The Golden Fork should be in the list\"\n",
        "assert len(favorite_spots) == 4, \"You should now have 4 restaurants\"\n",
        "print(\"Updated restaurant list:\", favorite_spots)"
      ]
    },
    {
      "cell_type": "markdown",
      "id": "72a4cf98-93ae-44b1-9a68-bb186bd0fcce",
      "metadata": {},
      "source": [
        "## Exercise 1.3 - Remove a Restaurant\n",
        "\n",
        "The last restaurant in your list closed down. Remove it using the\n",
        "`pop()` method."
      ]
    },
    {
      "cell_type": "code",
      "execution_count": 8,
      "id": "49788747",
      "metadata": {},
      "outputs": [
        {
          "data": {
            "text/plain": [
              "'The Golden Fork'"
            ]
          },
          "execution_count": 8,
          "metadata": {},
          "output_type": "execute_result"
        }
      ],
      "source": [
        "# YOUR CODE BELOW\n",
        "favorite_spots.pop()"
      ]
    },
    {
      "cell_type": "code",
      "execution_count": 9,
      "id": "9b28744d",
      "metadata": {},
      "outputs": [
        {
          "name": "stdout",
          "output_type": "stream",
          "text": [
            "Updated restaurant list: ['Lorenzino', 'Yumi', 'Ti Breizh']\n"
          ]
        }
      ],
      "source": [
        "# Test your answer\n",
        "assert \"The Golden Fork\" not in favorite_spots, \"The Golden Fork should be removed\"\n",
        "assert len(favorite_spots) == 3, \"You should now have 3 restaurants\"\n",
        "print(\"Updated restaurant list:\", favorite_spots)"
      ]
    },
    {
      "cell_type": "markdown",
      "id": "6a0714aa-758d-48a3-8546-a92eecfdec39",
      "metadata": {},
      "source": [
        "# Section 2 - Nested Lists\n",
        "\n",
        "Sometimes we need to store multiple pieces of information about each\n",
        "restaurant. We can use lists inside lists (nested lists) for this! Think\n",
        "of it as a detailed restaurant spreadsheet:"
      ]
    },
    {
      "cell_type": "code",
      "execution_count": 10,
      "id": "fccab03a",
      "metadata": {},
      "outputs": [],
      "source": [
        "# Restaurant data: [name, rating, times_visited]\n",
        "restaurant_data = [\n",
        "[\"Pasta Place\", 4.5, 3], # Each inner list is one restaurant's data\n",
        "[\"Sushi Bar\", 4.2, 1],\n",
        "[\"Burger Joint\", 3.8, 2]\n",
        "]\n",
        "\n",
        "# To access data:\n",
        "first_restaurant_name = restaurant_data[0][0] # \"Pasta Place\"\n",
        "first_restaurant_rating = restaurant_data[0][1] # 4.5\n",
        "first_restaurant_visits = restaurant_data[0][2] # 3"
      ]
    },
    {
      "cell_type": "markdown",
      "id": "c6b0b8ee-dcaf-4b01-9ab8-c3a438a1432e",
      "metadata": {},
      "source": [
        "> **Tip**\n",
        ">\n",
        "> When accessing nested lists, the first `[]` selects the outer list\n",
        "> item, and the second `[]` selects from within that item. Like finding\n",
        "> a page in a book (first number) and then a paragraph on that page\n",
        "> (second number).\n",
        "\n",
        "## Exercise 2.1 - Access Restaurant Info\n",
        "\n",
        "Using the `restaurant_data` list above, create variables\n",
        "`best_restaurant` and `best_rating` containing the name and rating of\n",
        "the restaurant with the highest rating. You’ll need to:\n",
        "\n",
        "1.  Look at each restaurant’s rating (position 1 in each inner list)\n",
        "2.  Keep track of the highest rating and its restaurant name"
      ]
    },
    {
      "cell_type": "code",
      "execution_count": 12,
      "id": "a36a92b5",
      "metadata": {},
      "outputs": [],
      "source": [
        "restaurant_data = [\n",
        "    [\"Pasta Place\", 4.5, 3],\n",
        "    [\"Sushi Bar\", 4.2, 1],\n",
        "    [\"Burger Joint\", 3.8, 2]\n",
        "]\n",
        "# YOUR CODE BELOW\n",
        "best_restaurant = restaurant_data[0][0]\n",
        "best_rating = restaurant_data[0][1]\n"
      ]
    },
    {
      "cell_type": "code",
      "execution_count": 13,
      "id": "2429b622",
      "metadata": {},
      "outputs": [
        {
          "name": "stdout",
          "output_type": "stream",
          "text": [
            "The best restaurant is Pasta Place with a rating of 4.5\n"
          ]
        }
      ],
      "source": [
        "# Test your answer\n",
        "assert best_restaurant == \"Pasta Place\", \"Should be the restaurant with highest rating\"\n",
        "assert best_rating == 4.5, \"Should be the highest rating\"\n",
        "print(f\"The best restaurant is {best_restaurant} with a rating of {best_rating}\")"
      ]
    },
    {
      "cell_type": "markdown",
      "id": "121d29a3-5d5d-4e60-8563-f05b8d0c670d",
      "metadata": {},
      "source": [
        "# Exercise 2.2 - Create a Categorized Restaurant List\n",
        "\n",
        "Create a nested list `categorized_restaurants` where each inner list\n",
        "contains: 1. Two cuisine categories - here `\"Italian\"` and `\"Japanese\"`\n",
        "2. A list of restaurant names with two entries for each category"
      ]
    },
    {
      "cell_type": "code",
      "execution_count": 14,
      "id": "07319f79",
      "metadata": {},
      "outputs": [],
      "source": [
        "# Example structure:\n",
        "# [\n",
        "#    [\"German\", [\"Brauhaus\", \"Bierhaus\"]],\n",
        "#    [\"Swedish\", [\"Fika\", \"Ivar's\"]]\n",
        "# ]\n",
        "\n",
        "# YOUR CODE BELOW\n",
        "categorized_restaurants = [\n",
        "    [\"Italian\", [\"Lorenzino\", \"La Bottega\"]],\n",
        "    [\"Japanese\", [\"Sushi Bar\", \"Ramen\"]]\n",
        "]"
      ]
    },
    {
      "cell_type": "code",
      "execution_count": 15,
      "id": "ebe9e51b",
      "metadata": {},
      "outputs": [
        {
          "name": "stdout",
          "output_type": "stream",
          "text": [
            "Your categorized restaurants: [['Italian', ['Lorenzino', 'La Bottega']], ['Japanese', ['Sushi Bar', 'Ramen']]]\n"
          ]
        }
      ],
      "source": [
        "# Test your answer\n",
        "assert isinstance(categorized_restaurants, list), \"Should be a list\"\n",
        "assert all(len(x) == 2 for x in categorized_restaurants), \"Each list should have 2 elements, first is cuisine, second is list of restaurants\"\n",
        "assert all(isinstance(x[0], str) for x in categorized_restaurants), \"Categories should be strings\"\n",
        "assert all(isinstance(x[1], list) for x in categorized_restaurants), \"Restaurant lists should be lists\"\n",
        "print(\"Your categorized restaurants:\", categorized_restaurants)"
      ]
    },
    {
      "cell_type": "markdown",
      "id": "28f6b38b-3667-40d1-8cb4-1eb03c5c3b17",
      "metadata": {},
      "source": [
        "# Section 3 - Tuples for Fixed Data\n",
        "\n",
        "While lists are great for data that changes (like your favorite\n",
        "restaurants), sometimes we need to store data that shouldn’t change\n",
        "(like a restaurant’s location or founding date). That’s where tuples\n",
        "come in! Tuples are like lists but immutable (unchangeable). They use\n",
        "parentheses `()` instead of square brackets `[]`:"
      ]
    },
    {
      "cell_type": "code",
      "execution_count": 16,
      "id": "13f302c7",
      "metadata": {},
      "outputs": [],
      "source": [
        "# Restaurant info that won't change\n",
        "restaurant_info = (\"Pasta Place\", \"Italian\", \"Downtown\")\n",
        "name = restaurant_info[0]  # Access like lists\n",
        "cuisine = restaurant_info[1]\n",
        "location = restaurant_info[2]"
      ]
    },
    {
      "cell_type": "markdown",
      "id": "f9130024-c486-4cce-aad4-7108cca00d4d",
      "metadata": {},
      "source": [
        "## Why use tuples?\n",
        "\n",
        "1.  They protect data that shouldn’t change\n",
        "2.  They use less memory than lists\n",
        "3.  They can be used as dictionary keys (which we’ll learn about later)\n",
        "\n",
        "> **Tip**\n",
        ">\n",
        "> Think of tuples as sealed envelopes - once you seal them, you can’t\n",
        "> change what’s inside. Lists are like notebooks where you can add or\n",
        "> remove pages.\n",
        "\n",
        "## Exercise 3.1 - Create Restaurant Profile\n",
        "\n",
        "Create a tuple `restaurant_profile` with three elements: restaurant\n",
        "name, cuisine type, and founding year. You can freely choose the values\n",
        "for these elements, just make sure they are of the correct type."
      ]
    },
    {
      "cell_type": "code",
      "execution_count": 17,
      "id": "69e5eab5",
      "metadata": {},
      "outputs": [],
      "source": [
        "# YOUR CODE BELOW\n",
        "restaurant_profile = (\"Pasta Place\", \"Italian\", 2024)"
      ]
    },
    {
      "cell_type": "code",
      "execution_count": 18,
      "id": "4fc6989c",
      "metadata": {},
      "outputs": [
        {
          "name": "stdout",
          "output_type": "stream",
          "text": [
            "Restaurant profile: ('Pasta Place', 'Italian', 2024)\n"
          ]
        }
      ],
      "source": [
        "# Test your answer\n",
        "assert isinstance(restaurant_profile, tuple), \"Should be a tuple\"\n",
        "assert len(restaurant_profile) == 3, \"Should have exactly 3 elements\"\n",
        "assert isinstance(restaurant_profile[0], str), \"First element should be a string (name)\"\n",
        "assert isinstance(restaurant_profile[1], str), \"Second element should be a string (cuisine)\"\n",
        "assert isinstance(restaurant_profile[2], int), \"Third element should be an integer (year)\"\n",
        "print(\"Restaurant profile:\", restaurant_profile)"
      ]
    },
    {
      "cell_type": "markdown",
      "id": "c1d233c7-f2c6-4be3-b3c1-1d97d59230bc",
      "metadata": {},
      "source": [
        "# Conclusion\n",
        "\n",
        "Great work! You’ve learned about lists and tuples in Python through the\n",
        "lens of restaurant decision-making. These tools are essential for:\n",
        "\n",
        "-   Tracking your favorite restaurants (lists)\n",
        "-   Managing ratings and visits (nested lists)\n",
        "-   Storing fixed restaurant information (tuples)\n",
        "\n",
        "In the context of the explore-exploit trade-off:\n",
        "\n",
        "-   Lists could help us track our exploration (new restaurants we try)\n",
        "-   Nested lists could help us make informed decisions (by storing\n",
        "    ratings and visit counts)\n",
        "-   Tuples could help us remember important fixed information about each\n",
        "    place\n",
        "\n",
        "# Solutions\n",
        "\n",
        "You will likely find solutions to most exercises online. However, we\n",
        "strongly encourage you to work on these exercises independently without\n",
        "searching explicitly for the exact answers to the exercises.\n",
        "Understanding someone else’s solution is very different from developing\n",
        "your own. Use the lecture notes and try to solve the exercises on your\n",
        "own. This approach will significantly enhance your learning and\n",
        "problem-solving skills.\n",
        "\n",
        "Remember, the goal is not just to complete the exercises, but to\n",
        "understand the concepts and improve your programming abilities. If you\n",
        "encounter difficulties, review the lecture materials, experiment with\n",
        "different approaches, and don’t hesitate to ask for clarification during\n",
        "class discussions.\n",
        "\n",
        "Later, you will find the solutions to these exercises online in the\n",
        "associated GitHub repository, but we will also quickly go over them next\n",
        "week. To access the solutions, click on the Github button on the lower\n",
        "right and search for the folder with today’s lecture and tutorial.\n",
        "Alternatively, you can ask ChatGPT or Claude to explain them to you. But\n",
        "please remember, the goal is not just to complete the exercises, but to\n",
        "understand the concepts and improve your programming abilities.\n",
        "\n",
        "------------------------------------------------------------------------\n",
        "\n",
        "*Continue to the next tutorial to learn about loops in the context of\n",
        "the explore-exploit problem!*"
      ]
    }
  ],
  "metadata": {
    "kernelspec": {
      "display_name": "Python 3 (ipykernel)",
      "language": "python",
      "name": "python3",
      "path": "/Users/tvlcek/miniconda3/share/jupyter/kernels/python3"
    },
    "language_info": {
      "codemirror_mode": {
        "name": "ipython",
        "version": 3
      },
      "file_extension": ".py",
      "mimetype": "text/x-python",
      "name": "python",
      "nbconvert_exporter": "python",
      "pygments_lexer": "ipython3",
      "version": "3.12.3"
    }
  },
  "nbformat": 4,
  "nbformat_minor": 5
}
