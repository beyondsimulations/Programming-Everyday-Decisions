{
  "cells": [
    {
      "cell_type": "markdown",
      "id": "bf9d5b46-7297-4944-b667-e26ea3635f9b",
      "metadata": {},
      "source": [
        "# Tutorial II.II - Loops\n",
        "\n",
        "Programming: Everyday Decision-Making Algorithms\n",
        "\n",
        "# Introduction\n",
        "\n",
        "Loops are a fundamental concept in programming that allow us to repeat a\n",
        "set of instructions multiple times. They’re essential for tasks that\n",
        "require processing large datasets, iterating through complex sequences,\n",
        "or automating repetitive processes. In the context of clinical trials,\n",
        "loops help us systematically analyze multiple treatments or patient\n",
        "outcomes.\n",
        "\n",
        "> **Note**\n",
        ">\n",
        "> If a cell is marked with `YOUR CODE BELOW`, you are expected to write\n",
        "> your code in that cell.\n",
        "\n",
        "# Section 1 - For Loops\n",
        "\n",
        "A `for` loop allows us to iterate through a sequence of items. In\n",
        "clinical trials, this is particularly useful when we need to process\n",
        "multiple treatments or patient outcomes. The basic syntax is:\n",
        "\n",
        "``` python\n",
        "for item in sequence:\n",
        "    # do something with item\n",
        "```\n",
        "\n",
        "Think of it like reviewing patient charts: instead of manually checking\n",
        "each chart, you can automate the process to review them one by one\n",
        "systematically. This is especially valuable when dealing with large\n",
        "clinical trials or multiple treatment groups. Example with treatment\n",
        "options:"
      ]
    },
    {
      "cell_type": "code",
      "execution_count": 1,
      "id": "9e98d296",
      "metadata": {},
      "outputs": [
        {
          "name": "stdout",
          "output_type": "stream",
          "text": [
            "Evaluating efficacy of Standard Drug\n",
            "Evaluating efficacy of New Drug A\n",
            "Evaluating efficacy of New Drug B\n"
          ]
        }
      ],
      "source": [
        "treatments = [\"Standard Drug\", \"New Drug A\", \"New Drug B\"]\n",
        "for treatment in treatments:\n",
        "    print(f\"Evaluating efficacy of {treatment}\")"
      ]
    },
    {
      "cell_type": "markdown",
      "id": "b550345b-6cb9-42f7-aaf4-566205f24dd7",
      "metadata": {},
      "source": [
        "# Range in For Loops\n",
        "\n",
        "When you need to iterate a specific number of times, the `range()`\n",
        "function is invaluable. It generates a sequence of numbers. It can take\n",
        "up to three arguments:\n",
        "\n",
        "-   `start`: The starting number (inclusive)\n",
        "-   `stop`: The ending number (exclusive)\n",
        "-   `step`: The difference between each number in the sequence"
      ]
    },
    {
      "cell_type": "code",
      "execution_count": 2,
      "id": "703f4429",
      "metadata": {},
      "outputs": [
        {
          "name": "stdout",
          "output_type": "stream",
          "text": [
            "range(5): [0, 1, 2, 3, 4]\n",
            "range(1, 6): [1, 2, 3, 4, 5]\n",
            "range(0, 10, 2): [0, 2, 4, 6, 8]\n"
          ]
        }
      ],
      "source": [
        "# Visual representation of range\n",
        "print(\"range(5):\", list(range(5)))\n",
        "print(\"range(1, 6):\", list(range(1, 6)))\n",
        "print(\"range(0, 10, 2):\", list(range(0, 10, 2)))"
      ]
    },
    {
      "cell_type": "markdown",
      "id": "749ac4e5-79e0-4670-900f-e80ffed0eb15",
      "metadata": {},
      "source": [
        "We can then use this sequence in a `for` loop to iterate through the\n",
        "numbers."
      ]
    },
    {
      "cell_type": "code",
      "execution_count": 3,
      "id": "631b900e",
      "metadata": {},
      "outputs": [
        {
          "name": "stdout",
          "output_type": "stream",
          "text": [
            "Starting Phase 1\n",
            "Starting Phase 2\n",
            "Starting Phase 3\n",
            "Starting Phase 4\n",
            "Starting Phase 5\n"
          ]
        }
      ],
      "source": [
        "# Simulate 5 trial phases\n",
        "for phase in range(5):  # 0 to 4\n",
        "    print(f\"Starting Phase {phase + 1}\")"
      ]
    },
    {
      "cell_type": "code",
      "execution_count": 4,
      "id": "c1cd1f56",
      "metadata": {},
      "outputs": [
        {
          "name": "stdout",
          "output_type": "stream",
          "text": [
            "Testing dosage: 100mg\n",
            "Testing dosage: 200mg\n",
            "Testing dosage: 300mg\n",
            "Testing dosage: 400mg\n",
            "Testing dosage: 500mg\n"
          ]
        }
      ],
      "source": [
        "# Range with start, stop, and step\n",
        "for dose in range(100, 501, 100):  # 100 to 500 in steps of 100\n",
        "    print(f\"Testing dosage: {dose}mg\")"
      ]
    },
    {
      "cell_type": "markdown",
      "id": "07accae4-bb03-484a-8d46-b0cabecd033e",
      "metadata": {},
      "source": [
        "## Break and Continue Statements\n",
        "\n",
        "-   `break`: Immediately exits the loop\n",
        "-   `continue`: Skips to the next iteration"
      ]
    },
    {
      "cell_type": "code",
      "execution_count": 5,
      "id": "5cbd8e20",
      "metadata": {},
      "outputs": [
        {
          "name": "stdout",
          "output_type": "stream",
          "text": [
            "Treatment efficacy: 65%\n",
            "Treatment efficacy: 85%\n",
            "Found a promising treatment - consider focusing on this one!\n"
          ]
        }
      ],
      "source": [
        "efficacy_scores = [65, 85, 45, 82, 58]\n",
        "for score in efficacy_scores:\n",
        "    if score < 50:  # Skip low efficacy treatments\n",
        "        continue\n",
        "    print(f\"Treatment efficacy: {score}%\")\n",
        "    if score >= 85:  # We found a highly effective treatment!\n",
        "        print(\"Found a promising treatment - consider focusing on this one!\")\n",
        "        break"
      ]
    },
    {
      "cell_type": "markdown",
      "id": "fe84ec3b-10e2-43e4-91b0-9ed901348a97",
      "metadata": {},
      "source": [
        "## Tuple Unpacking\n",
        "\n",
        "Tuple unpacking is a powerful feature that allows you to assign multiple\n",
        "variables in a single statement. It’s often used in `for` loops to\n",
        "access elements from a list or tuple. For example:"
      ]
    },
    {
      "cell_type": "code",
      "execution_count": 6,
      "id": "e51f2ed1",
      "metadata": {},
      "outputs": [
        {
          "name": "stdout",
          "output_type": "stream",
          "text": [
            "Treatment: Standard Drug, Efficacy: 75%\n",
            "Treatment: New Drug A, Efficacy: 85%\n",
            "Treatment: Alternative B, Efficacy: 68%\n",
            "Treatment: New Drug C, Efficacy: 92%\n"
          ]
        }
      ],
      "source": [
        "treatments = [(\"Standard Drug\", 75), (\"New Drug A\", 85), (\"Alternative B\", 68), (\"New Drug C\", 92)]\n",
        "for name, efficacy in treatments:\n",
        "    print(f\"Treatment: {name}, Efficacy: {efficacy}%\")"
      ]
    },
    {
      "cell_type": "markdown",
      "id": "b6392514-54a9-4664-a1e1-8f7e44869b5e",
      "metadata": {},
      "source": [
        "## Exercise 1.1 - Count Adverse Events\n",
        "\n",
        "Track the number of treatments that had too many adverse events (more\n",
        "than 5) with a `for` loop. Add 1 to `high_adverse_count` for each\n",
        "treatment that had more than 5 adverse events."
      ]
    },
    {
      "cell_type": "code",
      "execution_count": 7,
      "id": "ee1d7e53",
      "metadata": {},
      "outputs": [],
      "source": [
        "adverse_events = [3, 7, 2, 6, 8, 1, 4]\n",
        "high_adverse_count = 0\n",
        "\n",
        "# YOUR CODE BELOW\n",
        "for events in adverse_events:\n",
        "    if events > 5:\n",
        "        high_adverse_count += 1\n"
      ]
    },
    {
      "cell_type": "code",
      "execution_count": 8,
      "id": "e62e0c18",
      "metadata": {},
      "outputs": [
        {
          "name": "stdout",
          "output_type": "stream",
          "text": [
            "Success! You've correctly counted the high adverse event treatments.\n"
          ]
        }
      ],
      "source": [
        "# Assertions to verify your solution\n",
        "assert isinstance(high_adverse_count, int), \"high_adverse_count should be an integer\"\n",
        "assert high_adverse_count == 3, \"There should be exactly 3 treatments with high adverse events\"\n",
        "print(\"Success! You've correctly counted the high adverse event treatments.\")"
      ]
    },
    {
      "cell_type": "markdown",
      "id": "575e3772-0ba3-48ef-8586-bf8a3b596b8d",
      "metadata": {},
      "source": [
        "## Exercise 1.2 - Calculate Average Treatment Efficacy\n",
        "\n",
        "Calculate the average efficacy of the treatments using a `for` loop. First,\n",
        "add each rate to the total. Then, calculate the average by dividing the\n",
        "total by the number of treatments."
      ]
    },
    {
      "cell_type": "code",
      "execution_count": 9,
      "id": "bfcf255e",
      "metadata": {},
      "outputs": [],
      "source": [
        "efficacy_rates = [78, 72, 85, 65, 80]\n",
        "average_efficacy = 0\n",
        "total = 0\n",
        "# YOUR CODE BELOW\n",
        "for rate in efficacy_rates:\n",
        "    total += rate\n",
        "average_efficacy = total / len(efficacy_rates)\n"
      ]
    },
    {
      "cell_type": "code",
      "execution_count": 10,
      "id": "e03ea1dc",
      "metadata": {},
      "outputs": [
        {
          "name": "stdout",
          "output_type": "stream",
          "text": [
            "Success! Your average calculation is correct.\n"
          ]
        }
      ],
      "source": [
        "# Assertions to verify your solution\n",
        "assert isinstance(average_efficacy, (int, float)), \"average_efficacy should be a number\"\n",
        "assert average_efficacy == 76, \"average_efficacy should be 76\"\n",
        "print(\"Success! Your average calculation is correct.\")"
      ]
    },
    {
      "cell_type": "markdown",
      "id": "9351bd84-7e37-45e1-82d5-6e289df710e3",
      "metadata": {},
      "source": [
        "> **Tip**\n",
        ">\n",
        "> -   Add each rate to the total\n",
        "> -   Calculate the average by dividing the total by the number of\n",
        ">     treatments\n",
        "> -   Note that `len(efficacy_rates)` gives you the count of\n",
        ">     treatments\n",
        "\n",
        "## Exercise 1.3 - Find Promising Treatments\n",
        "\n",
        "Add all treatments with an efficacy rate of at least 80% to the list\n",
        "`promising_treatments`."
      ]
    },
    {
      "cell_type": "code",
      "execution_count": 12,
      "id": "fb519c5f",
      "metadata": {},
      "outputs": [],
      "source": [
        "treatments = [(\"Standard Drug\", 75), (\"New Drug A\", 85), (\"Alternative B\", 68), (\"New Drug C\", 92)]\n",
        "promising_treatments = []\n",
        "\n",
        "# YOUR CODE BELOW\n",
        "for name, efficacy in treatments:\n",
        "    if efficacy >= 80:\n",
        "        promising_treatments.append(name)\n"
      ]
    },
    {
      "cell_type": "code",
      "execution_count": 13,
      "id": "666c49a8",
      "metadata": {},
      "outputs": [
        {
          "name": "stdout",
          "output_type": "stream",
          "text": [
            "Success! You've correctly identified the promising treatments.\n"
          ]
        }
      ],
      "source": [
        "# Assertions to verify your solution\n",
        "assert len(promising_treatments) == 2, \"Should find exactly 2 promising treatments\"\n",
        "assert all(isinstance(t, str) for t in promising_treatments), \"promising_treatments should contain strings\"\n",
        "assert \"New Drug A\" in promising_treatments, \"New Drug A should be in promising_treatments\"\n",
        "print(\"Success! You've correctly identified the promising treatments.\")"
      ]
    },
    {
      "cell_type": "markdown",
      "id": "bea9456c-4aef-4c74-9985-587e78f8da4b",
      "metadata": {},
      "source": [
        "> **Tip**\n",
        ">\n",
        "> -   Each treatment is represented as a tuple: `(name, efficacy_rate)`\n",
        "> -   You need to check if the efficacy rate (second element) is ≥ 80%\n",
        "> -   If it meets the criteria, add the treatment name (first element)\n",
        ">     to `promising_treatments`\n",
        "> -   You could use tuple unpacking in your loop for cleaner code\n",
        "\n",
        "# Section 2 - While Loops\n",
        "\n",
        "While loops continue executing as long as a condition is true. They’re\n",
        "perfect for situations where we don’t know in advance how many\n",
        "iterations we’ll need, like finding an effective treatment. Think of\n",
        "them as running clinical trials until you either find a breakthrough\n",
        "treatment or run out of research funding."
      ]
    },
    {
      "cell_type": "code",
      "execution_count": 14,
      "id": "c8e55a83",
      "metadata": {},
      "outputs": [
        {
          "name": "stdout",
          "output_type": "stream",
          "text": [
            "Resources remaining: 100\n",
            "Resources remaining: 80\n",
            "Resources remaining: 60\n",
            "Resources remaining: 40\n",
            "Resources remaining: 20\n",
            "Tested 5 treatment variations\n"
          ]
        }
      ],
      "source": [
        "resources = 100  # Starting research resources\n",
        "treatments_tested = 0\n",
        "current_best = 0\n",
        "\n",
        "while resources > 0:\n",
        "    print(f\"Resources remaining: {resources}\")\n",
        "    resources -= 20  # Each trial phase costs 20 units\n",
        "    treatments_tested += 1\n",
        "    \n",
        "print(f\"Tested {treatments_tested} treatment variations\")"
      ]
    },
    {
      "cell_type": "markdown",
      "id": "75672e9f-be75-42a9-968a-0cbd9b17ad91",
      "metadata": {},
      "source": [
        "We can also use them without specific conditions at the beginning:"
      ]
    },
    {
      "cell_type": "code",
      "execution_count": 15,
      "id": "5b3a81d2",
      "metadata": {},
      "outputs": [
        {
          "name": "stdout",
          "output_type": "stream",
          "text": [
            "Trial 0\n",
            "Trial 1\n",
            "Trial 2\n",
            "Trial 3\n",
            "Trial 4\n",
            "Trial 5\n"
          ]
        }
      ],
      "source": [
        "trials = 0\n",
        "while True:\n",
        "    if trials > 5:\n",
        "        break\n",
        "    print(f\"Trial {trials}\")\n",
        "    trials += 1"
      ]
    },
    {
      "cell_type": "markdown",
      "id": "2ddf79b3-e96d-4348-86c9-4b6aff56e15e",
      "metadata": {},
      "source": [
        "> **Note**\n",
        ">\n",
        "> While loops are particularly useful when:\n",
        ">\n",
        "> -   You don’t know how many iterations you’ll need\n",
        "> -   You’re looking for a specific outcome\n",
        "> -   You need to stop based on resource constraints\n",
        "\n",
        "Be careful with while loops! An infinite loop can crash your program:\n",
        "\n",
        "``` python\n",
        "while True:  # Dangerous!\n",
        "    print(\"This will never end\")\n",
        "```\n",
        "\n",
        "> **Warning**\n",
        ">\n",
        "> Always ensure:\n",
        ">\n",
        "> -   The condition will eventually become false\n",
        "> -   Resources or counters are properly updated\n",
        "> -   You have a way to break out if needed\n",
        "\n",
        "## Exercise 2.1 - Breakthrough Treatment\n",
        "\n",
        "Use a `while` loop to find the first treatment with an efficacy score of\n",
        "at least 88. Count the number of trials it takes to find this treatment\n",
        "and store it in the variable `trials`. Save the efficacy score of the\n",
        "breakthrough treatment in the variable `current_efficacy`. Note, that the \n",
        "`efficacy_scores` list is indexed from 0!"
      ]
    },
    {
      "cell_type": "code",
      "execution_count": 24,
      "id": "c826123f",
      "metadata": {},
      "outputs": [
        {
          "name": "stdout",
          "output_type": "stream",
          "text": [
            "Found breakthrough treatment in 4 trials\n"
          ]
        }
      ],
      "source": [
        "efficacy_scores = [72, 68, 78, 88, 71, 65, 59]\n",
        "current_efficacy = 0\n",
        "trials = 0\n",
        "\n",
        "# YOUR CODE BELOW\n",
        "while True:\n",
        "    if trials > len(efficacy_scores):\n",
        "        break\n",
        "    if efficacy_scores[trials] >= 88:\n",
        "        current_efficacy = efficacy_scores[trials]\n",
        "        break\n",
        "    trials += 1\n",
        "    \n",
        "trials += 1\n",
        "print(f\"Found breakthrough treatment in {trials} trials\")"
      ]
    },
    {
      "cell_type": "code",
      "execution_count": 25,
      "id": "1ce15a52",
      "metadata": {},
      "outputs": [
        {
          "name": "stdout",
          "output_type": "stream",
          "text": [
            "Success! You've found the breakthrough treatment efficiently.\n"
          ]
        }
      ],
      "source": [
        "# Assertions to verify your solution\n",
        "assert trials == 4, \"Should take exactly 4 trials to find the breakthrough\"\n",
        "assert current_efficacy == 88, \"Should find efficacy score of 88\"\n",
        "print(\"Success! You've found the breakthrough treatment efficiently.\")"
      ]
    },
    {
      "cell_type": "markdown",
      "id": "18988a2e-68ed-4dbf-a425-5bc3990f155c",
      "metadata": {},
      "source": [
        "## Exercise 2.2 - Resource Management\n",
        "\n",
        "Continue trials until either resources are depleted or a breakthrough\n",
        "(efficacy \\>= 90) is found. Count the number of trials it takes to find\n",
        "this treatment and store it in the variable `trials_conducted`. Save the\n",
        "efficacy score of the breakthrough treatment in the variable\n",
        "`current_best`."
      ]
    },
    {
      "cell_type": "code",
      "execution_count": 28,
      "id": "7cb1dd4d",
      "metadata": {},
      "outputs": [
        {
          "name": "stdout",
          "output_type": "stream",
          "text": [
            "Found breakthrough treatment in 4 trials\n"
          ]
        }
      ],
      "source": [
        "resources = 100\n",
        "cost_per_trial = 25\n",
        "current_best = 0\n",
        "trials_conducted = 0\n",
        "efficacy_scores = [75, 82, 88, 92, 85, 78]  # Simulated trial results\n",
        "\n",
        "# YOUR CODE BELOW\n",
        "while True:\n",
        "    if resources < cost_per_trial:\n",
        "        break\n",
        "    if trials_conducted > len(efficacy_scores):\n",
        "        break\n",
        "    if efficacy_scores[trials_conducted] >= 90:\n",
        "        current_best = efficacy_scores[trials_conducted]\n",
        "        break\n",
        "    trials_conducted += 1\n",
        "    resources -= cost_per_trial\n",
        "    \n",
        "trials_conducted += 1\n",
        "print(f\"Found breakthrough treatment in {trials_conducted} trials\")"
      ]
    },
    {
      "cell_type": "code",
      "execution_count": 29,
      "id": "fb1199c5",
      "metadata": {},
      "outputs": [
        {
          "name": "stdout",
          "output_type": "stream",
          "text": [
            "Success! You've managed resources effectively.\n"
          ]
        }
      ],
      "source": [
        "# Assertions to verify your solution\n",
        "assert trials_conducted == 4, \"Should conduct 4 trials\"\n",
        "assert current_best >= 90, \"Should find a treatment with >= 90 efficacy\"\n",
        "assert resources >= 0, \"Should not exceed resource limit\"\n",
        "print(\"Success! You've managed resources effectively.\")"
      ]
    },
    {
      "cell_type": "markdown",
      "id": "17b7919a-a888-4614-82d7-1a17cc367c54",
      "metadata": {},
      "source": [
        "> **Tip**\n",
        ">\n",
        "> -   Track both resources and efficacy simultaneously\n",
        "> -   Stop if either:\n",
        ">     -   Resources fall below cost_per_trial\n",
        ">     -   A breakthrough treatment (≥ 90% efficacy) is found\n",
        "> -   Remember to deduct costs for each trial\n",
        "\n",
        "\n",
        "# Conclusion\n",
        "\n",
        "Excellent work! You’ve learned about two powerful loop structures in\n",
        "Python through the lens of clinical trials and treatment exploration:\n",
        "\n",
        "-   `for` loops help us:\n",
        "    -   Process data systematically\n",
        "    -   Analyze outcomes efficiently\n",
        "    -   Work with structured data like treatment efficacy rates\n",
        "-   `while` loops are perfect for:\n",
        "    -   Resource-constrained scenarios\n",
        "    -   Finding certain outcomes\n",
        "    -   Situations with unknown iteration counts\n",
        "\n",
        "In the context of clinical trials: - `for` loops are like reviewing a\n",
        "predetermined set of patient data - `while` loops are like continuing\n",
        "research until you either find a successful treatment or exhaust your\n",
        "resources\n",
        "\n",
        "These loop structures are fundamental tools, allowing us to process\n",
        "large datasets and make informed decisions in the context of the\n",
        "explore-exploit trade-off.\n",
        "\n",
        "------------------------------------------------------------------------\n",
        "\n",
        "# Solutions\n",
        "\n",
        "You will likely find solutions to most exercises online. However, we\n",
        "strongly encourage you to work on these exercises independently without\n",
        "searching explicitly for the exact answers to the exercises.\n",
        "Understanding someone else’s solution is very different from developing\n",
        "your own. Use the lecture notes and try to solve the exercises on your\n",
        "own. This approach will significantly enhance your learning and\n",
        "problem-solving skills.\n",
        "\n",
        "Remember, the goal is not just to complete the exercises, but to\n",
        "understand the concepts and improve your programming abilities. If you\n",
        "encounter difficulties, review the lecture materials, experiment with\n",
        "different approaches, and don’t hesitate to ask for clarification during\n",
        "class discussions.\n",
        "\n",
        "Later, you will find the solutions to these exercises online in the\n",
        "associated GitHub repository, but we will also quickly go over them next\n",
        "week. To access the solutions, click on the Github button on the lower\n",
        "right and search for the folder with today’s lecture and tutorial.\n",
        "Alternatively, you can ask ChatGPT or Claude to explain them to you. But\n",
        "please remember, the goal is not just to complete the exercises, but to\n",
        "understand the concepts and improve your programming abilities.\n",
        "\n",
        "*Continue to the next tutorial to tie all previous concepts together in\n",
        "the context of the explore-exploit problem in a casino!*"
      ]
    }
  ],
  "metadata": {
    "kernelspec": {
      "display_name": "Python 3 (ipykernel)",
      "language": "python",
      "name": "python3",
      "path": "/Users/tvlcek/miniconda3/share/jupyter/kernels/python3"
    },
    "language_info": {
      "codemirror_mode": {
        "name": "ipython",
        "version": 3
      },
      "file_extension": ".py",
      "mimetype": "text/x-python",
      "name": "python",
      "nbconvert_exporter": "python",
      "pygments_lexer": "ipython3",
      "version": "3.12.3"
    }
  },
  "nbformat": 4,
  "nbformat_minor": 5
}
