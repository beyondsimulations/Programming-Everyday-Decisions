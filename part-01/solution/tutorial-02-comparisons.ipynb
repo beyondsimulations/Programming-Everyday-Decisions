{
  "cells": [
    {
      "cell_type": "markdown",
      "id": "9187a1d0-b2a0-461c-acaa-fd0ffe908c18",
      "metadata": {},
      "source": [
        "# Tutorial I.II - Comparison Operators\n",
        "\n",
        "Programming: Everyday Decision-Making Algorithms\n",
        "\n",
        "# Introduction\n",
        "\n",
        "You’re teaching a computer to make decisions. Just like we compare\n",
        "things in everyday life (“Is it raining?”, “Do I have enough money?”),\n",
        "computers need ways to compare values and make choices. Let’s look at\n",
        "this in the context of hiring decisions to help us how to make decisions\n",
        "in the context of optimal stopping problems.\n",
        "\n",
        "Imagine you’re helping a company make hiring decisions. You need to look\n",
        "at different candidates and decide if they meet certain requirements. To\n",
        "make these decisions with Python, we need to learn how to make\n",
        "comparisons!\n",
        "\n",
        "# 1 - Basic Comparisons\n",
        "\n",
        "When looking at job candidates, we often ask questions like:\n",
        "\n",
        "-   Does the candidate have enough experience?\n",
        "-   Is their salary request within our budget?\n",
        "-   Did they score well on the test?\n",
        "\n",
        "These questions all require yes/no (`True/False`) answers, which is\n",
        "exactly what comparison operators give us in Python. Each comparison\n",
        "will result in either `True` or `False`.\n",
        "\n",
        "In Python, we use special symbols to make these comparisons:"
      ]
    },
    {
      "cell_type": "code",
      "execution_count": 16,
      "id": "803d5f5d",
      "metadata": {},
      "outputs": [
        {
          "name": "stdout",
          "output_type": "stream",
          "text": [
            "Is this our best candidate so far? True\n",
            "Have we passed our optimal stopping threshold? True\n"
          ]
        }
      ],
      "source": [
        "# Let's look at the current candidate compared to the best we've seen so far\n",
        "current_candidate_score = 85\n",
        "best_score_so_far = 82\n",
        "\n",
        "# Is this the best candidate yet?\n",
        "is_best_so_far = (current_candidate_score > best_score_so_far)\n",
        "print(f\"Is this our best candidate so far? {is_best_so_far}\")\n",
        "\n",
        "# Have we interviewed enough candidates?\n",
        "candidates_seen = 15\n",
        "total_candidates = 30\n",
        "passed_threshold = (candidates_seen >= total_candidates * 0.37)\n",
        "print(f\"Have we passed our optimal stopping threshold? {passed_threshold}\")"
      ]
    },
    {
      "cell_type": "markdown",
      "id": "d58df7b8-63ca-4842-b295-d7171aa3e50a",
      "metadata": {},
      "source": [
        "> **Tip**\n",
        ">\n",
        "> When you make a comparison in Python, the result is always a boolean\n",
        "> value (`True` or `False`). This is why we can store the result in\n",
        "> variables like `is_best_so_far` - these variables will contain either\n",
        "> `True` or `False`.\n",
        "\n",
        "Here are all the comparison operators we can use:\n",
        "\n",
        "| Symbol | Meaning                  | Example                        |\n",
        "|--------|--------------------------|--------------------------------|\n",
        "| `==`   | Equal to                 | `score == 100`                 |\n",
        "| `!=`   | Not equal to             | `degree != \"Computer Science\"` |\n",
        "| `<`    | Less than                | `salary < 80000`               |\n",
        "| `>`    | Greater than             | `experience > 5`               |\n",
        "| `<=`   | Less than or equal to    | `age <= 65`                    |\n",
        "| `>=`   | Greater than or equal to | `test_score >= 80`             |\n",
        "\n",
        "## Exercise 1.1 - Compare Test Scores\n",
        "\n",
        "A candidate scored 95 on their test. The previous highest score was 88.\n",
        "Create a comparison to check if the new score is better and store the\n",
        "result in `compare_scores`."
      ]
    },
    {
      "cell_type": "code",
      "execution_count": 17,
      "id": "4be8bc5b",
      "metadata": {},
      "outputs": [],
      "source": [
        "# Creates the variables\n",
        "new_score = 95\n",
        "previous_best = 88\n",
        "# YOUR CODE BELOW\n",
        "compare_scores = (new_score > previous_best)"
      ]
    },
    {
      "cell_type": "code",
      "execution_count": 18,
      "id": "81666a4e",
      "metadata": {},
      "outputs": [
        {
          "name": "stdout",
          "output_type": "stream",
          "text": [
            "Is new score better? True\n"
          ]
        }
      ],
      "source": [
        "# Test your answer\n",
        "assert compare_scores == True, \"The new score should be greater than the previous best\"\n",
        "print(f\"Is new score better? {compare_scores}\")"
      ]
    },
    {
      "cell_type": "markdown",
      "id": "7fcb5cd5-90c9-4d7f-a37b-8b909b37282b",
      "metadata": {},
      "source": [
        "## Exercise 1.2 - Compare Skills\n",
        "\n",
        "Check if a candidate’s skill matches what we need. Compare if the\n",
        "following two variables are different and store the result in\n",
        "`compare_skills`."
      ]
    },
    {
      "cell_type": "code",
      "execution_count": 19,
      "id": "c7e8f3a4",
      "metadata": {},
      "outputs": [],
      "source": [
        "candidate_skill = \"Finance\"\n",
        "required_skill = \"Python\"\n",
        "# YOUR CODE BELOW\n",
        "compare_skills = (candidate_skill == required_skill)"
      ]
    },
    {
      "cell_type": "code",
      "execution_count": 20,
      "id": "ea3db949",
      "metadata": {},
      "outputs": [
        {
          "name": "stdout",
          "output_type": "stream",
          "text": [
            "Good job! You correctly identified that the skills are different\n"
          ]
        }
      ],
      "source": [
        "# Test your answer\n",
        "assert compare_skills == False, \"The candidate's skill should not match the required skill\"\n",
        "print(\"Good job! You correctly identified that the skills are different\")"
      ]
    },
    {
      "cell_type": "markdown",
      "id": "e9808f57-5354-4049-9eda-3fcfcb40c0c5",
      "metadata": {},
      "source": [
        "## Exercise 1.3 - Compare Candidates\n",
        "\n",
        "In the secretary problem, we need to compare candidates to the best\n",
        "we’ve seen. Check if the current candidate is better than our best so\n",
        "far and store the result in `is_better`."
      ]
    },
    {
      "cell_type": "code",
      "execution_count": 21,
      "id": "bd90933e",
      "metadata": {},
      "outputs": [],
      "source": [
        "current_rating = 92\n",
        "best_so_far = 88\n",
        "# YOUR CODE BELOW\n",
        "is_better = (current_rating > best_so_far)"
      ]
    },
    {
      "cell_type": "code",
      "execution_count": 22,
      "id": "e0f6ab74",
      "metadata": {},
      "outputs": [
        {
          "name": "stdout",
          "output_type": "stream",
          "text": [
            "Good job! You correctly identified that the current candidate is better than the best so far\n"
          ]
        }
      ],
      "source": [
        "# Test your answer\n",
        "assert is_better == True, \"The current candidate should be better than the best so far\"\n",
        "print(\"Good job! You correctly identified that the current candidate is better than the best so far\")"
      ]
    },
    {
      "cell_type": "markdown",
      "id": "1e81fb3e-1576-4fb1-b9c1-dad3deae7474",
      "metadata": {},
      "source": [
        "# 2 - Combining Comparisons with Logical Operators\n",
        "\n",
        "Often, we need to check multiple things at once. For example, a good\n",
        "candidate should:\n",
        "\n",
        "-   Have enough experience\n",
        "-   Be within our budget\n",
        "-   Pass the test\n",
        "\n",
        "Python gives us three ways to combine comparisons:\n",
        "\n",
        "-   `and`: Both conditions must be true\n",
        "-   `or`: At least one condition must be true\n",
        "-   `not`: Makes true become false and false become true\n",
        "\n",
        "Let’s see some examples:"
      ]
    },
    {
      "cell_type": "code",
      "execution_count": 23,
      "id": "23e3e0bd",
      "metadata": {},
      "outputs": [
        {
          "name": "stdout",
          "output_type": "stream",
          "text": [
            "Should we hire this candidate? True\n",
            "Is candidate qualified? True\n"
          ]
        }
      ],
      "source": [
        "# Candidate information\n",
        "experience = 5\n",
        "test_score = 90\n",
        "salary_ask = 75000\n",
        "\n",
        "# Check multiple requirements at once\n",
        "meets_experience = (experience >= 3)\n",
        "good_test_score = (test_score >= 85)\n",
        "affordable = (salary_ask <= 80000)\n",
        "\n",
        "# All requirements must be met (using AND)\n",
        "is_good_candidate = (meets_experience and good_test_score and affordable)\n",
        "print(f\"Should we hire this candidate? {is_good_candidate}\")\n",
        "\n",
        "# Alternative qualifications (using OR)\n",
        "has_degree = True\n",
        "has_certification = False\n",
        "is_qualified = (has_degree or has_certification)\n",
        "print(f\"Is candidate qualified? {is_qualified}\")"
      ]
    },
    {
      "cell_type": "markdown",
      "id": "d40135ab-745b-4a32-a12e-0706734d1568",
      "metadata": {},
      "source": [
        "> **Important**\n",
        ">\n",
        "> Common Mistakes to Avoid:\n",
        ">\n",
        "> 1.  Don’t confuse `=` (assignment) with `==` (comparison)\n",
        "> 2.  Remember that `and` requires ALL conditions to be True\n",
        "> 3.  When combining multiple comparisons, use parentheses to make your\n",
        ">     logic clear Example: `(experience >= 3) and (test_score >= 85)`\n",
        "\n",
        "## Exercise 2.1 - Check Multiple Requirements\n",
        "\n",
        "We have a candidate with:\n",
        "\n",
        "-   4 years of experience\n",
        "-   Test score of 90\n",
        "\n",
        "Check if they meet BOTH requirements:\n",
        "\n",
        "-   More than 3 years experience\n",
        "-   Test score above 85\n",
        "\n",
        "Store the result in `meets_requirements`."
      ]
    },
    {
      "cell_type": "code",
      "execution_count": 24,
      "id": "58999062",
      "metadata": {},
      "outputs": [],
      "source": [
        "years = 4\n",
        "score = 90\n",
        "# YOUR CODE BELOW\n",
        "meets_requirements = (years > 3) and (score > 85)"
      ]
    },
    {
      "cell_type": "code",
      "execution_count": 25,
      "id": "a6e53ae1",
      "metadata": {},
      "outputs": [
        {
          "name": "stdout",
          "output_type": "stream",
          "text": [
            "Good job! You correctly identified that the candidate meets both requirements\n"
          ]
        }
      ],
      "source": [
        "# Test your answer\n",
        "assert meets_requirements == True, \"The candidate should meet both requirements\"\n",
        "print(\"Good job! You correctly identified that the candidate meets both requirements\")"
      ]
    },
    {
      "cell_type": "markdown",
      "id": "93a8c77b-1626-4128-931c-a436ced30e40",
      "metadata": {},
      "source": [
        "## Exercise 2.2 - Alternative Requirements\n",
        "\n",
        "A candidate is acceptable if they EITHER:\n",
        "\n",
        "-   Have a PhD\n",
        "-   OR have a high test score (above 95)\n",
        "\n",
        "Store the result in `is_qualified`"
      ]
    },
    {
      "cell_type": "code",
      "execution_count": 26,
      "id": "b5a06782",
      "metadata": {},
      "outputs": [],
      "source": [
        "has_phd = True\n",
        "test_score = 92\n",
        "# YOUR CODE BELOW\n",
        "is_qualified = (has_phd or test_score > 95)"
      ]
    },
    {
      "cell_type": "code",
      "execution_count": 27,
      "id": "940e7b99",
      "metadata": {},
      "outputs": [
        {
          "name": "stdout",
          "output_type": "stream",
          "text": [
            "Good job! You correctly identified that the candidate is qualified\n"
          ]
        }
      ],
      "source": [
        "# Test your answer\n",
        "assert is_qualified == True, \"The candidate should be qualified\"\n",
        "print(\"Good job! You correctly identified that the candidate is qualified\")"
      ]
    },
    {
      "cell_type": "markdown",
      "id": "4741f506-c42d-40d6-b197-2e76101fd1cc",
      "metadata": {},
      "source": [
        "# 3 - Putting It All Together\n",
        "\n",
        "Let’s look at a real candidate and check all their qualifications:"
      ]
    },
    {
      "cell_type": "code",
      "execution_count": 28,
      "id": "82254997",
      "metadata": {},
      "outputs": [
        {
          "name": "stdout",
          "output_type": "stream",
          "text": [
            "Candidate: Mika\n",
            "Passed observation threshold: True\n",
            "Best candidate so far: True\n",
            "Final decision - Should hire: True\n"
          ]
        }
      ],
      "source": [
        "# Secretary Problem Scenario\n",
        "candidate_name = \"Mika\"\n",
        "candidates_seen = 25\n",
        "total_candidates = 50\n",
        "current_score = 88\n",
        "best_score_so_far = 85\n",
        "\n",
        "# Our decision criteria\n",
        "threshold_ratio = 0.37\n",
        "passed_threshold = (candidates_seen >= total_candidates * threshold_ratio)\n",
        "is_best_so_far = (current_score > best_score_so_far)\n",
        "\n",
        "# Final decision - must pass threshold AND be best so far\n",
        "should_hire = (passed_threshold and is_best_so_far)\n",
        "\n",
        "print(f\"Candidate: {candidate_name}\")\n",
        "print(f\"Passed observation threshold: {passed_threshold}\")\n",
        "print(f\"Best candidate so far: {is_best_so_far}\")\n",
        "print(f\"Final decision - Should hire: {should_hire}\")"
      ]
    },
    {
      "cell_type": "markdown",
      "id": "de3238f8-3489-4c21-a93a-7e113fcadaf9",
      "metadata": {},
      "source": [
        "## Exercise 3.1 - Make a Hiring Decision\n",
        "\n",
        "Look at the following candidate’s information and decide if we should\n",
        "hire them:\n",
        "\n",
        "Requirements:\n",
        "\n",
        "-   At least 5 years experience\n",
        "-   Test score above 85\n",
        "-   Salary request at most 90000\n",
        "-   Must have a degree\n",
        "\n",
        "Create a single boolean expression that checks ALL requirements and\n",
        "store the result in `final_decision`."
      ]
    },
    {
      "cell_type": "code",
      "execution_count": 29,
      "id": "1c41db31",
      "metadata": {},
      "outputs": [],
      "source": [
        "# Candidate information\n",
        "candidate_experience = 7\n",
        "candidate_score = 89\n",
        "candidate_salary = 92000\n",
        "candidate_has_degree = True\n",
        "# YOUR CODE BELOW\n",
        "final_decision = (candidate_experience >= 5) and (candidate_score > 85) and (candidate_salary <= 90000) and (candidate_has_degree)"
      ]
    },
    {
      "cell_type": "code",
      "execution_count": 30,
      "id": "9c78673c",
      "metadata": {},
      "outputs": [
        {
          "name": "stdout",
          "output_type": "stream",
          "text": [
            "Good job! You correctly identified that the candidate does not meet all requirements as his salary expectation is too high.\n"
          ]
        }
      ],
      "source": [
        "# Test your answer\n",
        "assert final_decision == False, \"The candidate should not meet all requirements\"\n",
        "print(\"Good job! You correctly identified that the candidate does not meet all requirements as his salary expectation is too high.\")"
      ]
    },
    {
      "cell_type": "markdown",
      "id": "5a85a997-ccaf-42a7-b4ec-797367d3c24f",
      "metadata": {},
      "source": [
        "## Exercise 2.3 - Optimal Stopping Decision\n",
        "\n",
        "We have:\n",
        "\n",
        "-   Seen 18 out of 40 candidates\n",
        "-   Current candidate score: 90\n",
        "-   Best score so far: 85\n",
        "\n",
        "Check if we should hire this candidate (we should hire if we’ve seen at\n",
        "least 37% of candidates AND this candidate is better than the best so\n",
        "far).\n",
        "\n",
        "Store the result in `make_offer`."
      ]
    },
    {
      "cell_type": "code",
      "execution_count": 31,
      "id": "906c29cf",
      "metadata": {},
      "outputs": [],
      "source": [
        "# Candidate information\n",
        "candidates_seen = 18\n",
        "total_candidates = 40\n",
        "current_score = 90\n",
        "best_score_so_far = 85\n",
        "# YOUR CODE BELOW\n",
        "make_offer = (candidates_seen >= total_candidates * threshold_ratio) and (current_score > best_score_so_far)"
      ]
    },
    {
      "cell_type": "code",
      "execution_count": 32,
      "id": "e6e1327c",
      "metadata": {},
      "outputs": [
        {
          "name": "stdout",
          "output_type": "stream",
          "text": [
            "Good job! You correctly identified that we should hire this candidate\n"
          ]
        }
      ],
      "source": [
        "# Test your answer\n",
        "assert make_offer == True, \"We should hire this candidate\"\n",
        "print(\"Good job! You correctly identified that we should hire this candidate\")"
      ]
    },
    {
      "cell_type": "markdown",
      "id": "aa1b51a9-aa71-4a40-afff-9ed153af4716",
      "metadata": {},
      "source": [
        "# Conclusion\n",
        "\n",
        "Great job! You now know how to:\n",
        "\n",
        "-   Compare values using Python’s comparison operators\n",
        "-   Combine comparisons using logical operators\n",
        "-   Make decisions based on multiple criteria\n",
        "\n",
        "These skills are useful not just for hiring decisions, but for any\n",
        "situation where you need to make choices based on multiple conditions,\n",
        "especially in the context of optimal stopping problems!\n",
        "\n",
        "------------------------------------------------------------------------\n",
        "\n",
        "# Solutions\n",
        "\n",
        "You will likely find solutions to most exercises online. However, we\n",
        "strongly encourage you to work on these exercises independently without\n",
        "searching explicitly for the exact answers to the exercises.\n",
        "Understanding someone else’s solution is very different from developing\n",
        "your own. Use the lecture notes and try to solve the exercises on your\n",
        "own. This approach will significantly enhance your learning and\n",
        "problem-solving skills.\n",
        "\n",
        "Remember, the goal is not just to complete the exercises, but to\n",
        "understand the concepts and improve your programming abilities. If you\n",
        "encounter difficulties, review the lecture materials, experiment with\n",
        "different approaches, and don’t hesitate to ask for clarification during\n",
        "class discussions.\n",
        "\n",
        "Later, you will find the solutions to these exercises online in the\n",
        "associated GitHub repository, but we will also quickly go over them next\n",
        "week. To access the solutions, click on the Github button on the lower\n",
        "right and search for the folder with today’s lecture and tutorial.\n",
        "Alternatively, you can ask ChatGPT or Claude to explain them to you. But\n",
        "please remember, the goal is not just to complete the exercises, but to\n",
        "understand the concepts and improve your programming abilities.\n",
        "\n",
        "*Continue to the next tutorial to learn how to apply these skills to the\n",
        "optimal stopping problem!*"
      ]
    }
  ],
  "metadata": {
    "kernelspec": {
      "display_name": "Python 3 (ipykernel)",
      "language": "python",
      "name": "python3",
      "path": "/Users/tvlcek/miniconda3/share/jupyter/kernels/python3"
    },
    "language_info": {
      "codemirror_mode": {
        "name": "ipython",
        "version": 3
      },
      "file_extension": ".py",
      "mimetype": "text/x-python",
      "name": "python",
      "nbconvert_exporter": "python",
      "pygments_lexer": "ipython3",
      "version": "3.12.3"
    }
  },
  "nbformat": 4,
  "nbformat_minor": 5
}
