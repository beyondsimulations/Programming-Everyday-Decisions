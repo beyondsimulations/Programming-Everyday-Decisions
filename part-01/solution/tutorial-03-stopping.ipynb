{
  "cells": [
    {
      "cell_type": "markdown",
      "id": "14c3f980-c025-4f1e-a594-7c2fbc7f3dc3",
      "metadata": {},
      "source": [
        "# Tutorial I.III - Making Decisions\n",
        "\n",
        "Programming: Everyday Decision-Making Algorithms\n",
        "\n",
        "# Introduction\n",
        "\n",
        "Imagine you’re searching for a new apartment. You view a flat - should\n",
        "you take it or keep looking for something better? This is another\n",
        "classic optimal stopping problem! Just like in dating or hiring, you\n",
        "need to decide when to stop searching.\n",
        "\n",
        "In this tutorial, we’ll learn how computers make decisions using `if`\n",
        "and `else` statements. These are like the “if this, then that” decisions\n",
        "we make every day!\n",
        "\n",
        "# 1 - Understanding If Statements\n",
        "\n",
        "An `if` statement is like asking a yes/no question and doing something\n",
        "based on the answer. For example:"
      ]
    },
    {
      "cell_type": "code",
      "execution_count": 14,
      "id": "d30a0695",
      "metadata": {},
      "outputs": [
        {
          "name": "stdout",
          "output_type": "stream",
          "text": [
            "This is a good apartment!\n"
          ]
        }
      ],
      "source": [
        "flat_rating = 8  # Rate the flat from 0-10\n",
        "\n",
        "if flat_rating >= 7:\n",
        "    print(\"This is a good apartment!\")"
      ]
    },
    {
      "cell_type": "markdown",
      "id": "ed6e2ffb-f235-4ce2-8d5e-3f24a7d6d836",
      "metadata": {},
      "source": [
        "The structure is:\n",
        "\n",
        "1.  The word `if`\n",
        "2.  A condition that’s either True or False\n",
        "3.  A colon `:`\n",
        "4.  **Indented** code that runs if the condition is True\n",
        "\n",
        "> **Tip**\n",
        ">\n",
        "> Think of `if` statements like everyday decisions:\n",
        ">\n",
        "> -   IF it’s within budget, view it\n",
        "> -   IF the flat is good, apply for it\n",
        "> -   IF it has enough rooms, add it to the shortlist\n",
        ">\n",
        "> Computer `if` statements work exactly the same way! They check a\n",
        "> condition and then do something based on that check.\n",
        "\n",
        "> **Important**\n",
        ">\n",
        "> Common Mistakes with If Statements:\n",
        ">\n",
        "> 1.  Forgetting the colon `:` after the condition\n",
        "> 2.  **Incorrect indentation** of the code block\n",
        "> 3.  Using `=` (assignment) instead of `==` (comparison)\n",
        "> 4.  Forgetting that the condition must result in `True` or `False`\n",
        "\n",
        "## Exercise 1.1 - Your First Decision\n",
        "\n",
        "Create an `if` statement that prints “Perfect flat!” if the\n",
        "`flat_rating` is 10."
      ]
    },
    {
      "cell_type": "code",
      "execution_count": 15,
      "id": "4de6f336",
      "metadata": {},
      "outputs": [
        {
          "name": "stdout",
          "output_type": "stream",
          "text": [
            "Perfect flat!\n"
          ]
        }
      ],
      "source": [
        "flat_rating = 10\n",
        "# YOUR CODE BELOW\n",
        "if flat_rating == 10:\n",
        "    print(\"Perfect flat!\")\n",
        "# Test your answer yourself - the cell should print \"Perfect flat!\" if executed correctly"
      ]
    },
    {
      "cell_type": "markdown",
      "id": "06abf6ff-79c8-4f2f-8d76-b8d01cc471ea",
      "metadata": {},
      "source": [
        "# 2 - Adding Else Statements\n",
        "\n",
        "But what if we want to do something different when the condition is\n",
        "False? That’s where `else` comes in:"
      ]
    },
    {
      "cell_type": "code",
      "execution_count": 16,
      "id": "076a1571",
      "metadata": {},
      "outputs": [
        {
          "name": "stdout",
          "output_type": "stream",
          "text": [
            "Keep searching!\n"
          ]
        }
      ],
      "source": [
        "flat_rating = 4  # Not a great flat!\n",
        "\n",
        "if flat_rating >= 7:\n",
        "    print(\"Apply for this flat!\")\n",
        "else:\n",
        "    print(\"Keep searching!\")"
      ]
    },
    {
      "cell_type": "markdown",
      "id": "72635b6d-5029-4d43-8c27-6bc97bd2483b",
      "metadata": {},
      "source": [
        "The structure is:\n",
        "\n",
        "1.  An `if` statement with its condition\n",
        "2.  Code to run if True\n",
        "3.  The word `else` and a colon `:`\n",
        "4.  Indented code to run if False\n",
        "\n",
        "> **Tip**\n",
        ">\n",
        "> Think of `if-else` like complete either/or decisions:\n",
        ">\n",
        "> -   IF it’s within budget, schedule viewing, ELSE skip it\n",
        "> -   IF the location is good, consider it, ELSE keep searching\n",
        "> -   IF all criteria are met, apply now, ELSE continue looking\n",
        ">\n",
        "> The `else` statement is our backup plan!\n",
        "\n",
        "## Exercise 2.1 - Complete Decision\n",
        "\n",
        "Write an if-else statement that sets `decision` to “Apply now” if\n",
        "`flat_rating` is at least 7, and “Keep searching” otherwise."
      ]
    },
    {
      "cell_type": "code",
      "execution_count": 17,
      "id": "8da606e1",
      "metadata": {},
      "outputs": [],
      "source": [
        "flat_rating = 6\n",
        "decision = \"\"\n",
        "# YOUR CODE BELOW\n",
        "if flat_rating >= 7:\n",
        "    decision = \"Apply now\"\n",
        "else:\n",
        "    decision = \"Keep searching\"\n"
      ]
    },
    {
      "cell_type": "code",
      "execution_count": 18,
      "id": "b415ad34",
      "metadata": {},
      "outputs": [
        {
          "name": "stdout",
          "output_type": "stream",
          "text": [
            "Decision: Keep searching as the flat rating is 6\n"
          ]
        }
      ],
      "source": [
        "# Test your answer\n",
        "assert decision == \"Keep searching\", \"The decision should be 'Keep searching' as the flat rating is less than 7\"\n",
        "print(f\"Decision: {decision} as the flat rating is {flat_rating}\")"
      ]
    },
    {
      "cell_type": "markdown",
      "id": "277d1e84-6c53-4e7a-8610-21faf732a3e3",
      "metadata": {},
      "source": [
        "> **Tip**\n",
        ">\n",
        "> Writing Better If-Else Statements:\n",
        ">\n",
        "> 1.  Keep your conditions simple and readable\n",
        "> 2.  Use meaningful variable names\n",
        "> 3.  Consider what should happen in both cases\n",
        "> 4.  Test both paths to make sure they work\n",
        "\n",
        "# 3 - Adding Elif (Else If)\n",
        "\n",
        "Sometimes we need more than two options. That’s where `elif` comes in:"
      ]
    },
    {
      "cell_type": "code",
      "execution_count": 19,
      "id": "1bcb30c0",
      "metadata": {},
      "outputs": [
        {
          "name": "stdout",
          "output_type": "stream",
          "text": [
            "Good flat - consider applying\n"
          ]
        }
      ],
      "source": [
        "flat_rating = 8\n",
        "\n",
        "if flat_rating >= 9:\n",
        "    print(\"Amazing flat - apply immediately!\")\n",
        "elif flat_rating >= 7:\n",
        "    print(\"Good flat - consider applying\")\n",
        "elif flat_rating >= 5:\n",
        "    print(\"Mediocre flat - keep it as backup\")\n",
        "else:\n",
        "    print(\"Poor flat - definitely keep looking\")"
      ]
    },
    {
      "cell_type": "markdown",
      "id": "405f11c6-e268-4808-a77e-92b5878d9df4",
      "metadata": {},
      "source": [
        "The structure adds:\n",
        "\n",
        "-   Multiple `elif` conditions between `if` and `else`\n",
        "-   Each condition is checked in order\n",
        "-   The first True condition runs its code\n",
        "\n",
        "> **Tip**\n",
        ">\n",
        "> Think of `elif` like multiple-choice decisions:\n",
        ">\n",
        "> -   IF it’s perfect → apply immediately\n",
        "> -   ELIF it’s good → schedule second viewing\n",
        "> -   ELIF it’s okay → keep as backup\n",
        "> -   ELSE → continue searching\n",
        ">\n",
        "> It’s like a flowchart where only one path can be taken!\n",
        "\n",
        "> **Warning**\n",
        ">\n",
        "> Important Elif Rules:\n",
        ">\n",
        "> 1.  Order matters! Put more specific conditions first\n",
        "> 2.  Only one block will execute\n",
        "> 3.  `elif` must come after `if` and before `else`\n",
        "> 4.  You can have as many `elif` blocks as you need\n",
        "\n",
        "## Exercise 3.1 - Apartment Categories\n",
        "\n",
        "Create a variable `flat_category` that is:\n",
        "\n",
        "-   “Luxury” if rating is 9 or 10\n",
        "-   “Premium” if rating is 7 or 8\n",
        "-   “Standard” if rating is 5 or 6\n",
        "-   “Basic” for anything lower"
      ]
    },
    {
      "cell_type": "code",
      "execution_count": 20,
      "id": "35888790",
      "metadata": {},
      "outputs": [],
      "source": [
        "flat_rating = 8\n",
        "flat_category = \"\"\n",
        "# YOUR CODE BELOW\n",
        "if flat_rating >= 9:\n",
        "    flat_category = \"Luxury\"\n",
        "elif flat_rating >= 7:\n",
        "    flat_category = \"Premium\"\n",
        "elif flat_rating >= 5:\n",
        "    flat_category = \"Standard\"\n",
        "else:\n",
        "    flat_category = \"Basic\""
      ]
    },
    {
      "cell_type": "code",
      "execution_count": 21,
      "id": "5b4e4c19",
      "metadata": {},
      "outputs": [
        {
          "name": "stdout",
          "output_type": "stream",
          "text": [
            "Flat Category: Premium as the flat rating is 8\n"
          ]
        }
      ],
      "source": [
        "# Test your answer\n",
        "assert flat_category == \"Premium\", \"The flat category should be 'Premium' as the flat rating is 8\"\n",
        "print(f\"Flat Category: {flat_category} as the flat rating is {flat_rating}\")"
      ]
    },
    {
      "cell_type": "markdown",
      "id": "23492cf3-5954-47ea-9610-a3766f8b8581",
      "metadata": {},
      "source": [
        "# 4 - Complex Decisions\n",
        "\n",
        "In real life, we often need to check multiple conditions at once. We can\n",
        "combine conditions using `and` and `or`:"
      ]
    },
    {
      "cell_type": "code",
      "execution_count": 22,
      "id": "fa59ae01",
      "metadata": {},
      "outputs": [
        {
          "name": "stdout",
          "output_type": "stream",
          "text": [
            "Take this flat - it's good enough and we still have time!\n"
          ]
        }
      ],
      "source": [
        "flat_rating = 8\n",
        "weeks_searching = 3\n",
        "max_search_time = 4\n",
        "\n",
        "if (flat_rating >= 7) and (weeks_searching < max_search_time):\n",
        "    print(\"Take this flat - it's good enough and we still have time!\")\n",
        "elif (flat_rating >= 9) or (weeks_searching >= max_search_time):\n",
        "    print(\"Take this flat - either it's perfect or we're out of time!\")\n",
        "else:\n",
        "    print(\"Keep looking!\")"
      ]
    },
    {
      "cell_type": "markdown",
      "id": "535dee90-2e2b-41d3-9fed-3977412ffae7",
      "metadata": {},
      "source": [
        "> **Tip**\n",
        ">\n",
        "> Tips for Complex Conditions:\n",
        ">\n",
        "> -   Use parentheses to make your logic clear\n",
        "> -   Break very complex conditions into smaller parts\n",
        "> -   Test edge cases to make sure your logic works\n",
        "\n",
        "## Exercise 4.1 - Real World Flat Hunting\n",
        "\n",
        "Create a variable `should_apply` that is True if:\n",
        "\n",
        "-   The flat rating is at least 8, OR\n",
        "-   The flat rating is at least 6 AND we’ve been searching for 3 weeks\n",
        "    or more"
      ]
    },
    {
      "cell_type": "code",
      "execution_count": 23,
      "id": "7bf0ec7b",
      "metadata": {},
      "outputs": [],
      "source": [
        "flat_rating = 6\n",
        "weeks_searching = 4\n",
        "should_apply = False\n",
        "# YOUR CODE BELOW\n",
        "if (flat_rating >= 8) or (flat_rating >= 6 and weeks_searching >= 3):\n",
        "    should_apply = True\n"
      ]
    },
    {
      "cell_type": "code",
      "execution_count": 24,
      "id": "33dd8178",
      "metadata": {},
      "outputs": [
        {
          "name": "stdout",
          "output_type": "stream",
          "text": [
            "Should we apply? True as the flat rating is 6 and we've been searching for 4 weeks\n"
          ]
        }
      ],
      "source": [
        "# Test your answer\n",
        "assert should_apply == True, \"The flat rating is 6 and we've been searching for 4 weeks, so we should apply\"\n",
        "print(f\"Should we apply? {should_apply} as the flat rating is {flat_rating} and we've been searching for {weeks_searching} weeks\")"
      ]
    },
    {
      "cell_type": "markdown",
      "id": "c494a02f-a34c-4c9f-b0d0-ddb9685579d3",
      "metadata": {},
      "source": [
        "# 5 - The 37% Rule with Decisions\n",
        "\n",
        "Remember the optimal stopping rule? Let’s apply it to apartment hunting:"
      ]
    },
    {
      "cell_type": "code",
      "execution_count": 25,
      "id": "faabda7c",
      "metadata": {},
      "outputs": [
        {
          "name": "stdout",
          "output_type": "stream",
          "text": [
            "Apply for this flat!\n"
          ]
        }
      ],
      "source": [
        "flats_seen = 6\n",
        "total_viewings = 15\n",
        "current_rating = 8\n",
        "best_rating_so_far = 7\n",
        "\n",
        "# Calculate if we've passed 37% of viewings\n",
        "threshold_passed = flats_seen >= (total_viewings * 0.37)\n",
        "\n",
        "if not threshold_passed:\n",
        "    print(\"Keep looking - still in observation phase\")\n",
        "elif current_rating > best_rating_so_far:\n",
        "    print(\"Apply for this flat!\")\n",
        "else:\n",
        "    print(\"Keep looking - waiting for better than our best\")"
      ]
    },
    {
      "cell_type": "markdown",
      "id": "4625ff44-bb3e-43f3-8072-d17dcf0c055a",
      "metadata": {},
      "source": [
        "## Exercise 5.1 - Implement the Rule\n",
        "\n",
        "Adjust the code below to change the variable `make_application` to True\n",
        "if:\n",
        "\n",
        "-   We’ve seen at least 37% of available flats (use 15 total flats), AND\n",
        "-   The current flat is better than the best we’ve seen so far"
      ]
    },
    {
      "cell_type": "code",
      "execution_count": 26,
      "id": "eaa74f09",
      "metadata": {},
      "outputs": [],
      "source": [
        "flats_seen = 6  # We've seen 6 flats\n",
        "total_viewings = 15  # We plan to view 15 flats in total\n",
        "current_rating = 9\n",
        "best_rating_so_far = 8\n",
        "make_application = False\n",
        "# YOUR CODE BELOW\n",
        "if (flats_seen >= (total_viewings * 0.37)) and (current_rating > best_rating_so_far):\n",
        "    make_application = True\n"
      ]
    },
    {
      "cell_type": "code",
      "execution_count": 27,
      "id": "9ded0566",
      "metadata": {},
      "outputs": [
        {
          "name": "stdout",
          "output_type": "stream",
          "text": [
            "Should we apply for this flat? True\n"
          ]
        }
      ],
      "source": [
        "# Test your answer\n",
        "assert make_application == True, \"The flat rating is 9 and we've been searching for 4 weeks, so we should apply\"\n",
        "print(f\"Should we apply for this flat? {make_application}\")"
      ]
    },
    {
      "cell_type": "markdown",
      "id": "7dae5a62-3b6e-4afd-bd9f-554a10d5ba2a",
      "metadata": {},
      "source": [
        "# Conclusion\n",
        "\n",
        "Great work! You’ve learned how to make decisions in Python using:\n",
        "\n",
        "-   Simple if statements\n",
        "-   if-else statements\n",
        "-   elif for multiple conditions\n",
        "-   Complex decisions with and/or\n",
        "-   Applying these to real-world stopping problems\n",
        "\n",
        "Remember, just like in apartment hunting, these tools help us make\n",
        "better decisions in any situation where we need to decide whether to\n",
        "take what we have or keep looking for something better!\n",
        "\n",
        "------------------------------------------------------------------------\n",
        "\n",
        "# Solutions\n",
        "\n",
        "You will likely find solutions to most exercises online. However, we\n",
        "strongly encourage you to work on these exercises independently without\n",
        "searching explicitly for the exact answers to the exercises.\n",
        "Understanding someone else’s solution is very different from developing\n",
        "your own. Use the lecture notes and try to solve the exercises on your\n",
        "own. This approach will significantly enhance your learning and\n",
        "problem-solving skills.\n",
        "\n",
        "Remember, the goal is not just to complete the exercises, but to\n",
        "understand the concepts and improve your programming abilities. If you\n",
        "encounter difficulties, review the lecture materials, experiment with\n",
        "different approaches, and don’t hesitate to ask for clarification during\n",
        "class discussions.\n",
        "\n",
        "Later, you will find the solutions to these exercises online in the\n",
        "associated GitHub repository, but we will also quickly go over them next\n",
        "week. To access the solutions, click on the Github button on the lower\n",
        "right and search for the folder with today’s lecture and tutorial.\n",
        "Alternatively, you can ask ChatGPT or Claude to explain them to you. But\n",
        "please remember, the goal is not just to complete the exercises, but to\n",
        "understand the concepts and improve your programming abilities.\n",
        "\n",
        "*That’s it for part I! Next week, we’ll apply these skills exploration\n",
        "and exploitation!*"
      ]
    }
  ],
  "metadata": {
    "kernelspec": {
      "display_name": "Python 3 (ipykernel)",
      "language": "python",
      "name": "python3",
      "path": "/Users/tvlcek/miniconda3/share/jupyter/kernels/python3"
    },
    "language_info": {
      "codemirror_mode": {
        "name": "ipython",
        "version": 3
      },
      "file_extension": ".py",
      "mimetype": "text/x-python",
      "name": "python",
      "nbconvert_exporter": "python",
      "pygments_lexer": "ipython3",
      "version": "3.12.3"
    }
  },
  "nbformat": 4,
  "nbformat_minor": 5
}
