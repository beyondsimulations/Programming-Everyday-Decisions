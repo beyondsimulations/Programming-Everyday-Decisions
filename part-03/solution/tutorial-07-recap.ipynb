{
  "cells": [
    {
      "cell_type": "markdown",
      "id": "1859d9f5-bee0-4348-b60b-7f823a24f5ec",
      "metadata": {},
      "source": [
        "# Tutorial III.I - Caching and Recap\n",
        "\n",
        "Programming: Everyday Decision-Making Algorithms\n",
        "\n",
        "# Introduction\n",
        "\n",
        "Throughout our previous tutorials, we’ve explored fundamental\n",
        "programming concepts through the lens of everyday decision-making. Now,\n",
        "let’s connect these concepts to another important algorithmic idea:\n",
        "caching.\n",
        "\n",
        "The concepts we’ve learned map directly to caching principles:\n",
        "\n",
        "-   **Variables** → Like cache entries (storing specific pieces of\n",
        "    information)\n",
        "-   **Comparisons** → Like cache eviction policies (what we keep/remove)\n",
        "-   **Lists** → Like cache storage (what we remember)\n",
        "-   **Loops** → Like cache maintenance (how we update our knowledge)\n",
        "\n",
        "> **What is Caching?**\n",
        ">\n",
        "> Remember today’s lecture. Think of caching for example like your\n",
        "> brain’s short-term memory. When you frequently need certain\n",
        "> information (like your friend’s phone number), you keep it readily\n",
        "> available instead of looking it up each time.\n",
        "\n",
        "# Section 1 - Variables and Datatypes\n",
        "\n",
        "Just as a cache stores different types of data, Python variables can\n",
        "hold various datatypes. Let’s explore this through a simple caching\n",
        "system for a coffee shop."
      ]
    },
    {
      "cell_type": "code",
      "execution_count": 1,
      "id": "b096e845",
      "metadata": {},
      "outputs": [],
      "source": [
        "# Basic cache for coffee orders\n",
        "last_order = \"Latte\" # String cache\n",
        "drink_temperature = 75.5 # Float cache\n",
        "is_favorite = True # Boolean cache\n",
        "num_orders = 3 # Integer cache"
      ]
    },
    {
      "cell_type": "markdown",
      "id": "81925e80-5ed7-455e-943d-7924a863bef7",
      "metadata": {},
      "source": [
        "> **Cache Types in Real Life**\n",
        ">\n",
        "> -   **Strings**: Names, orders, preferences\n",
        "> -   **Floats**: Prices, ratings, temperatures\n",
        "> -   **Booleans**: Membership status, availability\n",
        "> -   **Integers**: Visit counts, inventory levels\n",
        "\n",
        "## Exercise 1.1: Create a simple cache system for your favorite restaurant orders\n",
        "\n",
        "1.  Create a variable `last_meal` for the last meal you ordered (as a\n",
        "    string)\n",
        "2.  Store its price in a variable `price` (as a float)\n",
        "3.  Whether you would order it again in a variable `would_order_again`\n",
        "    (as a boolean)\n",
        "4.  How many times you’ve ordered it in a variable `num_orders` (as an\n",
        "    integer)"
      ]
    },
    {
      "cell_type": "code",
      "execution_count": 1,
      "id": "4dd89014",
      "metadata": {},
      "outputs": [],
      "source": [
        "# YOUR CODE BELOW\n",
        "last_meal = \"Pizza\"\n",
        "price = 10.99\n",
        "would_order_again = True\n",
        "num_orders = 2\n"
      ]
    },
    {
      "cell_type": "code",
      "execution_count": 9,
      "id": "8e22c737",
      "metadata": {},
      "outputs": [
        {
          "name": "stdout",
          "output_type": "stream",
          "text": [
            "Last meal: Pizza, price: 10.99, would order again: True, number of orders: 2\n"
          ]
        }
      ],
      "source": [
        "# Assertions to verify your solution\n",
        "assert isinstance(last_meal, str), \"last_meal should be a string\"\n",
        "assert isinstance(price, float), \"price should be a float\"\n",
        "assert isinstance(would_order_again, bool), \"would_order_again should be a boolean\"\n",
        "assert isinstance(num_orders, int), \"num_orders should be an integer\"\n",
        "print(f\"Last meal: {last_meal}, price: {price}, would order again: {would_order_again}, number of orders: {num_orders}\")"
      ]
    },
    {
      "cell_type": "markdown",
      "id": "842fe005-649e-4bf2-b27c-024a3caae35a",
      "metadata": {},
      "source": [
        "# Section 2 - Comparisons\n",
        "\n",
        "Cache systems need to make decisions about what data to keep or remove.\n",
        "This is similar to how we use comparisons in Python. For example, the\n",
        "following code just checks a simple cache eviction policy based on the\n",
        "access count and when an item was last accessed."
      ]
    },
    {
      "cell_type": "code",
      "execution_count": 3,
      "id": "c07c29ea",
      "metadata": {},
      "outputs": [
        {
          "name": "stdout",
          "output_type": "stream",
          "text": [
            "Based on 15 accesses and the last access 25 minutes ago, should we evict? True\n"
          ]
        }
      ],
      "source": [
        "# Simple cache eviction policy\n",
        "access_count = 15\n",
        "last_accessed_minutes = 25\n",
        "\n",
        "evict = False\n",
        "if access_count > 10 and last_accessed_minutes < 30:\n",
        "    evict = True\n",
        "\n",
        "print(f\"Based on {access_count} accesses and the last access {last_accessed_minutes} minutes ago, should we evict? {evict}\")"
      ]
    },
    {
      "cell_type": "markdown",
      "id": "931f1f6d-9a59-43cb-af5a-fe7f7a6a6bb8",
      "metadata": {},
      "source": [
        "> **Cache Eviction**\n",
        ">\n",
        "> Just like deciding what to remove from your phone when storage is\n",
        "> full, cache eviction policies help determine what data to keep or\n",
        "> remove based on usage patterns.\n",
        "\n",
        "## Exercise 2.1: Create a decision system for your favorite song\n",
        "\n",
        "1.  Write a small decision system for your **cached favorite song**\n",
        "    `favorite_song`\n",
        "2.  Use at least **two conditions** based on the song’s play count and\n",
        "    last played time (`play_count` and `last_played_minutes_ago`)\n",
        "3.  You can set the parameters for the conditions yourself\n",
        "4.  Save the result of the decision in a variable `should_evict`\n",
        "5.  Print the result of whether we should evict the song or not"
      ]
    },
    {
      "cell_type": "code",
      "execution_count": 4,
      "id": "b1ca44cc",
      "metadata": {},
      "outputs": [],
      "source": [
        "# YOUR CODE BELOW\n",
        "favorite_song = \"The Emptiness Machine\"\n",
        "play_count = 10\n",
        "last_played_minutes_ago = 15\n",
        "should_evict = False"
      ]
    },
    {
      "cell_type": "code",
      "execution_count": 6,
      "id": "fac4e98d",
      "metadata": {},
      "outputs": [],
      "source": [
        "# Assertions to verify your solution\n",
        "assert isinstance(favorite_song, str), \"favorite_song should be a string\"\n",
        "assert isinstance(play_count, int), \"play_count should be an integer\"\n",
        "assert isinstance(last_played_minutes_ago, int), \"last_played_minutes_ago should be an integer\"\n",
        "assert isinstance(should_evict, bool), \"should_evict should be a boolean\""
      ]
    },
    {
      "cell_type": "markdown",
      "id": "5fdbc1da-8c81-444c-a6a5-a9e34120ef0a",
      "metadata": {},
      "source": [
        "# Section 3 - Lists and Tuples\n",
        "\n",
        "Lists work like a cache’s storage system, holding multiple items that we\n",
        "might need later. Tuples are similar, but they are immutable. This means\n",
        "that once a tuple is created, its contents cannot be changed.\n",
        "\n",
        "> **Think about the following code yourself!**\n",
        ">\n",
        "> Before running the code below, try to predict:\n",
        ">\n",
        "> 1.  What will be in the cache after adding “Carnival of Rust”?\n",
        "> 2.  Which song will be removed?"
      ]
    },
    {
      "cell_type": "code",
      "execution_count": 7,
      "id": "8ddfc625",
      "metadata": {},
      "outputs": [
        {
          "name": "stdout",
          "output_type": "stream",
          "text": [
            "Removed 'Rain of Fire' from cache\n",
            "Added 'Carnival of Rust' to cache\n",
            "Current cache: ['Carnival of Rust', 'Lithonia', 'Leon', 'WHEN THE MUSIC STOPS', 'Chop Suey']"
          ]
        }
      ],
      "source": [
        "# Recently played songs cache\n",
        "recent_songs = [\"Lithonia\", \"Leon\", \"WHEN THE MUSIC STOPS\", \"Chop Suey\", \"Rain of Fire\"]\n",
        "max_cache_size = 5\n",
        "new_song = \"Carnival of Rust\"\n",
        "\n",
        "# Cache maintenance\n",
        "if len(recent_songs) >= max_cache_size:\n",
        "    poped_song = recent_songs.pop() # Remove oldest song\n",
        "    print(f\"Removed '{poped_song}' from cache\")\n",
        "\n",
        "if len(recent_songs) < max_cache_size:\n",
        "    recent_songs.insert(0, new_song) # Add new song at beginning\n",
        "    print(f\"Added '{new_song}' to cache\")\n",
        "\n",
        "print(f\"Current cache: {recent_songs}\")"
      ]
    },
    {
      "cell_type": "markdown",
      "id": "c8aa075f-47ca-4e89-a3c4-5e8e317066da",
      "metadata": {},
      "source": [
        "> **Tip**\n",
        ">\n",
        "> This behavior would **not have been possible with a tuple**, as we\n",
        "> cannot change the contents of a tuple once it is created!\n",
        "\n",
        "We can also use **lists to store tuples**, which is useful for storing\n",
        "multiple items with different properties. For example, we can store the\n",
        "name and price of items in a shopping cart."
      ]
    },
    {
      "cell_type": "code",
      "execution_count": 8,
      "id": "49baf8ee",
      "metadata": {},
      "outputs": [
        {
          "name": "stdout",
          "output_type": "stream",
          "text": [
            "Current shopping cart: [('MacBook Pro', 1999.99), ('AirPods', 159.99), ('Apple Watch', 399.99)]"
          ]
        }
      ],
      "source": [
        "# Shopping cart cache of a very expensive trip to the Apple store\n",
        "shopping = [(\"MacBook Pro\", 1999.99), (\"AirPods\", 159.99), (\"Apple Watch\", 399.99)]\n",
        "\n",
        "print(f\"Current shopping cart: {shopping}\")"
      ]
    },
    {
      "cell_type": "markdown",
      "id": "14804619-8b70-40ba-9ea1-2d56e65a6d12",
      "metadata": {},
      "source": [
        "## Exercise 3.1: Create a shopping cart cache\n",
        "\n",
        "1.  Make a list `shopping_cart` of **five recently viewed items** in\n",
        "    your shopping cart\n",
        "2.  Create tuples for the item details (name and price) and add them to\n",
        "    the list\n",
        "3.  Ensure that the **name is a string** and the **price is a float**\n",
        "\n",
        "> **Tip**\n",
        ">\n",
        "> First, create a list. Inside the list, the entries should be tuples of\n",
        "> the item name and price."
      ]
    },
    {
      "cell_type": "code",
      "execution_count": 7,
      "id": "feb1844d",
      "metadata": {},
      "outputs": [],
      "source": [
        "# YOUR CODE BELOW\n",
        "shopping_cart = [(\"Ryzen 9 5900X\", 399.99), (\"Asus ROG Strix X570-E\", 199.99), (\"Corsair RM750x\", 129.99), (\"Samsung 980 Pro\", 199.99), (\"G.Skill Trident Z RGB\", 149.99)]"
      ]
    },
    {
      "cell_type": "code",
      "execution_count": 10,
      "id": "b1ed60db",
      "metadata": {},
      "outputs": [
        {
          "name": "stdout",
          "output_type": "stream",
          "text": [
            "Great job! Your shopping cart is ready.\n"
          ]
        }
      ],
      "source": [
        "# Assertions to verify your solution\n",
        "assert len(shopping_cart) == 5, \"shopping_cart should have 5 items\"\n",
        "assert isinstance(shopping_cart, list), \"shopping_cart should be a list\"\n",
        "assert all(isinstance(item, tuple) for item in shopping_cart), \"All items in shopping_cart should be tuples\"\n",
        "assert all(isinstance(item[0], str) and isinstance(item[1], (int, float)) for item in shopping_cart), \"All items in shopping_cart should be tuples with a string and a number\"\n",
        "print(\"Great job! Your shopping cart is ready.\")"
      ]
    },
    {
      "cell_type": "markdown",
      "id": "123cf110-b7f5-4ecf-a9b9-5262040cc8d4",
      "metadata": {},
      "source": [
        "# Section 4 - Loops\n",
        "\n",
        "Loops are essential for cache maintenance and updates, just like how we\n",
        "periodically clean up our browser cache. We know two types of loops:\n",
        "`for` and `while`. The `for` loop is used when we know the number of\n",
        "iterations beforehand, while the `while` loop is used when we don’t."
      ]
    },
    {
      "cell_type": "code",
      "execution_count": 11,
      "id": "340ec31c",
      "metadata": {},
      "outputs": [
        {
          "name": "stdout",
          "output_type": "stream",
          "text": [
            "Items to remove: [('fork', 5), ('spoon', 0)]\n",
            "Cached items after cleanup: [('knife', 12)]\n"
          ]
        }
      ],
      "source": [
        "# Cache cleanup process\n",
        "cached_items = [(\"fork\", 5), (\"spoon\", 0), (\"knife\", 12)] # (item, access_count)\n",
        "min_access_count = 10 # Minimum access count to keep an item\n",
        "\n",
        "items_to_remove = []\n",
        "for item, count in cached_items:\n",
        "    if count < min_access_count:\n",
        "        items_to_remove.append((item, count))\n",
        "\n",
        "print(f\"Items to remove: {items_to_remove}\")\n",
        "\n",
        "for item in items_to_remove:\n",
        "    cached_items.remove(item)\n",
        "\n",
        "print(f\"Cached items after cleanup: {cached_items}\")"
      ]
    },
    {
      "cell_type": "markdown",
      "id": "99a945c5-3feb-405e-957e-9fa634d26880",
      "metadata": {},
      "source": [
        "## Exercise 4.1: Clean up a browser history cache\n",
        "\n",
        "1.  Write a loop to remove sites with low visit counts\n",
        "2.  If the site has been visited **less than 6 times**, remove it from\n",
        "    the cache\n",
        "3.  Print the browser history after cleanup"
      ]
    },
    {
      "cell_type": "code",
      "execution_count": 29,
      "id": "d719c541",
      "metadata": {},
      "outputs": [
        {
          "name": "stdout",
          "output_type": "stream",
          "text": [
            "Browser history after cleanup: [('google.com', 10), ('github.com', 15)]\n"
          ]
        }
      ],
      "source": [
        "browser_history = [\n",
        "    (\"google.com\", 10), \n",
        "    (\"youtube.de\", 5), \n",
        "    (\"amazon.de\", 1), \n",
        "    (\"netflix.de\", 3), \n",
        "    (\"github.com\", 15)\n",
        "]\n",
        "# YOUR CODE BELOW\n",
        "new_browser_history = []\n",
        "for item in browser_history:\n",
        "    if item[1] >= 6:\n",
        "        new_browser_history.append(item)\n",
        "\n",
        "print(f\"New browser history: {new_browser_history}\")\n",
        "\n",
        "browser_history = new_browser_history\n",
        "print(f\"Browser history after cleanup: {browser_history}\")"
      ]
    },
    {
      "cell_type": "code",
      "execution_count": 28,
      "id": "18c90ba1",
      "metadata": {},
      "outputs": [],
      "source": [
        "# Assertions to verify your solution\n",
        "assert len(browser_history) == 2, \"browser_history should have 2 items\"\n",
        "assert isinstance(browser_history, list), \"browser_history should be a list\"\n",
        "assert all(isinstance(item, tuple) for item in browser_history), \"All items in browser_history should be tuples\""
      ]
    },
    {
      "cell_type": "markdown",
      "id": "361e559a-774e-4e5e-9b48-cc4853af0fbd",
      "metadata": {},
      "source": [
        "# Conclusion\n",
        "\n",
        "Understanding these programming fundamentals through the lens of caching\n",
        "helps us see how computers and human decision-making often follow\n",
        "similar patterns. Whether we’re deciding which restaurant to visit or\n",
        "which data to keep in memory, the principles remain surprisingly\n",
        "similar.\n",
        "\n",
        "# Solutions\n",
        "\n",
        "You will likely find solutions to most exercises online. However, we\n",
        "strongly encourage you to work on these exercises independently without\n",
        "searching explicitly for the exact answers to the exercises.\n",
        "Understanding someone else’s solution is very different from developing\n",
        "your own. Use the lecture notes and try to solve the exercises on your\n",
        "own. This approach will significantly enhance your learning and\n",
        "problem-solving skills.\n",
        "\n",
        "Remember, the goal is not just to complete the exercises, but to\n",
        "understand the concepts and improve your programming abilities. If you\n",
        "encounter difficulties, review the lecture materials, experiment with\n",
        "different approaches, and don’t hesitate to ask for clarification during\n",
        "class discussions.\n",
        "\n",
        "Later, you will find the solutions to these exercises online in the\n",
        "associated GitHub repository, but we will also quickly go over them next\n",
        "week. To access the solutions, click on the Github button on the lower\n",
        "right and search for the folder with today’s lecture and tutorial.\n",
        "Alternatively, you can ask ChatGPT or Claude to explain them to you. But\n",
        "please remember, the goal is not just to complete the exercises, but to\n",
        "understand the concepts and improve your programming abilities.\n",
        "\n",
        "------------------------------------------------------------------------\n",
        "\n",
        "*In the next tutorial, we’ll dive deeper into more advanced strategies\n",
        "and some new topics!*"
      ]
    }
  ],
  "metadata": {
    "kernelspec": {
      "display_name": "Python 3 (ipykernel)",
      "language": "python",
      "name": "python3",
      "path": "/Users/tvlcek/miniconda3/share/jupyter/kernels/python3"
    },
    "language_info": {
      "codemirror_mode": {
        "name": "ipython",
        "version": 3
      },
      "file_extension": ".py",
      "mimetype": "text/x-python",
      "name": "python",
      "nbconvert_exporter": "python",
      "pygments_lexer": "ipython3",
      "version": "3.12.3"
    }
  },
  "nbformat": 4,
  "nbformat_minor": 5
}
