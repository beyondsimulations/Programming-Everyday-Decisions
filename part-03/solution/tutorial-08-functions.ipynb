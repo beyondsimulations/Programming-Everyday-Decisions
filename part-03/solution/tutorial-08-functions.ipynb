{
  "cells": [
    {
      "cell_type": "markdown",
      "id": "82020cbc-1ae9-4ec4-95ea-ba0a05a5d9c6",
      "metadata": {},
      "source": [
        "# Tutorial III.II - Functions\n",
        "\n",
        "Programming: Everyday Decision-Making Algorithms\n",
        "\n",
        "# Introduction\n",
        "\n",
        "Imagine you’re a librarian who needs to organize and retrieve books\n",
        "efficiently. Instead of explaining every step of finding a book each\n",
        "time, wouldn’t it be nice to have a set of standard procedures? In\n",
        "programming, **these procedures are called functions!** They help us\n",
        "organize our code into **reusable blocks**, just like having standard\n",
        "procedures in a library.\n",
        "\n",
        "This tutorial will teach you about functions using a **library\n",
        "management system** and **a coffee machine** as an example. We’ll create\n",
        "functions to help us manage books, track their popularity, and implement\n",
        "a simple caching system.\n",
        "\n",
        "> **Real-World Example**\n",
        ">\n",
        "> Think of a function like a coffee machine:\n",
        ">\n",
        "> -   Input (parameters) → Coffee beans, water, settings\n",
        "> -   Process → Internal brewing steps\n",
        "> -   Output (return value) → Your finished coffee\n",
        "\n",
        "# Section 1 - Creating Basic Functions\n",
        "\n",
        "Functions in Python are like recipes:\n",
        "\n",
        "-   They have a name\n",
        "-   Might need ingredients (parameters)\n",
        "-   Follow steps (code)\n",
        "-   Usually produce something (return value)\n",
        "\n",
        "Let’s start with a simple function:"
      ]
    },
    {
      "cell_type": "code",
      "execution_count": 1,
      "id": "26ab0fc8",
      "metadata": {},
      "outputs": [
        {
          "name": "stdout",
          "output_type": "stream",
          "text": [
            "Welcome to the library, Tobias!"
          ]
        }
      ],
      "source": [
        "# A simple function to greet library visitors\n",
        "def greet_visitor(name):\n",
        "    return f\"Welcome to the library, {name}!\"\n",
        "\n",
        "# Using our function\n",
        "message = greet_visitor(\"Tobias\")\n",
        "print(message)"
      ]
    },
    {
      "cell_type": "markdown",
      "id": "72b2aff0-a41f-47c4-8774-e7b7b6e80352",
      "metadata": {},
      "source": [
        "The structure is:\n",
        "\n",
        "1.  The `def` keyword to start defining a function\n",
        "2.  A function name (like `greet_visitor`)\n",
        "3.  Parameters in parentheses (like `name`)\n",
        "4.  A colon `:` to start the function body\n",
        "5.  Indented code that makes up the function\n",
        "6.  Optional `return` statement to send back a value\n",
        "\n",
        "The following illustrates this in a more generic form:"
      ]
    },
    {
      "cell_type": "code",
      "execution_count": 2,
      "id": "bcce890f",
      "metadata": {},
      "outputs": [],
      "source": [
        "def function_name(parameter1, parameter2):  # ← Function signature\n",
        "    result = parameter1 + parameter2        # ← Processing\n",
        "    return result                           # ← Return value"
      ]
    },
    {
      "cell_type": "markdown",
      "id": "7d6fef3c-996f-4770-b234-96391e970a6e",
      "metadata": {},
      "source": [
        "> **Common Function Errors**\n",
        ">\n",
        "> -   `IndentationError`: Check your function’s indentation\n",
        "> -   `NameError`: Make sure the function is defined before calling it\n",
        "> -   `TypeError`: Verify you’re passing the correct number of arguments\n",
        "\n",
        "## Exercise 1.1 - Create a Book Information Function\n",
        "\n",
        "Create a function called `get_book_info` that takes three parameters:\n",
        "`title`, `author`, and `year`. It should return a formatted string with\n",
        "the book’s information.\n",
        "\n",
        "> **Before You Start**\n",
        ">\n",
        "> Common mistakes to avoid:\n",
        ">\n",
        "> -   Don’t forget the spaces in the formatting\n",
        "> -   Remember to use f-strings for easy string formatting\n",
        "> -   Make sure to include the parentheses around the year"
      ]
    },
    {
      "cell_type": "code",
      "execution_count": 1,
      "id": "bfd889c6",
      "metadata": {},
      "outputs": [],
      "source": [
        "# If you call the function like this:\n",
        "# get_book_info(\"Return\", \"Alan Wake\", 2023)\n",
        "# it should return the string:\n",
        "# \"Return by Alan Wake (2023)\"\n",
        "# YOUR CODE BELOW\n",
        "def get_book_info(title, author, year):\n",
        "    return f\"{title} by {author} ({year})\"\n"
      ]
    },
    {
      "cell_type": "code",
      "execution_count": 2,
      "id": "5b7400ed",
      "metadata": {},
      "outputs": [
        {
          "name": "stdout",
          "output_type": "stream",
          "text": [
            "Great job! Your book information function works as expected!\n"
          ]
        }
      ],
      "source": [
        "# Assertions to verify your solution\n",
        "assert get_book_info(\"1984\", \"George Orwell\", 1949) == \"1984 by George Orwell (1949)\"\n",
        "print(\"Great job! Your book information function works as expected!\")"
      ]
    },
    {
      "cell_type": "markdown",
      "id": "b0de0bc5-3688-4664-840c-1b8aba507e3d",
      "metadata": {},
      "source": [
        "# Section 2 - Functions with Decision Making\n",
        "\n",
        "Functions can contain any code we’ve learned before, including if\n",
        "statements. This is useful for making decisions within our functions:"
      ]
    },
    {
      "cell_type": "code",
      "execution_count": 5,
      "id": "01689aba",
      "metadata": {},
      "outputs": [
        {
          "name": "stdout",
          "output_type": "stream",
          "text": [
            "The book is available: True\n",
            "The book is available: False"
          ]
        }
      ],
      "source": [
        "def is_book_available(copies_available, on_hold):\n",
        "    if copies_available > 0 and not on_hold:\n",
        "        return True\n",
        "    else:\n",
        "        return False\n",
        "\n",
        "# Test the function\n",
        "print(\"The book is available:\", is_book_available(3, False))\n",
        "print(\"The book is available:\", is_book_available(0, False))"
      ]
    },
    {
      "cell_type": "markdown",
      "id": "d54f98c2-63e7-495e-8daf-8fceea1fc4ea",
      "metadata": {},
      "source": [
        "Here we use an `if` statement to check if the book is available. If the\n",
        "book is available, we return `True`, otherwise we return `False`. As\n",
        "soon as one of the conditions (in this case `copies_available > 0`) is\n",
        "met, the function returns and does not check the other conditions.\n",
        "\n",
        "## Common Pitfall\n",
        "\n",
        "When using multiple conditions, be careful with the order of operations.\n",
        "Consider using parentheses to make your logic clear:\n",
        "\n",
        "``` python\n",
        "if (copies_available > 0) and (not on_hold):  # More readable than the code above\n",
        "```\n",
        "\n",
        "## Exercise 2.1 - Create a Function to Check if a Book is Popular\n",
        "\n",
        "Create a function called `is_popular` that takes a single parameter\n",
        "`rating`. If the rating is greater than 3, it should return `True`,\n",
        "otherwise it should return `False`."
      ]
    },
    {
      "cell_type": "code",
      "execution_count": 6,
      "id": "7f7b67c9",
      "metadata": {},
      "outputs": [],
      "source": [
        "# YOUR CODE BELOW\n",
        "def is_popular(rating):\n",
        "    if rating > 3:\n",
        "        return True\n",
        "    else:\n",
        "        return False\n"
      ]
    },
    {
      "cell_type": "code",
      "execution_count": 7,
      "id": "437461b2",
      "metadata": {},
      "outputs": [
        {
          "name": "stdout",
          "output_type": "stream",
          "text": [
            "Excellent! Your popular book function works correctly!\n"
          ]
        }
      ],
      "source": [
        "# Assertions to verify your solution\n",
        "assert is_popular(4) == True, \"A rating of 4 or higher is considered popular\"\n",
        "assert is_popular(2) == False, \"A rating of 3 or lower is not popular\"\n",
        "print(\"Excellent! Your popular book function works correctly!\")"
      ]
    },
    {
      "cell_type": "markdown",
      "id": "cc7d784a-ba9c-4323-a180-19c9bfe7edfb",
      "metadata": {},
      "source": [
        "## Exercise 2.2 - Create a Book Access Function\n",
        "\n",
        "Many libraries have borrowing policies that depend on multiple factors.\n",
        "Let’s implement a realistic borrowing policy function that a library\n",
        "might use. Create a function called `can_borrow_book` that takes three\n",
        "parameters:\n",
        "\n",
        "-   `is_member`: boolean indicating if the person is a library member\n",
        "-   `books_borrowed`: number of books currently borrowed\n",
        "-   `has_overdue`: boolean indicating if they have overdue books\n",
        "\n",
        "The function should return `True` only if:\n",
        "\n",
        "-   They are a member AND\n",
        "-   They have borrowed less than 3 books AND\n",
        "-   They have no overdue books"
      ]
    },
    {
      "cell_type": "code",
      "execution_count": 8,
      "id": "d91147b8",
      "metadata": {},
      "outputs": [],
      "source": [
        "# YOUR CODE BELOW\n",
        "def can_borrow_book(is_member, books_borrowed, has_overdue):\n",
        "    if is_member and books_borrowed < 3 and not has_overdue:\n",
        "        return True\n",
        "    else:\n",
        "        return False\n"
      ]
    },
    {
      "cell_type": "code",
      "execution_count": 9,
      "id": "001154ee",
      "metadata": {},
      "outputs": [
        {
          "name": "stdout",
          "output_type": "stream",
          "text": [
            "Excellent! Your borrowing function works as it should!\n"
          ]
        }
      ],
      "source": [
        "# Assertions to verify your solution\n",
        "assert can_borrow_book(True, 2, False) == True, \"Should allow borrowing\"\n",
        "assert can_borrow_book(True, 3, False) == False, \"Should not allow more than 3 books\"\n",
        "assert can_borrow_book(True, 1, True) == False, \"Should not allow with overdue books\"\n",
        "print(\"Excellent! Your borrowing function works as it should!\")"
      ]
    },
    {
      "cell_type": "markdown",
      "id": "b7812a45-9e0e-4349-8928-fcc703e8f249",
      "metadata": {},
      "source": [
        "# Section 3 - Functions with Default Parameters\n",
        "\n",
        "Sometimes we want functions to have default values for parameters. This\n",
        "makes them more flexible, as we don’t have to specify all parameters\n",
        "every time we call the function."
      ]
    },
    {
      "cell_type": "code",
      "execution_count": 10,
      "id": "6c30ef66",
      "metadata": {},
      "outputs": [
        {
          "name": "stdout",
          "output_type": "stream",
          "text": [
            "The fine for 5 days overdue with the default rate is 2.5\n",
            "The fine for 5 days overdue with a custom rate is 5.0\n"
          ]
        }
      ],
      "source": [
        "def calculate_fine(days_overdue, rate_per_day=0.50):\n",
        "    return days_overdue * rate_per_day\n",
        "\n",
        "# Using default rate\n",
        "print(f\"The fine for 5 days overdue with the default rate is {calculate_fine(5)}\")\n",
        "\n",
        "# Using custom rate\n",
        "print(f\"The fine for 5 days overdue with a custom rate is {calculate_fine(5, 1.00)}\")"
      ]
    },
    {
      "cell_type": "markdown",
      "id": "a1d074b4-2b51-482b-9578-49cad6f80eda",
      "metadata": {},
      "source": [
        "## Exercise 3.1 - Create a Cache Priority Function\n",
        "\n",
        "Create a function called `calculate_cache_priority` that helps decide if\n",
        "a book should be kept in the easily accessible section. It should take:\n",
        "\n",
        "-   `times_borrowed`: How many times the book was borrowed\n",
        "-   `days_since_last_borrow`: Days since last borrowed\n",
        "-   `is_reference`: Whether it’s a reference book **(default: False)**\n",
        "\n",
        "Return a priority score calculated as:\n",
        "\n",
        "-   For regular books: `times_borrowed / (days_since_last_borrow + 1)`\n",
        "-   For reference books:\n",
        "    `2 * (times_borrowed / (days_since_last_borrow + 1))`"
      ]
    },
    {
      "cell_type": "code",
      "execution_count": 11,
      "id": "82d94ee5",
      "metadata": {},
      "outputs": [],
      "source": [
        "# YOUR CODE BELOW\n",
        "def calculate_cache_priority(times_borrowed, days_since_last_borrow, is_reference=False):\n",
        "    if is_reference == True:\n",
        "        return 2 * (times_borrowed / (days_since_last_borrow + 1))\n",
        "    else:\n",
        "        return times_borrowed / (days_since_last_borrow + 1)\n"
      ]
    },
    {
      "cell_type": "code",
      "execution_count": 13,
      "id": "fe89f130",
      "metadata": {},
      "outputs": [
        {
          "name": "stdout",
          "output_type": "stream",
          "text": [
            "Great! Your cache priority function works and calculates correctly!\n"
          ]
        }
      ],
      "source": [
        "# Test your answer\n",
        "assert calculate_cache_priority(10, 5) == 10/(5+1), \"Check your regular book calculation\"\n",
        "assert calculate_cache_priority(10, 5, True) == 2*(10/(5+1)), \"Check your reference book calculation\"\n",
        "print(\"Great! Your cache priority function works and calculates correctly!\")"
      ]
    },
    {
      "cell_type": "markdown",
      "id": "d390f607-dcb4-4de7-8cb8-3951271be731",
      "metadata": {},
      "source": [
        "# Section 4 - Introduction to Methods\n",
        "\n",
        "Methods are special types of functions that belong to objects. While\n",
        "regular functions **stand alone**, methods are **always associated with\n",
        "a specific object or data type**. Let’s explore this with some examples:"
      ]
    },
    {
      "cell_type": "code",
      "execution_count": 13,
      "id": "34aac389",
      "metadata": {},
      "outputs": [
        {
          "name": "stdout",
          "output_type": "stream",
          "text": [
            "The Great Gatsby\n",
            "THE GREAT GATSBY"
          ]
        }
      ],
      "source": [
        "# String methods\n",
        "book_title = \"the great gatsby\"\n",
        "print(book_title.title())  # Outputs: \"The Great Gatsby\"\n",
        "print(book_title.upper())  # Outputs: \"THE GREAT GATSBY\""
      ]
    },
    {
      "cell_type": "code",
      "execution_count": 14,
      "id": "cb1a416b",
      "metadata": {},
      "outputs": [
        {
          "name": "stdout",
          "output_type": "stream",
          "text": [
            "Books before sorting: ['Neuromancer', '1984', 'Foundation', 'Dune']\n",
            "Books after sorting: ['1984', 'Dune', 'Foundation', 'Neuromancer']"
          ]
        }
      ],
      "source": [
        "# List methods\n",
        "books = [\"Neuromancer\", \"1984\", \"Foundation\"]\n",
        "books.append(\"Dune\")  # Adds a book to the list\n",
        "print(\"Books before sorting:\", books)\n",
        "books.sort()          # Sorts the list alphabetically\n",
        "print(\"Books after sorting:\", books)"
      ]
    },
    {
      "cell_type": "markdown",
      "id": "67f85202-18fa-4b4d-849c-b13ca092bf2b",
      "metadata": {},
      "source": [
        "> **Functions vs Methods**\n",
        ">\n",
        "> The main difference:\n",
        ">\n",
        "> -   Functions are called directly: `function_name(arguments)`\n",
        "> -   Methods are called on objects: `object.method_name(arguments)`\n",
        "\n",
        "## Exercise 4.1 - Working with String Methods and Functions\n",
        "\n",
        "Create a function called `format_book_title` that takes a book title as\n",
        "input and:\n",
        "\n",
        "1.  Capitalizes the first letter of each word\n",
        "2.  Removes any extra whitespace\n",
        "3.  Returns the formatted title\n",
        "\n",
        "> **Common String Methods**\n",
        ">\n",
        "> -   `.strip()` - Removes whitespace from start and end\n",
        "> -   `.title()` - Capitalizes first letter of each word\n",
        "> -   `.lower()` - Converts to lowercase\n",
        "> -   `.upper()` - Converts to uppercase"
      ]
    },
    {
      "cell_type": "code",
      "execution_count": 4,
      "id": "55f2efe1",
      "metadata": {},
      "outputs": [
        {
          "name": "stdout",
          "output_type": "stream",
          "text": [
            "the hitchhikers guide\n",
            "The Hitchhikers Guide\n",
            "dune\n",
            "Dune\n"
          ]
        },
        {
          "data": {
            "text/plain": [
              "'Dune'"
            ]
          },
          "execution_count": 4,
          "metadata": {},
          "output_type": "execute_result"
        }
      ],
      "source": [
        "# YOUR CODE BELOW\n",
        "def format_book_title(title):\n",
        "    title = title.strip()\n",
        "    print(title)\n",
        "    title = title.title()\n",
        "    print(title)\n",
        "    return title"
      ]
    },
    {
      "cell_type": "code",
      "execution_count": 2,
      "id": "bc99798e",
      "metadata": {},
      "outputs": [
        {
          "name": "stdout",
          "output_type": "stream",
          "text": [
            "the hitchhikers guide\n",
            "The Hitchhikers Guide\n",
            "dune\n",
            "Dune\n",
            "Excellent! Your title formatting function works correctly!\n"
          ]
        }
      ],
      "source": [
        "# Test your answer\n",
        "assert format_book_title(\"  the hitchhikers guide  \") == \"The Hitchhikers Guide\", \"Check your whitespace removal\"\n",
        "assert format_book_title(\"dune\") == \"Dune\", \"Check your capitalization\"\n",
        "print(\"Excellent! Your title formatting function works correctly!\")"
      ]
    },
    {
      "cell_type": "markdown",
      "id": "e8d01a3d-bef8-4ab0-97cd-17fc24b148cb",
      "metadata": {},
      "source": [
        "# Conclusion\n",
        "\n",
        "Excellent work! You’ve learned how to create and use functions in Python\n",
        "through the lens of library management. You now know how to:\n",
        "\n",
        "-   Create basic functions with parameters\n",
        "-   Use functions with decision-making logic\n",
        "-   Work with default parameters\n",
        "-   Return values from functions\n",
        "\n",
        "Remember:\n",
        "\n",
        "-   Functions help us organize and reuse code\n",
        "-   They make our code more readable and maintainable\n",
        "-   They can take inputs (parameters) and produce outputs (return\n",
        "    values)\n",
        "-   They can have default values for parameters\n",
        "\n",
        "In a real library system, functions like these would be part of a larger\n",
        "caching system that helps optimize book retrieval times and improve user\n",
        "experience!\n",
        "\n",
        "# Solutions\n",
        "\n",
        "You will likely find solutions to most exercises online. However, we\n",
        "strongly encourage you to work on these exercises independently without\n",
        "searching explicitly for the exact answers to the exercises.\n",
        "Understanding someone else’s solution is very different from developing\n",
        "your own. Use the lecture notes and try to solve the exercises on your\n",
        "own. This approach will significantly enhance your learning and\n",
        "problem-solving skills.\n",
        "\n",
        "Remember, the goal is not just to complete the exercises, but to\n",
        "understand the concepts and improve your programming abilities. If you\n",
        "encounter difficulties, review the lecture materials, experiment with\n",
        "different approaches, and don’t hesitate to ask for clarification during\n",
        "class discussions.\n",
        "\n",
        "Later, you will find the solutions to these exercises online in the\n",
        "associated GitHub repository, but we will also quickly go over them next\n",
        "week. To access the solutions, click on the Github button on the lower\n",
        "right and search for the folder with today’s lecture and tutorial.\n",
        "Alternatively, you can ask ChatGPT or Claude to explain them to you. But\n",
        "please remember, the goal is not just to complete the exercises, but to\n",
        "understand the concepts and improve your programming abilities.\n",
        "\n",
        "------------------------------------------------------------------------\n",
        "\n",
        "*In the next tutorial, we’ll take a look on how to import packages and\n",
        "libraries to extend our functionality!*"
      ]
    }
  ],
  "metadata": {
    "kernelspec": {
      "display_name": "Python 3 (ipykernel)",
      "language": "python",
      "name": "python3",
      "path": "/Users/tvlcek/miniconda3/share/jupyter/kernels/python3"
    },
    "language_info": {
      "codemirror_mode": {
        "name": "ipython",
        "version": 3
      },
      "file_extension": ".py",
      "mimetype": "text/x-python",
      "name": "python",
      "nbconvert_exporter": "python",
      "pygments_lexer": "ipython3",
      "version": "3.12.3"
    }
  },
  "nbformat": 4,
  "nbformat_minor": 5
}
